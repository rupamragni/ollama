{
 "cells": [
  {
   "cell_type": "code",
   "execution_count": null,
   "metadata": {},
   "outputs": [],
   "source": [
    "# pip install langchain\n",
    "# pip install langchain-ollama\n",
    "# pip install python-dotenv\n",
    "# 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"
   ]
  },
  {
   "cell_type": "code",
   "execution_count": 4,
   "metadata": {},
   "outputs": [],
   "source": [
    "from langchain_ollama import ChatOllama\n",
    "import os"
   ]
  },
  {
   "cell_type": "code",
   "execution_count": 1,
   "metadata": {},
   "outputs": [
    {
     "data": {
      "text/plain": [
       "True"
      ]
     },
     "execution_count": 1,
     "metadata": {},
     "output_type": "execute_result"
    }
   ],
   "source": [
    "from dotenv import load_dotenv\n",
    "load_dotenv()"
   ]
  },
  {
   "cell_type": "code",
   "execution_count": 3,
   "metadata": {},
   "outputs": [
    {
     "data": {
      "text/plain": [
       "'https://api.smith.langchain.com'"
      ]
     },
     "execution_count": 3,
     "metadata": {},
     "output_type": "execute_result"
    }
   ],
   "source": [
    "os.environ['LANGCHAIN_ENDPOINT']"
   ]
  },
  {
   "cell_type": "code",
   "execution_count": 25,
   "metadata": {},
   "outputs": [],
   "source": [
    "\n",
    "\n",
    "base_url=\"http://localhost:11434\"\n",
    "model = 'llama3.2:1b'\n",
    "# model='sheldon'\n",
    "\n",
    "\n",
    "\n",
    "\n",
    "llm = ChatOllama(\n",
    "    base_url=base_url,\n",
    "    model = model,\n",
    "    temperature = 0.8,\n",
    "    num_predict = 256,\n",
    "    # other params ...\n",
    ")\n"
   ]
  },
  {
   "cell_type": "code",
   "execution_count": 26,
   "metadata": {},
   "outputs": [
    {
     "name": "stdout",
     "output_type": "stream",
     "text": [
      "Making tea is a simple process that requires just a few ingredients and some basic equipment. Here's a step-by-step guide on how to make tea:\n",
      "\n",
      "**Materials needed:**\n",
      "\n",
      "* Teapot\n",
      "* Tea leaves or tea bags (choose your favorite type of tea)\n",
      "* Water\n",
      "* Sugar and milk (optional)\n",
      "\n",
      "**Basic Steps:**\n",
      "\n",
      "1. **Choose your tea:** Select the type of tea you want to make, such as black, green, white, oolong, or herbal.\n",
      "2. **Heat the water:** Bring fresh, filtered water to a boil in a kettle or on the stovetop.\n",
      "3. **Measure the water:** Use one teaspoon of loose-leaf tea or one tea bag for every 8 oz (250 ml) of water.\n",
      "4. **Steep the tea:** Pour the hot water over the tea leaves or tea bag and let it steep for the recommended time:\n",
      "\t* Black tea: 3-5 minutes\n",
      "\t* Green tea: 2-3 minutes\n",
      "\t* White tea: 2-3 minutes\n",
      "\t* Oolong tea: 3-5 minutes\n",
      "\t* Herbal tea: 5-7 minutes\n",
      "5. **Strain the tea:** If using loose-leaf tea\n"
     ]
    }
   ],
   "source": [
    "response=llm.invoke('how to make tea')\n",
    "print(response.content)"
   ]
  },
  {
   "cell_type": "code",
   "execution_count": null,
   "metadata": {},
   "outputs": [
    {
     "name": "stdout",
     "output_type": "stream",
     "text": [
      "content='How can I help you today?' additional_kwargs={} response_metadata={'model': 'llama3.2:1b', 'created_at': '2025-03-26T08:15:01.753123Z', 'done': True, 'done_reason': 'stop', 'total_duration': 229473417, 'load_duration': 31579500, 'prompt_eval_count': 26, 'prompt_eval_duration': 71512292, 'eval_count': 8, 'eval_duration': 125752167, 'message': Message(role='assistant', content='', images=None, tool_calls=None)} id='run-8f39201b-2e34-426b-9211-d2ecac037ba6-0' usage_metadata={'input_tokens': 26, 'output_tokens': 8, 'total_tokens': 34}\n"
     ]
    }
   ],
   "source": []
  },
  {
   "cell_type": "code",
   "execution_count": null,
   "metadata": {},
   "outputs": [],
   "source": []
  }
 ],
 "metadata": {
  "kernelspec": {
   "display_name": "genaienv",
   "language": "python",
   "name": "python3"
  },
  "language_info": {
   "codemirror_mode": {
    "name": "ipython",
    "version": 3
   },
   "file_extension": ".py",
   "mimetype": "text/x-python",
   "name": "python",
   "nbconvert_exporter": "python",
   "pygments_lexer": "ipython3",
   "version": "3.11.3"
  }
 },
 "nbformat": 4,
 "nbformat_minor": 2
}
