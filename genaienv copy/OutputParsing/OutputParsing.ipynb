{
 "cells": [
  {
   "cell_type": "markdown",
   "metadata": {},
   "source": [
    "## Pydantic Output parser"
   ]
  },
  {
   "cell_type": "code",
   "execution_count": 1,
   "metadata": {},
   "outputs": [
    {
     "name": "stdout",
     "output_type": "stream",
     "text": [
      "https://api.smith.langchain.com\n"
     ]
    }
   ],
   "source": [
    "from dotenv import load_dotenv\n",
    "import os\n",
    "\n",
    "env_path = \"../OllamaSetup/.env\"  # Relative path from PromptTemplates\n",
    "load_dotenv(env_path)\n",
    "\n",
    "# Check if variables are loaded\n",
    "print(os.getenv(\"LANGCHAIN_ENDPOINT\")) "
   ]
  },
  {
   "cell_type": "code",
   "execution_count": 2,
   "metadata": {},
   "outputs": [],
   "source": [
    "from langchain_ollama import ChatOllama\n",
    "base_url=\"http://localhost:11434\"\n",
    "#model = 'llama3.2:1b'\n",
    "# model='sheldon'\n",
    "model = 'llama3.2:3b'\n",
    "\n",
    "\n",
    "llm = ChatOllama(\n",
    "    base_url=base_url,\n",
    "    model = model)"
   ]
  },
  {
   "cell_type": "code",
   "execution_count": 3,
   "metadata": {},
   "outputs": [],
   "source": [
    "from langchain_core.prompts import (\n",
    "                                        SystemMessagePromptTemplate,\n",
    "                                        HumanMessagePromptTemplate,\n",
    "                                        ChatPromptTemplate,\n",
    "                                        PromptTemplate\n",
    ")\n"
   ]
  },
  {
   "cell_type": "code",
   "execution_count": 4,
   "metadata": {},
   "outputs": [],
   "source": [
    "from typing import Optional\n",
    "from pydantic import BaseModel , Field\n",
    "from langchain_core.output_parsers import PydanticOutputParser\n"
   ]
  },
  {
   "cell_type": "code",
   "execution_count": 13,
   "metadata": {},
   "outputs": [],
   "source": [
    "class Joke(BaseModel):\n",
    "    \"\"\"\" Joke to tell user  \"\"\"\n",
    "\n",
    "    setup : str = Field(description=\"The setup of the joke\")\n",
    "    punchline : str = Field(description=\"The punchline of the joke\")\n",
    "    rating : Optional[int] = Field(description=\"Rating of the joke is from 1 to 10 \",default=None)\n",
    "    "
   ]
  },
  {
   "cell_type": "code",
   "execution_count": 6,
   "metadata": {},
   "outputs": [
    {
     "data": {
      "text/plain": [
       "PydanticOutputParser(pydantic_object=<class '__main__.Joke'>)"
      ]
     },
     "execution_count": 6,
     "metadata": {},
     "output_type": "execute_result"
    }
   ],
   "source": [
    "parser= PydanticOutputParser(pydantic_object=Joke)\n",
    "parser"
   ]
  },
  {
   "cell_type": "code",
   "execution_count": 7,
   "metadata": {},
   "outputs": [
    {
     "name": "stdout",
     "output_type": "stream",
     "text": [
      "The output should be formatted as a JSON instance that conforms to the JSON schema below.\n",
      "\n",
      "As an example, for the schema {\"properties\": {\"foo\": {\"title\": \"Foo\", \"description\": \"a list of strings\", \"type\": \"array\", \"items\": {\"type\": \"string\"}}}, \"required\": [\"foo\"]}\n",
      "the object {\"foo\": [\"bar\", \"baz\"]} is a well-formatted instance of the schema. The object {\"properties\": {\"foo\": [\"bar\", \"baz\"]}} is not well-formatted.\n",
      "\n",
      "Here is the output schema:\n",
      "```\n",
      "{\"description\": \"\\\" Joke to tell user  \", \"properties\": {\"setup\": {\"description\": \"The setup of the joke\", \"title\": \"Setup\", \"type\": \"string\"}, \"punchline\": {\"description\": \"The punchline of the joke\", \"title\": \"Punchline\", \"type\": \"string\"}, \"rating\": {\"anyOf\": [{\"type\": \"integer\"}, {\"type\": \"null\"}], \"description\": \"Rating of the joke is from 1 to 10\", \"title\": \"Rating\"}}, \"required\": [\"setup\", \"punchline\", \"rating\"]}\n",
      "```\n"
     ]
    }
   ],
   "source": [
    "instruction = parser.get_format_instructions()\n",
    "print(instruction)"
   ]
  },
  {
   "cell_type": "code",
   "execution_count": 8,
   "metadata": {},
   "outputs": [
    {
     "data": {
      "text/plain": [
       "PromptTemplate(input_variables=['query'], input_types={}, partial_variables={'format_instruction': 'The output should be formatted as a JSON instance that conforms to the JSON schema below.\\n\\nAs an example, for the schema {\"properties\": {\"foo\": {\"title\": \"Foo\", \"description\": \"a list of strings\", \"type\": \"array\", \"items\": {\"type\": \"string\"}}}, \"required\": [\"foo\"]}\\nthe object {\"foo\": [\"bar\", \"baz\"]} is a well-formatted instance of the schema. The object {\"properties\": {\"foo\": [\"bar\", \"baz\"]}} is not well-formatted.\\n\\nHere is the output schema:\\n```\\n{\"description\": \"\\\\\" Joke to tell user  \", \"properties\": {\"setup\": {\"description\": \"The setup of the joke\", \"title\": \"Setup\", \"type\": \"string\"}, \"punchline\": {\"description\": \"The punchline of the joke\", \"title\": \"Punchline\", \"type\": \"string\"}, \"rating\": {\"anyOf\": [{\"type\": \"integer\"}, {\"type\": \"null\"}], \"description\": \"Rating of the joke is from 1 to 10\", \"title\": \"Rating\"}}, \"required\": [\"setup\", \"punchline\", \"rating\"]}\\n```'}, template=' \\n    Answer the user query with a joke. Here is your formating instructions .\\n    {format_instruction}\\n\\n    Query: {query}\\n    Answer:\\n ')"
      ]
     },
     "execution_count": 8,
     "metadata": {},
     "output_type": "execute_result"
    }
   ],
   "source": [
    "Joke_prompt= PromptTemplate(\n",
    "    template = ''' \n",
    "    Answer the user query with a joke. Here is your formating instructions .\n",
    "    {format_instruction}\n",
    "\n",
    "    Query: {query}\n",
    "    Answer:\n",
    " ''',\n",
    " input_variables=['query'],\n",
    " partial_variables={'format_instruction': parser.get_format_instructions()}\n",
    ")\n",
    "\n",
    "Joke_prompt"
   ]
  },
  {
   "cell_type": "code",
   "execution_count": 9,
   "metadata": {},
   "outputs": [
    {
     "name": "stdout",
     "output_type": "stream",
     "text": [
      "{\n",
      "  \"properties\": {\n",
      "    \"setup\": {\"description\": \"Why did the dog go to the vet?\", \"title\": \"Setup\", \"type\": \"string\"},\n",
      "    \"punchline\": {\"description\": \"Because he was feeling ruff!\", \"title\": \"Punchline\", \"type\": \"string\"},\n",
      "    \"rating\": {\"anyOf\": [{\"type\": \"integer\"}, {\"type\": \"null\"}], \"description\": \"Rating of the joke is from 1 to 10\", \"title\": \"Rating\"}\n",
      "  },\n",
      "  \"required\": [\"setup\", \"punchline\", \"rating\"]\n",
      "}\n"
     ]
    }
   ],
   "source": [
    "Joke_Chain = Joke_prompt | llm\n",
    "Joke_output = Joke_Chain.invoke({'query': 'Tell me a joke about the dog'})\n",
    "print(Joke_output.content)"
   ]
  },
  {
   "cell_type": "markdown",
   "metadata": {},
   "source": [
    "### Joke with better format"
   ]
  },
  {
   "cell_type": "code",
   "execution_count": 10,
   "metadata": {},
   "outputs": [
    {
     "name": "stdout",
     "output_type": "stream",
     "text": [
      "setup='Why did the dog go to the vet?' punchline='Because he was feeling ruff!' rating=8\n"
     ]
    }
   ],
   "source": [
    "Joke_Chain_mod = Joke_prompt | llm | parser\n",
    "Joke_output_mod = Joke_Chain_mod.invoke({'query': 'Tell me a joke about the dog'})\n",
    "print(Joke_output_mod)"
   ]
  },
  {
   "cell_type": "markdown",
   "metadata": {},
   "source": [
    "### parsing with .with_structured_output() method"
   ]
  },
  {
   "cell_type": "code",
   "execution_count": 12,
   "metadata": {},
   "outputs": [
    {
     "name": "stdout",
     "output_type": "stream",
     "text": [
      "Why did the dog go to the vet?\n",
      "\n",
      "Because he was feeling ruff!\n"
     ]
    }
   ],
   "source": [
    "output = llm.invoke('Tell me a joke about the dog')\n",
    "print(output.content)"
   ]
  },
  {
   "cell_type": "code",
   "execution_count": 14,
   "metadata": {},
   "outputs": [
    {
     "name": "stdout",
     "output_type": "stream",
     "text": [
      "setup='Why did the dog go to the vet?' punchline='Because he was feeling ruff!' rating=None\n"
     ]
    }
   ],
   "source": [
    "structured_llm = llm.with_structured_output(Joke)\n",
    "structured_output = structured_llm.invoke('Tell me a joke about the dog')\n",
    "print(structured_output)"
   ]
  },
  {
   "cell_type": "markdown",
   "metadata": {},
   "source": [
    "## JSON Output Parser"
   ]
  },
  {
   "cell_type": "code",
   "execution_count": 15,
   "metadata": {},
   "outputs": [],
   "source": [
    "from langchain_core.output_parsers import JsonOutputParser"
   ]
  },
  {
   "cell_type": "code",
   "execution_count": 16,
   "metadata": {},
   "outputs": [
    {
     "name": "stdout",
     "output_type": "stream",
     "text": [
      "The output should be formatted as a JSON instance that conforms to the JSON schema below.\n",
      "\n",
      "As an example, for the schema {\"properties\": {\"foo\": {\"title\": \"Foo\", \"description\": \"a list of strings\", \"type\": \"array\", \"items\": {\"type\": \"string\"}}}, \"required\": [\"foo\"]}\n",
      "the object {\"foo\": [\"bar\", \"baz\"]} is a well-formatted instance of the schema. The object {\"properties\": {\"foo\": [\"bar\", \"baz\"]}} is not well-formatted.\n",
      "\n",
      "Here is the output schema:\n",
      "```\n",
      "{\"description\": \"\\\" Joke to tell user  \", \"properties\": {\"setup\": {\"description\": \"The setup of the joke\", \"title\": \"Setup\", \"type\": \"string\"}, \"punchline\": {\"description\": \"The punchline of the joke\", \"title\": \"Punchline\", \"type\": \"string\"}, \"rating\": {\"anyOf\": [{\"type\": \"integer\"}, {\"type\": \"null\"}], \"default\": null, \"description\": \"Rating of the joke is from 1 to 10 \", \"title\": \"Rating\"}}, \"required\": [\"setup\", \"punchline\"]}\n",
      "```\n"
     ]
    }
   ],
   "source": [
    "parser= JsonOutputParser(pydantic_object=Joke)\n",
    "print(parser.get_format_instructions())"
   ]
  },
  {
   "cell_type": "code",
   "execution_count": 17,
   "metadata": {},
   "outputs": [
    {
     "data": {
      "text/plain": [
       "PromptTemplate(input_variables=['query'], input_types={}, partial_variables={'format_instruction': 'The output should be formatted as a JSON instance that conforms to the JSON schema below.\\n\\nAs an example, for the schema {\"properties\": {\"foo\": {\"title\": \"Foo\", \"description\": \"a list of strings\", \"type\": \"array\", \"items\": {\"type\": \"string\"}}}, \"required\": [\"foo\"]}\\nthe object {\"foo\": [\"bar\", \"baz\"]} is a well-formatted instance of the schema. The object {\"properties\": {\"foo\": [\"bar\", \"baz\"]}} is not well-formatted.\\n\\nHere is the output schema:\\n```\\n{\"description\": \"\\\\\" Joke to tell user  \", \"properties\": {\"setup\": {\"description\": \"The setup of the joke\", \"title\": \"Setup\", \"type\": \"string\"}, \"punchline\": {\"description\": \"The punchline of the joke\", \"title\": \"Punchline\", \"type\": \"string\"}, \"rating\": {\"anyOf\": [{\"type\": \"integer\"}, {\"type\": \"null\"}], \"default\": null, \"description\": \"Rating of the joke is from 1 to 10 \", \"title\": \"Rating\"}}, \"required\": [\"setup\", \"punchline\"]}\\n```'}, template=' \\n    Answer the user query with a joke. Here is your formating instructions .\\n    {format_instruction}\\n\\n    Query: {query}\\n    Answer:\\n ')"
      ]
     },
     "execution_count": 17,
     "metadata": {},
     "output_type": "execute_result"
    }
   ],
   "source": [
    "Joke_prompt= PromptTemplate(\n",
    "    template = ''' \n",
    "    Answer the user query with a joke. Here is your formating instructions .\n",
    "    {format_instruction}\n",
    "\n",
    "    Query: {query}\n",
    "    Answer:\n",
    " ''',\n",
    " input_variables=['query'],\n",
    " partial_variables={'format_instruction': parser.get_format_instructions()}\n",
    ")\n",
    "\n",
    "Joke_prompt"
   ]
  },
  {
   "cell_type": "code",
   "execution_count": 21,
   "metadata": {},
   "outputs": [
    {
     "name": "stdout",
     "output_type": "stream",
     "text": [
      "{\n",
      "  \"properties\": {\n",
      "    \"foo\": {\n",
      "      \"description\": \"The punchline of the joke\",\n",
      "      \"title\": \"Why did the dog go to the vet?\",\n",
      "      \"type\": \"string\"\n",
      "    }\n",
      "  },\n",
      "  \"required\": [\"foo\"]\n",
      "}\n"
     ]
    }
   ],
   "source": [
    "Json_Chain= Joke_prompt | llm\n",
    "Json_output = Json_Chain.invoke({'query': 'Tell me a joke about the dog'})\n",
    "print(Json_output.content)"
   ]
  },
  {
   "cell_type": "code",
   "execution_count": 23,
   "metadata": {},
   "outputs": [
    {
     "name": "stdout",
     "output_type": "stream",
     "text": [
      "{'setup': 'Why did the dog go to the vet?', 'punchline': 'Because he was feeling ruff!', 'rating': None}\n"
     ]
    }
   ],
   "source": [
    "Json_Chain_mod= Joke_prompt | llm | parser\n",
    "Json_output_mod=  Json_Chain_mod.invoke({'query': 'Tell me a joke about the dog'})\n",
    "print(Json_output_mod)"
   ]
  },
  {
   "cell_type": "markdown",
   "metadata": {},
   "source": [
    "## CSV Output Parser"
   ]
  },
  {
   "cell_type": "code",
   "execution_count": 37,
   "metadata": {},
   "outputs": [],
   "source": [
    "from langchain_core.output_parsers import CommaSeparatedListOutputParser"
   ]
  },
  {
   "cell_type": "code",
   "execution_count": 38,
   "metadata": {},
   "outputs": [
    {
     "name": "stdout",
     "output_type": "stream",
     "text": [
      "Your response should be a list of comma separated values, eg: `foo, bar, baz` or `foo,bar,baz`\n"
     ]
    }
   ],
   "source": [
    "#parser= CommaSeparatedListOutputParser(pydantic_object=Joke)\n",
    "parser= CommaSeparatedListOutputParser()\n",
    "print(parser.get_format_instructions())"
   ]
  },
  {
   "cell_type": "code",
   "execution_count": 39,
   "metadata": {},
   "outputs": [],
   "source": [
    "format_instruction= parser.get_format_instructions"
   ]
  },
  {
   "cell_type": "code",
   "execution_count": 41,
   "metadata": {},
   "outputs": [
    {
     "data": {
      "text/plain": [
       "PromptTemplate(input_variables=['query'], input_types={}, partial_variables={'format_instruction': 'Your response should be a list of comma separated values, eg: `foo, bar, baz` or `foo,bar,baz`'}, template=' \\n    Answer the user query with a list of values. Here is your formating instructions .\\n    {format_instruction}\\n\\n    Query: {query}\\n    Answer:\\n ')"
      ]
     },
     "execution_count": 41,
     "metadata": {},
     "output_type": "execute_result"
    }
   ],
   "source": [
    "CSV_prompt= PromptTemplate(\n",
    "    template = ''' \n",
    "    Answer the user query with a list of values. Here is your formating instructions .\n",
    "    {format_instruction}\n",
    "\n",
    "    Query: {query}\n",
    "    Answer:\n",
    " ''',\n",
    " input_variables=['query'],\n",
    " partial_variables={'format_instruction': parser.get_format_instructions()}\n",
    ")\n",
    "\n",
    "CSV_prompt"
   ]
  },
  {
   "cell_type": "code",
   "execution_count": 42,
   "metadata": {},
   "outputs": [
    {
     "name": "stdout",
     "output_type": "stream",
     "text": [
      "natural language processing, language models, artificial intelligence, machine learning, deep learning, sentiment analysis, text classification, natural language generation\n"
     ]
    }
   ],
   "source": [
    "CSV_Chain= CSV_prompt | llm\n",
    "CSV_output = CSV_Chain.invoke({'query': 'Generate my website seo keywords.I have content about NLP and LLM'})\n",
    "print(CSV_output.content)"
   ]
  },
  {
   "cell_type": "code",
   "execution_count": 43,
   "metadata": {},
   "outputs": [
    {
     "name": "stdout",
     "output_type": "stream",
     "text": [
      "['nlp', 'llm', 'ai', 'machine learning', 'deep learning', 'natural language processing', 'language models', 'text analysis', 'semantic search', 'content generation', 'artificial intelligence', 'sentiment analysis', 'language understanding', 'chatbots', 'human-computer interaction', 'data science', 'machine learning applications.']\n"
     ]
    }
   ],
   "source": [
    "CSV_Chain_mod= CSV_prompt | llm | parser\n",
    "CSV_output_mod = CSV_Chain_mod.invoke({'query': 'Generate my website seo keywords.I have content about NLP and LLM'})\n",
    "print(CSV_output_mod)"
   ]
  },
  {
   "cell_type": "markdown",
   "metadata": {},
   "source": [
    "## Datetime Output Parsing"
   ]
  },
  {
   "cell_type": "code",
   "execution_count": 44,
   "metadata": {},
   "outputs": [],
   "source": [
    "from langchain.output_parsers import DatetimeOutputParser"
   ]
  },
  {
   "cell_type": "code",
   "execution_count": 45,
   "metadata": {},
   "outputs": [
    {
     "name": "stdout",
     "output_type": "stream",
     "text": [
      "<bound method DatetimeOutputParser.get_format_instructions of DatetimeOutputParser()>\n"
     ]
    }
   ],
   "source": [
    "parser=DatetimeOutputParser()\n",
    "format_instruction= parser.get_format_instructions\n",
    "print(format_instruction)"
   ]
  },
  {
   "cell_type": "code",
   "execution_count": 46,
   "metadata": {},
   "outputs": [
    {
     "data": {
      "text/plain": [
       "PromptTemplate(input_variables=['query'], input_types={}, partial_variables={'format_instruction': \"Write a datetime string that matches the following pattern: '%Y-%m-%dT%H:%M:%S.%fZ'.\\n\\nExamples: 1697-09-12T09:31:18.323380Z, 1687-07-28T06:09:35.826897Z, 1752-08-06T10:00:08.500496Z\\n\\nReturn ONLY this string, no other words!\"}, template=' \\n    Answer the user query with a datetime. Here is your formating instructions .\\n    {format_instruction}\\n\\n    Query: {query}\\n    Answer:\\n ')"
      ]
     },
     "execution_count": 46,
     "metadata": {},
     "output_type": "execute_result"
    }
   ],
   "source": [
    "Datetime_prompt= PromptTemplate(\n",
    "    template = ''' \n",
    "    Answer the user query with a datetime. Here is your formating instructions .\n",
    "    {format_instruction}\n",
    "\n",
    "    Query: {query}\n",
    "    Answer:\n",
    " ''',\n",
    " input_variables=['query'],\n",
    " partial_variables={'format_instruction': parser.get_format_instructions()}\n",
    ")\n",
    "\n",
    "Datetime_prompt"
   ]
  },
  {
   "cell_type": "code",
   "execution_count": 47,
   "metadata": {},
   "outputs": [
    {
     "name": "stdout",
     "output_type": "stream",
     "text": [
      "1492-08-03 04:00:00\n"
     ]
    }
   ],
   "source": [
    "Datetime_chain= Datetime_prompt | llm | parser\n",
    "Datetime_output = Datetime_chain.invoke({'query': 'When was America Discovered'})\n",
    "print(Datetime_output)"
   ]
  },
  {
   "cell_type": "code",
   "execution_count": 48,
   "metadata": {},
   "outputs": [
    {
     "name": "stdout",
     "output_type": "stream",
     "text": [
      "1947-08-15 18:45:00\n"
     ]
    }
   ],
   "source": [
    "Datetime_chain= Datetime_prompt | llm | parser\n",
    "Datetime_output = Datetime_chain.invoke({'query': 'When India got independence'})\n",
    "print(Datetime_output)"
   ]
  },
  {
   "cell_type": "code",
   "execution_count": null,
   "metadata": {},
   "outputs": [],
   "source": []
  }
 ],
 "metadata": {
  "kernelspec": {
   "display_name": "genaienv",
   "language": "python",
   "name": "python3"
  },
  "language_info": {
   "codemirror_mode": {
    "name": "ipython",
    "version": 3
   },
   "file_extension": ".py",
   "mimetype": "text/x-python",
   "name": "python",
   "nbconvert_exporter": "python",
   "pygments_lexer": "ipython3",
   "version": "3.11.3"
  }
 },
 "nbformat": 4,
 "nbformat_minor": 2
}
