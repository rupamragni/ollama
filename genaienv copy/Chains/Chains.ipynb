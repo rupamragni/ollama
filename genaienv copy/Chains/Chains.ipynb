{
 "cells": [
  {
   "cell_type": "code",
   "execution_count": 1,
   "metadata": {},
   "outputs": [
    {
     "name": "stdout",
     "output_type": "stream",
     "text": [
      "https://api.smith.langchain.com\n"
     ]
    }
   ],
   "source": [
    "from dotenv import load_dotenv\n",
    "import os\n",
    "\n",
    "env_path = \"../OllamaSetup/.env\"  # Relative path from PromptTemplates\n",
    "load_dotenv(env_path)\n",
    "\n",
    "# Check if variables are loaded\n",
    "print(os.getenv(\"LANGCHAIN_ENDPOINT\")) "
   ]
  },
  {
   "cell_type": "markdown",
   "metadata": {},
   "source": [
    "## Sequential LCEL"
   ]
  },
  {
   "cell_type": "code",
   "execution_count": 2,
   "metadata": {},
   "outputs": [],
   "source": [
    "from langchain_ollama import ChatOllama\n",
    "base_url=\"http://localhost:11434\"\n",
    "model = 'llama3.2:1b'\n",
    "# model='sheldon'\n",
    "\n",
    "\n",
    "llm = ChatOllama(\n",
    "    base_url=base_url,\n",
    "    model = model)"
   ]
  },
  {
   "cell_type": "code",
   "execution_count": null,
   "metadata": {},
   "outputs": [],
   "source": [
    "from langchain_core.prompts import (\n",
    "                                        SystemMessagePromptTemplate,\n",
    "                                        HumanMessagePromptTemplate,\n",
    "                                        ChatPromptTemplate\n",
    ")\n"
   ]
  },
  {
   "cell_type": "code",
   "execution_count": 9,
   "metadata": {},
   "outputs": [
    {
     "name": "stdout",
     "output_type": "stream",
     "text": [
      "Here are five key points about planets:\n",
      "\n",
      "1. There are eight planets in our solar system, divided into two categories: the inner planets (Mercury to Venus) and the outer planets (Neptune to Uranus).\n",
      "2. The eight planets in our solar system are: Mercury, Mars, Earth, Jupiter, Saturn, Uranus, Neptune, and Pluto.\n",
      "3. Our Sun is the star at the center of our solar system, and it gives us light and heat for life on Earth.\n",
      "4. The four inner planets (Mercury to Venus) are very hot during the day and get much colder at night due to their close proximity to the Sun.\n",
      "5. The outer planets (Jupiter to Neptune) are icy and have very thin atmospheres, with Jupiter being the largest planet in our solar system.\n"
     ]
    }
   ],
   "source": [
    "question = HumanMessagePromptTemplate.from_template(\"Tell me about {topic} in {points} points\")\n",
    "sys_message = SystemMessagePromptTemplate.from_template(\"You are {role}.You answer in short sentences\")\n",
    "\n",
    "input_msg=[sys_message,question]\n",
    "input_template= ChatPromptTemplate(input_msg)\n",
    "\n",
    "final_question = input_template.invoke({'topic':'Planets','points':'5','role':'teacher'})\n",
    "final_question\n",
    "ans= llm.invoke(final_question)\n",
    "print(ans.content)\n"
   ]
  },
  {
   "cell_type": "markdown",
   "metadata": {},
   "source": [
    "### using chain"
   ]
  },
  {
   "cell_type": "code",
   "execution_count": 10,
   "metadata": {},
   "outputs": [],
   "source": [
    "question = HumanMessagePromptTemplate.from_template(\"Tell me about {topic} in {points} points\")\n",
    "sys_message = SystemMessagePromptTemplate.from_template(\"You are {role}.You answer in short sentences\")\n",
    "\n",
    "input_msg=[sys_message,question]\n",
    "input_template= ChatPromptTemplate(input_msg)"
   ]
  },
  {
   "cell_type": "code",
   "execution_count": 11,
   "metadata": {},
   "outputs": [
    {
     "data": {
      "text/plain": [
       "ChatPromptTemplate(input_variables=['points', 'role', 'topic'], input_types={}, partial_variables={}, messages=[SystemMessagePromptTemplate(prompt=PromptTemplate(input_variables=['role'], input_types={}, partial_variables={}, template='You are {role}.You answer in short sentences'), additional_kwargs={}), HumanMessagePromptTemplate(prompt=PromptTemplate(input_variables=['points', 'topic'], input_types={}, partial_variables={}, template='Tell me about {topic} in {points} points'), additional_kwargs={})])\n",
       "| ChatOllama(model='llama3.2:1b', base_url='http://localhost:11434')"
      ]
     },
     "execution_count": 11,
     "metadata": {},
     "output_type": "execute_result"
    }
   ],
   "source": [
    "input_chain= input_template | llm\n",
    "input_chain"
   ]
  },
  {
   "cell_type": "code",
   "execution_count": 13,
   "metadata": {},
   "outputs": [
    {
     "name": "stdout",
     "output_type": "stream",
     "text": [
      "Here's what I know about planets:\n",
      "\n",
      "1. The Sun is the center of our solar system, and it makes up 99% of its mass.\n",
      "2. There are eight planets in our solar system: Mercury, Venus, Earth, Mars, Jupiter, Saturn, Uranus, and Neptune.\n",
      "3. Planets can be classified into two types: terrestrial (rocky) planets like Earth and Mars, and gas giants like Jupiter and Saturn.\n",
      "4. The largest planet is Jupiter, which has a diameter of over 89,000 miles. The smallest planet is Mercury, which has a diameter of about 4,879 miles.\n",
      "5. Each planet has its own unique features, such as moons, rings, and atmospheres.\n"
     ]
    }
   ],
   "source": [
    "ans= input_chain.invoke({'topic':'Planets','points':'5','role':'teacher'})\n",
    "print(ans.content)"
   ]
  },
  {
   "cell_type": "code",
   "execution_count": 14,
   "metadata": {},
   "outputs": [
    {
     "data": {
      "text/plain": [
       "AIMessage(content=\"Here's what I know about planets:\\n\\n1. The Sun is the center of our solar system, and it makes up 99% of its mass.\\n2. There are eight planets in our solar system: Mercury, Venus, Earth, Mars, Jupiter, Saturn, Uranus, and Neptune.\\n3. Planets can be classified into two types: terrestrial (rocky) planets like Earth and Mars, and gas giants like Jupiter and Saturn.\\n4. The largest planet is Jupiter, which has a diameter of over 89,000 miles. The smallest planet is Mercury, which has a diameter of about 4,879 miles.\\n5. Each planet has its own unique features, such as moons, rings, and atmospheres.\", additional_kwargs={}, response_metadata={'model': 'llama3.2:1b', 'created_at': '2025-03-26T13:49:02.862737Z', 'done': True, 'done_reason': 'stop', 'total_duration': 2610837125, 'load_duration': 31438708, 'prompt_eval_count': 42, 'prompt_eval_duration': 65890583, 'eval_count': 149, 'eval_duration': 2512801459, 'message': Message(role='assistant', content='', images=None, tool_calls=None)}, id='run-0a6fe3e7-3b30-4760-9978-ab0c2173d210-0', usage_metadata={'input_tokens': 42, 'output_tokens': 149, 'total_tokens': 191})"
      ]
     },
     "execution_count": 14,
     "metadata": {},
     "output_type": "execute_result"
    }
   ],
   "source": [
    "ans"
   ]
  },
  {
   "cell_type": "markdown",
   "metadata": {},
   "source": [
    "## StrOutput Parser"
   ]
  },
  {
   "cell_type": "code",
   "execution_count": 15,
   "metadata": {},
   "outputs": [],
   "source": [
    "from langchain_core.output_parsers import StrOutputParser"
   ]
  },
  {
   "cell_type": "code",
   "execution_count": 17,
   "metadata": {},
   "outputs": [
    {
     "name": "stdout",
     "output_type": "stream",
     "text": [
      "Here are five key points about planets:\n",
      "\n",
      "1. **There are eight planets in our solar system**: Mercury, Mars, Jupiter, Saturn, Uranus, Neptune, and Pluto.\n",
      "\n",
      "2. **The four gas giants are massive**: Jupiter is the largest planet in our solar system, with a diameter of over 139,000 km.\n",
      "\n",
      "3. **Mars is known as the Red Planet**: It has reddish appearance due to iron oxide in its soil.\n",
      "\n",
      "4. **Jupiter's atmosphere is unique**: The planet has storm systems that can be thousands of kilometers wide and have winds up to 644 km/h.\n",
      "\n",
      "5. **Pluto is no longer considered a planet**: In 2006, it was reclassified as a dwarf planet by the International Astronomical Union (IAU).\n"
     ]
    }
   ],
   "source": [
    "str_chain= input_template | llm | StrOutputParser()\n",
    "ans= str_chain.invoke({'topic':'Planets','points':'5','role':'teacher'})\n",
    "print(ans)"
   ]
  },
  {
   "cell_type": "markdown",
   "metadata": {},
   "source": [
    "## Chain Multiple Runnables"
   ]
  },
  {
   "cell_type": "code",
   "execution_count": 18,
   "metadata": {},
   "outputs": [
    {
     "data": {
      "text/plain": [
       "ChatPromptTemplate(input_variables=['points', 'role', 'topic'], input_types={}, partial_variables={}, messages=[SystemMessagePromptTemplate(prompt=PromptTemplate(input_variables=['role'], input_types={}, partial_variables={}, template='You are {role}.You answer in short sentences'), additional_kwargs={}), HumanMessagePromptTemplate(prompt=PromptTemplate(input_variables=['points', 'topic'], input_types={}, partial_variables={}, template='Tell me about {topic} in {points} points'), additional_kwargs={})])\n",
       "| ChatOllama(model='llama3.2:1b', base_url='http://localhost:11434')\n",
       "| StrOutputParser()"
      ]
     },
     "execution_count": 18,
     "metadata": {},
     "output_type": "execute_result"
    }
   ],
   "source": [
    "str_chain"
   ]
  },
  {
   "cell_type": "code",
   "execution_count": 19,
   "metadata": {},
   "outputs": [
    {
     "name": "stdout",
     "output_type": "stream",
     "text": [
      "The text requires a moderate level of understanding, with complex sentences and concepts such as \"gas giants\", unique features like Jupiter's storm systems, and the reclassification of Pluto.\n"
     ]
    }
   ],
   "source": [
    "analysis_prompt= ChatPromptTemplate.from_template(''' Analyze the following text : {prev_response}\n",
    "                                                 You need to tell me how difficult it is to understand.\n",
    "                                                  Answer in one sentence only\n",
    "                                                  ''')\n",
    "\n",
    "fact_check_chain = analysis_prompt | llm | StrOutputParser()\n",
    "output = fact_check_chain.invoke({'prev_response': ans})\n",
    "print(output)"
   ]
  },
  {
   "cell_type": "code",
   "execution_count": 27,
   "metadata": {},
   "outputs": [
    {
     "name": "stdout",
     "output_type": "stream",
     "text": [
      "The text requires a basic understanding of astronomy and the terms used to describe planets, with some minor explanations necessary for comprehension.\n"
     ]
    }
   ],
   "source": [
    "composed_chain = {\"prev_response\": str_chain } | analysis_prompt | llm | StrOutputParser()\n",
    "multiple_chain_output =  composed_chain.invoke({'topic':'Planets','points':'5','role':'phd teacher'})\n",
    "print(multiple_chain_output)"
   ]
  },
  {
   "cell_type": "code",
   "execution_count": 28,
   "metadata": {},
   "outputs": [
    {
     "name": "stdout",
     "output_type": "stream",
     "text": [
      "The text is written at a very basic level, using simple sentences and concepts that would be easy for an 8-year-old to understand.\n"
     ]
    }
   ],
   "source": [
    "composed_chain = {\"prev_response\": str_chain } | analysis_prompt | llm | StrOutputParser()\n",
    "multiple_chain_output =  composed_chain.invoke({'topic':'Planets','points':'5','role':'scientist'})\n",
    "print(multiple_chain_output)"
   ]
  },
  {
   "cell_type": "markdown",
   "metadata": {},
   "source": [
    "## Parallel LCEL"
   ]
  },
  {
   "cell_type": "code",
   "execution_count": 30,
   "metadata": {},
   "outputs": [
    {
     "name": "stdout",
     "output_type": "stream",
     "text": [
      "Here's the information you requested:\n",
      "\n",
      "1. **What are planets?** - Planets are massive, rocky or gaseous bodies that orbit around stars.\n",
      "\n",
      "2. **7 planets in our solar system**: \n",
      "    * Mercury\n",
      "    * Mars\n",
      "    * Venus\n",
      "    * Earth\n",
      "    * Neptune\n",
      "    * Uranus\n",
      "    * Saturn\n",
      "\n",
      "3. **Diameter and Mass of Planets**:\n",
      "    - Mercury's diameter: 4,879 km\n",
      "    - Mars' diameter: 6,794 km\n",
      "    - Earth's diameter: 12,742 km\n",
      "    - Neptune's diameter: 49,528 km\n",
      "    - Uranus' diameter: 51,118 km\n",
      "\n",
      "4. **Types of Planets**: \n",
      "    * Rocky planets (Mercury to Mars)\n",
      "    * Gas giants (Jupiter, Saturn)\n",
      "\n",
      "5. **How are planets discovered?**:\n",
      "    - Telescopes can detect objects orbiting stars.\n",
      "    - Astronomers study the movement and behavior of these objects.\n"
     ]
    }
   ],
   "source": [
    "question = HumanMessagePromptTemplate.from_template(\"Tell me about {topic} in {points} points\")\n",
    "sys_message = SystemMessagePromptTemplate.from_template(\"You are {role}.You answer in short sentences\")\n",
    "\n",
    "message=[sys_message,question]\n",
    "template= ChatPromptTemplate(message)\n",
    "\n",
    "fact_chain= template | llm | StrOutputParser()\n",
    "\n",
    "fact_chain_output = fact_chain.invoke({'topic':'Planets','points':'5','role':'teacher'})\n",
    "print(fact_chain_output)\n"
   ]
  },
  {
   "cell_type": "code",
   "execution_count": 31,
   "metadata": {},
   "outputs": [
    {
     "name": "stdout",
     "output_type": "stream",
     "text": [
      "Here's a short poem about planets:\n",
      "\n",
      "Eight planets dance in space\n",
      "Mercury's the closest, a tiny pace\n",
      "Venus shines bright with heat and fire\n",
      "Mars is red, with valleys high\n",
      "Jupiter's massive, a gas so wide\n"
     ]
    }
   ],
   "source": [
    "question = HumanMessagePromptTemplate.from_template(\"Write poem on {topic} in {sentences} lines\")\n",
    "\n",
    "\n",
    "message=[sys_message,question]\n",
    "template= ChatPromptTemplate(message)\n",
    "\n",
    "poem_chain= template | llm | StrOutputParser()\n",
    "\n",
    "poem_chain_output = poem_chain.invoke({'topic':'Planets','sentences':'5','role':'teacher'})\n",
    "print(poem_chain_output)"
   ]
  },
  {
   "cell_type": "code",
   "execution_count": 32,
   "metadata": {},
   "outputs": [],
   "source": [
    "from langchain_core.runnables import RunnableParallel"
   ]
  },
  {
   "cell_type": "code",
   "execution_count": 33,
   "metadata": {},
   "outputs": [
    {
     "data": {
      "text/plain": [
       "{\n",
       "  fact: ChatPromptTemplate(input_variables=['points', 'role', 'topic'], input_types={}, partial_variables={}, messages=[SystemMessagePromptTemplate(prompt=PromptTemplate(input_variables=['role'], input_types={}, partial_variables={}, template='You are {role}.You answer in short sentences'), additional_kwargs={}), HumanMessagePromptTemplate(prompt=PromptTemplate(input_variables=['points', 'topic'], input_types={}, partial_variables={}, template='Tell me about {topic} in {points} points'), additional_kwargs={})])\n",
       "        | ChatOllama(model='llama3.2:1b', base_url='http://localhost:11434')\n",
       "        | StrOutputParser(),\n",
       "  poem: ChatPromptTemplate(input_variables=['role', 'sentences', 'topic'], input_types={}, partial_variables={}, messages=[SystemMessagePromptTemplate(prompt=PromptTemplate(input_variables=['role'], input_types={}, partial_variables={}, template='You are {role}.You answer in short sentences'), additional_kwargs={}), HumanMessagePromptTemplate(prompt=PromptTemplate(input_variables=['sentences', 'topic'], input_types={}, partial_variables={}, template='Write poem on {topic} in {sentences} lines'), additional_kwargs={})])\n",
       "        | ChatOllama(model='llama3.2:1b', base_url='http://localhost:11434')\n",
       "        | StrOutputParser()\n",
       "}"
      ]
     },
     "execution_count": 33,
     "metadata": {},
     "output_type": "execute_result"
    }
   ],
   "source": [
    "parallel_chain = RunnableParallel(fact=fact_chain,poem=poem_chain)\n",
    "parallel_chain"
   ]
  },
  {
   "cell_type": "code",
   "execution_count": 35,
   "metadata": {},
   "outputs": [
    {
     "name": "stdout",
     "output_type": "stream",
     "text": [
      "{'fact': 'Here are 8 key points about planets:\\n\\n1. Mercury is the closest planet to the sun, with temperatures ranging from -170°C to 427°C.\\n2. Venus has a thick atmosphere that traps heat, making it the hottest planet at 462°C.\\n3. Mars is known as the Red Planet due to its reddish appearance, which is caused by iron oxide in the soil.\\n4. Jupiter is the largest planet, with a diameter of over 142,000 km and a mass more than 200 times that of Earth.\\n5. Saturn has at least 62 moons, including the famous moon of Titan, which has a thick atmosphere.\\n6. Uranus spins on its side, resulting in extreme seasons on this icy planet.\\n7. Neptune is the farthest planet from the sun, with winds reaching up to 2,100 km/h.\\n8. Pluto was previously considered a planet but is now classified as a dwarf planet due to its small size and irregular orbit.', 'poem': \"Here's a short poem about planets:\\n\\nIn the sky, they orbit round,\\nEight planets spinning, all around.\\nMercury's first, closest to the sun,\\nVenus shines bright, with a radiant fun,\\nEarth is home, where we live and have begun.\"}\n"
     ]
    }
   ],
   "source": [
    "parallel_chain_output = parallel_chain.invoke({'topic':'Planets','sentences':'5','points' : '8', 'role':'teacher'})\n",
    "print(parallel_chain_output)"
   ]
  },
  {
   "cell_type": "code",
   "execution_count": 36,
   "metadata": {},
   "outputs": [
    {
     "name": "stdout",
     "output_type": "stream",
     "text": [
      "Here are 8 key points about planets:\n",
      "\n",
      "1. Mercury is the closest planet to the sun, with temperatures ranging from -170°C to 427°C.\n",
      "2. Venus has a thick atmosphere that traps heat, making it the hottest planet at 462°C.\n",
      "3. Mars is known as the Red Planet due to its reddish appearance, which is caused by iron oxide in the soil.\n",
      "4. Jupiter is the largest planet, with a diameter of over 142,000 km and a mass more than 200 times that of Earth.\n",
      "5. Saturn has at least 62 moons, including the famous moon of Titan, which has a thick atmosphere.\n",
      "6. Uranus spins on its side, resulting in extreme seasons on this icy planet.\n",
      "7. Neptune is the farthest planet from the sun, with winds reaching up to 2,100 km/h.\n",
      "8. Pluto was previously considered a planet but is now classified as a dwarf planet due to its small size and irregular orbit.\n",
      "\n",
      "\n",
      "\n",
      "Here's a short poem about planets:\n",
      "\n",
      "In the sky, they orbit round,\n",
      "Eight planets spinning, all around.\n",
      "Mercury's first, closest to the sun,\n",
      "Venus shines bright, with a radiant fun,\n",
      "Earth is home, where we live and have begun.\n"
     ]
    }
   ],
   "source": [
    "print(parallel_chain_output['fact'])\n",
    "print('\\n\\n')\n",
    "print(parallel_chain_output['poem'])"
   ]
  },
  {
   "cell_type": "markdown",
   "metadata": {},
   "source": [
    "## Chain Router"
   ]
  },
  {
   "cell_type": "code",
   "execution_count": 42,
   "metadata": {},
   "outputs": [
    {
     "data": {
      "text/plain": [
       "'Positive'"
      ]
     },
     "execution_count": 42,
     "metadata": {},
     "output_type": "execute_result"
    }
   ],
   "source": [
    "prompt = \"\"\" Given the user review below, classify it as either 'Positive' or 'Negative'\n",
    "             Do not respond with more than one word.\n",
    "\n",
    "             Review : {review}\n",
    "             Classification : \"\"\"\n",
    "\n",
    "template = ChatPromptTemplate.from_template(prompt)\n",
    "chain = template | llm | StrOutputParser()\n",
    "\n",
    "review = \"Thank you so much for providing such a great service . I am really happy with the service\"\n",
    "chain.invoke({'review': review})"
   ]
  },
  {
   "cell_type": "code",
   "execution_count": 41,
   "metadata": {},
   "outputs": [
    {
     "data": {
      "text/plain": [
       "'Negative'"
      ]
     },
     "execution_count": 41,
     "metadata": {},
     "output_type": "execute_result"
    }
   ],
   "source": [
    "review = \"I am not happy with the service. It is not good\"\n",
    "chain.invoke({'review': review})"
   ]
  },
  {
   "cell_type": "code",
   "execution_count": 47,
   "metadata": {},
   "outputs": [],
   "source": [
    "Positive_prompt = \"\"\" \n",
    "                You are an expert in writing replies for positive reviews.\n",
    "                You need to encourage the user to share their experience on social media.\n",
    "\n",
    "                Review : {review}\n",
    "                Answer : \"\"\"\n",
    "\n",
    "\n",
    "Positive_template = ChatPromptTemplate.from_template(Positive_prompt)\n",
    "Positive_chain = Positive_template | llm | StrOutputParser()"
   ]
  },
  {
   "cell_type": "code",
   "execution_count": 44,
   "metadata": {},
   "outputs": [],
   "source": [
    "Negative_prompt = \"\"\" \n",
    "                You are an expert in writing replies for negative reviews.\n",
    "                You need to first apologise for the inconvenience caused to the user.\n",
    "                You need to encourage the user to share their concern on following email 'abc.com'.\n",
    "\n",
    "                Review : {review}\n",
    "                Answer : \"\"\"\n",
    "\n",
    "\n",
    "Negative_template = ChatPromptTemplate.from_template(Negative_prompt)\n",
    "Negative_chain = Negative_template | llm | StrOutputParser()"
   ]
  },
  {
   "cell_type": "code",
   "execution_count": 48,
   "metadata": {},
   "outputs": [],
   "source": [
    "def route(info):\n",
    "    if 'positive' in info['sentiment'].lower():\n",
    "        return Positive_chain\n",
    "    else:\n",
    "        return Negative_chain\n",
    "\n",
    "    "
   ]
  },
  {
   "cell_type": "code",
   "execution_count": 49,
   "metadata": {},
   "outputs": [
    {
     "data": {
      "text/plain": [
       "ChatPromptTemplate(input_variables=['review'], input_types={}, partial_variables={}, messages=[HumanMessagePromptTemplate(prompt=PromptTemplate(input_variables=['review'], input_types={}, partial_variables={}, template=' \\n                You are an expert in writing replies for positive reviews.\\n                You need to encourage the user to share their experience on social media.\\n\\n                Review : {review}\\n                Answer : '), additional_kwargs={})])\n",
       "| ChatOllama(model='llama3.2:1b', base_url='http://localhost:11434')\n",
       "| StrOutputParser()"
      ]
     },
     "execution_count": 49,
     "metadata": {},
     "output_type": "execute_result"
    }
   ],
   "source": [
    "route({'sentiment':'positive'})"
   ]
  },
  {
   "cell_type": "markdown",
   "metadata": {},
   "source": [
    "## Runnable lambda"
   ]
  },
  {
   "cell_type": "code",
   "execution_count": 50,
   "metadata": {},
   "outputs": [],
   "source": [
    "from langchain_core.runnables import RunnableLambda"
   ]
  },
  {
   "cell_type": "code",
   "execution_count": 53,
   "metadata": {},
   "outputs": [
    {
     "data": {
      "text/plain": [
       "{\n",
       "  sentiment: ChatPromptTemplate(input_variables=['review'], input_types={}, partial_variables={}, messages=[HumanMessagePromptTemplate(prompt=PromptTemplate(input_variables=['review'], input_types={}, partial_variables={}, template=\" Given the user review below, classify it as either 'Positive' or 'Negative'\\n             Do not respond with more than one word.\\n\\n             Review : {review}\\n             Classification : \"), additional_kwargs={})])\n",
       "             | ChatOllama(model='llama3.2:1b', base_url='http://localhost:11434')\n",
       "             | StrOutputParser(),\n",
       "  review: RunnableLambda(lambda x: x['review'])\n",
       "}\n",
       "| RunnableLambda(route)"
      ]
     },
     "execution_count": 53,
     "metadata": {},
     "output_type": "execute_result"
    }
   ],
   "source": [
    "full_chain = {'sentiment': chain , 'review' : lambda x: x['review']} | RunnableLambda(route)\n",
    "full_chain"
   ]
  },
  {
   "cell_type": "code",
   "execution_count": 56,
   "metadata": {},
   "outputs": [
    {
     "name": "stdout",
     "output_type": "stream",
     "text": [
      "\"I just wanted to take a moment to express my sincere gratitude for the amazing experience I had with your company. You truly delivered on your promises, and I'm thrilled with the results. If you're in need of any further assistance or simply want to share some great news, don't hesitate to reach out. I'd love to see what other wonderful experiences you have lined up! Share a post about your fantastic service on social media and let's spread the word!\"\n"
     ]
    }
   ],
   "source": [
    "review = \"Thank you so much for providing such a great service . I am really happy with the service\"\n",
    "output= full_chain.invoke({'review': review})\n",
    "print(output)"
   ]
  },
  {
   "cell_type": "code",
   "execution_count": 55,
   "metadata": {},
   "outputs": [
    {
     "name": "stdout",
     "output_type": "stream",
     "text": [
      "I'm so sorry to hear that your experience with our service hasn't met your expectations. We apologize for any inconvenience this has caused, and we understand that you're dissatisfied with the outcome.\n",
      "\n",
      "We value your feedback and would like to help resolve this issue further. Could you please tell us more about what specifically didn't meet your expectations? Your input will assist us in improving our services to better serve all our customers.\n",
      "\n",
      "Additionally, if there's anything on our website or in our recent communications that might have been missed or unclear, please let us know and we'll make sure to address it. We're committed to providing the best possible service to each of you, and your feedback is crucial in helping us achieve this goal.\n",
      "\n",
      "If you ever need assistance or have any further concerns, don't hesitate to reach out to us directly through our website or by sending an email on abc.com. Your satisfaction is our priority, and we're always here to listen and respond. Thank you for sharing your concern with us, and we hope to have the opportunity to serve you better in the future.\n"
     ]
    }
   ],
   "source": [
    "review = \"I am not happy with the service. It is not good\"\n",
    "output= full_chain.invoke({'review': review})\n",
    "print(output)"
   ]
  },
  {
   "cell_type": "markdown",
   "metadata": {},
   "source": [
    "## Custom Chain Runnable"
   ]
  },
  {
   "cell_type": "code",
   "execution_count": 57,
   "metadata": {},
   "outputs": [],
   "source": [
    "from langchain_core.runnables import RunnablePassthrough , RunnableLambda"
   ]
  },
  {
   "cell_type": "code",
   "execution_count": 67,
   "metadata": {},
   "outputs": [],
   "source": [
    "def char_count(text):\n",
    "    return len(text)\n",
    "\n",
    "def word_count(text):\n",
    "    return len(text.split())"
   ]
  },
  {
   "cell_type": "code",
   "execution_count": 64,
   "metadata": {},
   "outputs": [],
   "source": [
    "prompt = ChatPromptTemplate.from_template(\"Explain these inputs in 4 sentences: {input1} and {input2}\")"
   ]
  },
  {
   "cell_type": "code",
   "execution_count": 65,
   "metadata": {},
   "outputs": [
    {
     "name": "stdout",
     "output_type": "stream",
     "text": [
      "You're referring to the basic elements of our solar system. The Earth is a planet, specifically one of the rocky planets located in the outer reaches of the solar system. A star, on the other hand, is a massive celestial body that generates its own light and heat through nuclear reactions in its core, such as the Sun. This fundamental distinction between planets and stars helps us understand the unique characteristics and properties of each type of object in our cosmic neighborhood.\n"
     ]
    }
   ],
   "source": [
    "chain= prompt | llm | StrOutputParser()\n",
    "\n",
    "output = chain.invoke({'input1': 'Earth is planet' , 'input2' : 'Sun is star'})\n",
    "print(output)"
   ]
  },
  {
   "cell_type": "code",
   "execution_count": 70,
   "metadata": {},
   "outputs": [
    {
     "name": "stdout",
     "output_type": "stream",
     "text": [
      "{'char_count': 486, 'word_count': 84, 'output': 'You are referring to the basic components of our solar system. The Earth is a planet, specifically a terrestrial planet that orbits around the Sun due to its massive size and gravitational pull. In this context, a star is simply an enormous ball of hot, glowing gas, such as our Sun, which shines light and heat into space. When we say \"planet\" or \"star\", these terms are often used interchangeably, but technically speaking, planets are larger and more massive than stars like the Sun.'}\n"
     ]
    }
   ],
   "source": [
    "runnable_chain = prompt | llm | StrOutputParser() | {'char_count': RunnableLambda(char_count),\n",
    "                                                      'word_count' : RunnableLambda(word_count),\n",
    "                                                      'output': RunnablePassthrough()}\n",
    "runnable_output = runnable_chain.invoke({'input1': 'Earth is planet' , 'input2' : 'Sun is star'})\n",
    "print(runnable_output)"
   ]
  },
  {
   "cell_type": "markdown",
   "metadata": {},
   "source": [
    "## Chain Decoractor\n"
   ]
  },
  {
   "cell_type": "code",
   "execution_count": 71,
   "metadata": {},
   "outputs": [],
   "source": [
    "from langchain_core.runnables import chain"
   ]
  },
  {
   "cell_type": "code",
   "execution_count": 72,
   "metadata": {},
   "outputs": [
    {
     "name": "stdout",
     "output_type": "stream",
     "text": [
      "Planets are massive, rocky or gaseous bodies that orbit around a star. Here are two key points:\n",
      "\n",
      "1. There are eight planets in our solar system: Mercury, Mars, Venus, Earth, Neptune, Uranus, Saturn, and Jupiter.\n",
      "2. Planets have unique features like atmosphere, moons, rings, and magnetic fields that make them interesting to study.\n",
      "\n",
      "\n",
      "\n",
      "Planets spinning in the sky,\n",
      "Eight celestial bodies passing by,\n",
      "Dancing stars, a celestial sigh.\n"
     ]
    }
   ],
   "source": [
    "@chain\n",
    "\n",
    "def custom_chain(params):\n",
    "    return{\n",
    "        'fact': fact_chain.invoke(params),\n",
    "        'poem': poem_chain.invoke(params)\n",
    "    }\n",
    "\n",
    "params= {'topic':'Planets','sentences':'3','points' : '2', 'role':'teacher'}\n",
    "output = custom_chain.invoke(params)\n",
    "\n",
    "print(output['fact'])\n",
    "print('\\n\\n')\n",
    "print(output['poem'])"
   ]
  },
  {
   "cell_type": "code",
   "execution_count": null,
   "metadata": {},
   "outputs": [],
   "source": []
  }
 ],
 "metadata": {
  "kernelspec": {
   "display_name": "genaienv",
   "language": "python",
   "name": "python3"
  },
  "language_info": {
   "codemirror_mode": {
    "name": "ipython",
    "version": 3
   },
   "file_extension": ".py",
   "mimetype": "text/x-python",
   "name": "python",
   "nbconvert_exporter": "python",
   "pygments_lexer": "ipython3",
   "version": "3.11.3"
  }
 },
 "nbformat": 4,
 "nbformat_minor": 2
}
