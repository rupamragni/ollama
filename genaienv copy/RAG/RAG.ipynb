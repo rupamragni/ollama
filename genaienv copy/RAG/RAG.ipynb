{
 "cells": [
  {
   "cell_type": "code",
   "execution_count": 1,
   "metadata": {},
   "outputs": [
    {
     "data": {
      "text/plain": [
       "True"
      ]
     },
     "execution_count": 1,
     "metadata": {},
     "output_type": "execute_result"
    }
   ],
   "source": [
    "import os\n",
    "import warnings\n",
    "from dotenv import load_dotenv\n",
    "\n",
    "#If you get duplicate error run---\n",
    "\n",
    "#os.environ['KMP_DUPLICATE_LIB_OK'] = 'True'\n",
    "#warnings.filterwarnings(\"ignore\")\n",
    "# ----\n",
    "\n",
    "\n",
    "env_path = \"../OllamaSetup/.env\"  \n",
    "load_dotenv(env_path)"
   ]
  },
  {
   "cell_type": "code",
   "execution_count": 2,
   "metadata": {},
   "outputs": [],
   "source": [
    "from langchain_ollama import OllamaEmbeddings\n",
    "import faiss\n",
    "from langchain_community.vectorstores import FAISS\n",
    "from langchain_community.docstore.in_memory import InMemoryDocstore"
   ]
  },
  {
   "cell_type": "code",
   "execution_count": 3,
   "metadata": {},
   "outputs": [],
   "source": [
    "embeddings = OllamaEmbeddings(model= 'nomic-embed-text:latest',base_url='http://localhost:11434')"
   ]
  },
  {
   "cell_type": "code",
   "execution_count": 7,
   "metadata": {},
   "outputs": [],
   "source": [
    "db_name =\"/Users/ragnirupam/Desktop/GenAIProjects/genaienv/VectorStoreAndRetrievals/health_supplements\"\n",
    "#db_name= \"health_supplements\"\n",
    "vector_store= FAISS.load_local(db_name,embeddings, allow_dangerous_deserialization=True)"
   ]
  },
  {
   "cell_type": "code",
   "execution_count": 8,
   "metadata": {},
   "outputs": [
    {
     "data": {
      "text/plain": [
       "[Document(id='e143abd7-93de-4cae-a226-ecaaae84e469', metadata={'producer': 'iLovePDF', 'creator': '', 'creationdate': '', 'source': 'rag-dataset/gym supplements/2. High Prevalence of Supplement Intake.pdf', 'file_path': 'rag-dataset/gym supplements/2. High Prevalence of Supplement Intake.pdf', 'total_pages': 11, 'format': 'PDF 1.5', 'title': '', 'author': '', 'subject': '', 'keywords': '', 'moddate': '2024-10-21T11:39:04+00:00', 'trapped': '', 'modDate': 'D:20241021113904Z', 'creationDate': '', 'page': 8}, page_content='and strength gain among men. We detected more prevalent protein and creatine supplementation\\namong younger compared to older ﬁtness center users, whereas the opposite was found for vitamin\\nsupplementation. Other authors made similar observations [23] and it might reﬂect the diﬀerent\\ntraining goals among age groups, i.e., more focus on strength and muscles among the younger and\\nmore focus on health among the older age groups.\\nComparable to other studies [4], we detected a positive correlation between training frequency\\nand supplement usage. Nevertheless, the correlation is weak and is deﬁnitely not a predictor at the\\nindividual level. The subject with the highest supplement intake of 100 weekly servings was training\\nonly once a week.'),\n",
       " Document(id='6b109f56-8484-4c93-a26e-6c5b078b839d', metadata={'producer': 'iLovePDF', 'creator': '', 'creationdate': '', 'source': 'rag-dataset/gym supplements/2. High Prevalence of Supplement Intake.pdf', 'file_path': 'rag-dataset/gym supplements/2. High Prevalence of Supplement Intake.pdf', 'total_pages': 11, 'format': 'PDF 1.5', 'title': '', 'author': '', 'subject': '', 'keywords': '', 'moddate': '2024-10-21T11:39:04+00:00', 'trapped': '', 'modDate': 'D:20241021113904Z', 'creationDate': '', 'page': 5}, page_content='for two training goals. Improving health was named by 59%, 60%, 75%, and 89% as a training goal\\namong the four age groups beginning from the youngest to the oldest group. On the other hand, body\\nshaping was named by 69%, 55%, 41%, and 17% among the four age groups.'),\n",
       " Document(id='2b4342ba-48bd-4b0e-9cd5-d8b155987ed7', metadata={'producer': 'iLovePDF', 'creator': '', 'creationdate': '', 'source': 'rag-dataset/gym supplements/1. Analysis of Actual Fitness Supplement.pdf', 'file_path': 'rag-dataset/gym supplements/1. Analysis of Actual Fitness Supplement.pdf', 'total_pages': 15, 'format': 'PDF 1.7', 'title': '', 'author': '', 'subject': '', 'keywords': '', 'moddate': '2024-10-21T11:38:50+00:00', 'trapped': '', 'modDate': 'D:20241021113850Z', 'creationDate': '', 'page': 0}, page_content='acids than traditional protein sources. Its numerous benefits have made it a popular choice\\nfor snacks and drinks among consumers [3]. Another widely embraced supplement is\\ncaffeine, which is found in many sports and food supplements. Caffeine reduces perceived\\neffort, minimizes fatigue and pain, and proves to be effective for endurance and high-\\nintensity activities, which is the choice of consumers [4].\\nCreatine monohydrate is another well-known supplement used to gain muscle mass\\nand support performance and recovery. It is known not to increase fat mass and remains\\neffective even when taken in recommended doses [5]. Despite its popularity in the fitness\\nFoods 2024, 13, 1424. https://doi.org/10.3390/foods13091424\\nhttps://www.mdpi.com/journal/foods'),\n",
       " Document(id='364a4835-3e95-49c5-b551-a4f079145cb2', metadata={'producer': 'iLovePDF', 'creator': '', 'creationdate': '', 'source': 'rag-dataset/gym supplements/2. High Prevalence of Supplement Intake.pdf', 'file_path': 'rag-dataset/gym supplements/2. High Prevalence of Supplement Intake.pdf', 'total_pages': 11, 'format': 'PDF 1.5', 'title': '', 'author': '', 'subject': '', 'keywords': '', 'moddate': '2024-10-21T11:39:04+00:00', 'trapped': '', 'modDate': 'D:20241021113904Z', 'creationDate': '', 'page': 2}, page_content='bodybuilding, improve strength, improve endurance, improve sport speciﬁc performance, other\\nreasons). In the second section, the supplement use was screened by listing 25 predeﬁned substances\\nand product classes (Table 2). Spare lines were available to list “further” products not included in the\\nquestionnaire. For each product, intake frequency had to be indicated. The available categories were\\n“daily”, “several times per week”, “once a week”, “less than once a week”, “never”, and “don’t know”.\\nIn the last section, subjects were asked about their motivation to take the supplements, where they\\ninformed themselves about the supplements used, whether they were informed about potential side\\neﬀects or risks by their information source (yes or no) and what they considered to be important criteria\\nwhen selecting the particular information source(s). For these questions, a limited set of predeﬁned'),\n",
       " Document(id='7c3711dc-c38c-448e-9b84-f308b5ae06e8', metadata={'producer': 'iLovePDF', 'creator': '', 'creationdate': '', 'source': 'rag-dataset/gym supplements/1. Analysis of Actual Fitness Supplement.pdf', 'file_path': 'rag-dataset/gym supplements/1. Analysis of Actual Fitness Supplement.pdf', 'total_pages': 15, 'format': 'PDF 1.7', 'title': '', 'author': '', 'subject': '', 'keywords': '', 'moddate': '2024-10-21T11:38:50+00:00', 'trapped': '', 'modDate': 'D:20241021113850Z', 'creationDate': '', 'page': 0}, page_content='sionals, and policymakers seeking to promote informed and responsible supplement use among\\nhealth and fitness enthusiasts.\\nKeywords: fitness supplements; health belief model; theory of effort of minimization; theory of\\nplanned behavior; structural equation modelling\\n1. Introduction\\nSupplementary drinks or fitness supplements are commonly used to enhance an\\nindividual’s performance in various sports and health settings, catering to both competitive\\nand non-competitive athletes [1]. One widely known supplement for athletes and fitness\\nenthusiasts is protein supplements like protein shakes. Others may be whey protein,\\ncaffeine, and creatine, to name a few. These supplements play a crucial role in helping\\nindividuals increase muscle mass, recover faster, and enhance their overall performance [2].\\nWhey protein stands out as a top-quality protein source, containing more essential amino\\nacids than traditional protein sources. Its numerous benefits have made it a popular choice')]"
      ]
     },
     "execution_count": 8,
     "metadata": {},
     "output_type": "execute_result"
    }
   ],
   "source": [
    "question = \"how to gain muscle mass\"\n",
    "docs= vector_store.search(question,k=5, search_type=\"similarity\")\n",
    "docs"
   ]
  },
  {
   "cell_type": "code",
   "execution_count": 9,
   "metadata": {},
   "outputs": [
    {
     "data": {
      "text/plain": [
       "[Document(id='e143abd7-93de-4cae-a226-ecaaae84e469', metadata={'producer': 'iLovePDF', 'creator': '', 'creationdate': '', 'source': 'rag-dataset/gym supplements/2. High Prevalence of Supplement Intake.pdf', 'file_path': 'rag-dataset/gym supplements/2. High Prevalence of Supplement Intake.pdf', 'total_pages': 11, 'format': 'PDF 1.5', 'title': '', 'author': '', 'subject': '', 'keywords': '', 'moddate': '2024-10-21T11:39:04+00:00', 'trapped': '', 'modDate': 'D:20241021113904Z', 'creationDate': '', 'page': 8}, page_content='and strength gain among men. We detected more prevalent protein and creatine supplementation\\namong younger compared to older ﬁtness center users, whereas the opposite was found for vitamin\\nsupplementation. Other authors made similar observations [23] and it might reﬂect the diﬀerent\\ntraining goals among age groups, i.e., more focus on strength and muscles among the younger and\\nmore focus on health among the older age groups.\\nComparable to other studies [4], we detected a positive correlation between training frequency\\nand supplement usage. Nevertheless, the correlation is weak and is deﬁnitely not a predictor at the\\nindividual level. The subject with the highest supplement intake of 100 weekly servings was training\\nonly once a week.'),\n",
       " Document(id='6b109f56-8484-4c93-a26e-6c5b078b839d', metadata={'producer': 'iLovePDF', 'creator': '', 'creationdate': '', 'source': 'rag-dataset/gym supplements/2. High Prevalence of Supplement Intake.pdf', 'file_path': 'rag-dataset/gym supplements/2. High Prevalence of Supplement Intake.pdf', 'total_pages': 11, 'format': 'PDF 1.5', 'title': '', 'author': '', 'subject': '', 'keywords': '', 'moddate': '2024-10-21T11:39:04+00:00', 'trapped': '', 'modDate': 'D:20241021113904Z', 'creationDate': '', 'page': 5}, page_content='for two training goals. Improving health was named by 59%, 60%, 75%, and 89% as a training goal\\namong the four age groups beginning from the youngest to the oldest group. On the other hand, body\\nshaping was named by 69%, 55%, 41%, and 17% among the four age groups.'),\n",
       " Document(id='2b4342ba-48bd-4b0e-9cd5-d8b155987ed7', metadata={'producer': 'iLovePDF', 'creator': '', 'creationdate': '', 'source': 'rag-dataset/gym supplements/1. Analysis of Actual Fitness Supplement.pdf', 'file_path': 'rag-dataset/gym supplements/1. Analysis of Actual Fitness Supplement.pdf', 'total_pages': 15, 'format': 'PDF 1.7', 'title': '', 'author': '', 'subject': '', 'keywords': '', 'moddate': '2024-10-21T11:38:50+00:00', 'trapped': '', 'modDate': 'D:20241021113850Z', 'creationDate': '', 'page': 0}, page_content='acids than traditional protein sources. Its numerous benefits have made it a popular choice\\nfor snacks and drinks among consumers [3]. Another widely embraced supplement is\\ncaffeine, which is found in many sports and food supplements. Caffeine reduces perceived\\neffort, minimizes fatigue and pain, and proves to be effective for endurance and high-\\nintensity activities, which is the choice of consumers [4].\\nCreatine monohydrate is another well-known supplement used to gain muscle mass\\nand support performance and recovery. It is known not to increase fat mass and remains\\neffective even when taken in recommended doses [5]. Despite its popularity in the fitness\\nFoods 2024, 13, 1424. https://doi.org/10.3390/foods13091424\\nhttps://www.mdpi.com/journal/foods')]"
      ]
     },
     "execution_count": 9,
     "metadata": {},
     "output_type": "execute_result"
    }
   ],
   "source": [
    "retriever =vector_store.as_retriever(search_type ='similarity',search_kwargs={'k':3})\n",
    "\n",
    "retriever.invoke(question)"
   ]
  },
  {
   "cell_type": "code",
   "execution_count": 10,
   "metadata": {},
   "outputs": [
    {
     "data": {
      "text/plain": [
       "[Document(id='85c771b9-02c8-4d6d-bc7f-5e79a2386f40', metadata={'producer': 'iLovePDF', 'creator': '', 'creationdate': '', 'source': 'rag-dataset/health supplements/1. dietary supplements - for whom.pdf', 'file_path': 'rag-dataset/health supplements/1. dietary supplements - for whom.pdf', 'total_pages': 17, 'format': 'PDF 1.7', 'title': '', 'author': '', 'subject': '', 'keywords': '', 'moddate': '2024-10-21T11:37:54+00:00', 'trapped': '', 'modDate': 'D:20241021113754Z', 'creationDate': '', 'page': 12}, page_content='Int. J. Environ. Res. Public Health 2021, 18, 8897\\n13 of 24\\n3.3. Dietary Supplements and Weight Loss\\nThe number of people with excessive weight continues to rise, and ﬁghting obesity\\nhas become one of the greatest challenges of contemporary medicine. A person wishing to\\nlose weight needs to undertake several difﬁcult life-changes and practice them consistently\\n(diet, physical activity, addiction-free). Meanwhile dietary supplements are presented as\\na compelling alternative to traditional methods for combatting obesity. Wróbel-Harmas\\net al. [107] demonstrated that weight loss supplements are the most frequently sought di-\\netary supplements on the Internet, followed by preparations for muscle building and sexual\\npotency. In the US, more than 30% of people with overweight and obesity believe supple-\\nments to be an effective method for losing weight [108], while in Poland these supplements\\nare used by as many as 40–50% of young women, regardless of their weight [15].'),\n",
       " Document(id='96f4bbb9-4f91-4259-857b-a14c7f183a7f', metadata={'producer': 'iLovePDF', 'creator': '', 'creationdate': '', 'source': 'rag-dataset/health supplements/1. dietary supplements - for whom.pdf', 'file_path': 'rag-dataset/health supplements/1. dietary supplements - for whom.pdf', 'total_pages': 17, 'format': 'PDF 1.7', 'title': '', 'author': '', 'subject': '', 'keywords': '', 'moddate': '2024-10-21T11:37:54+00:00', 'trapped': '', 'modDate': 'D:20241021113754Z', 'creationDate': '', 'page': 12}, page_content='are used by as many as 40–50% of young women, regardless of their weight [15].\\nWeight loss supplements are usually multi-ingredient preparations, with over 4000 in-\\ndividual substances used in the production process. The average weight loss supplement\\navailable in Western markets is estimated to include 10 different ingredients [109]. The\\nmore complex the recipe, the harder it is to determine its effects on the body. The most\\npopular ingredients include chromium and chitosan, as well as green tea, Garcinia cambogia,\\nand bitter orange (Citrus aurantium) extracts [15,16]. Over the years, no studies have shown\\nthat the use of either single- or multi-ingredient preparations of those substances promotes\\nweight reduction.\\nA 2013 meta-analysis of randomized studies found that chromium supplementation\\nresulted in only 0.5 kg additional weight reduction in subjects with overweight and obesity,\\nas compared with those taking a placebo [110], and a comparable result (mean: 0.75 kg)'),\n",
       " Document(id='be171416-89a5-43ae-bcea-7b27b97a3829', metadata={'producer': 'iLovePDF', 'creator': '', 'creationdate': '', 'source': 'rag-dataset/health supplements/1. dietary supplements - for whom.pdf', 'file_path': 'rag-dataset/health supplements/1. dietary supplements - for whom.pdf', 'total_pages': 17, 'format': 'PDF 1.7', 'title': '', 'author': '', 'subject': '', 'keywords': '', 'moddate': '2024-10-21T11:37:54+00:00', 'trapped': '', 'modDate': 'D:20241021113754Z', 'creationDate': '', 'page': 13}, page_content='effective, it would have been registered as a “medicine” and not as a “foodstuff”. The two\\nkey issues are that these products do not help people lose weight and they have serious\\nside effects, which may be a threat to patient health. Therefore, consuming fat burners,\\nespecially those purchased online, has been compared by some authors to playing a game\\nof “Russian roulette” [125]. If, despite the lack of evidence, patients wish to attempt to\\nlose weight using dietary supplements, they should never purchase these products from\\nunauthorized buyers or increase the recommended dose or use several products at the same\\ntime in the hope that it would accelerate their weight loss. Various slimming preparations\\n(with different trade names) may contain the same ingredients and their concentration in\\nthe body may become dangerously elevated. Table 3 summarizes the studies analyzed in\\nthis article on the relationships between dietary supplement use and body weight.')]"
      ]
     },
     "execution_count": 10,
     "metadata": {},
     "output_type": "execute_result"
    }
   ],
   "source": [
    "question =\" How to loose weight\"\n",
    "retriever.invoke(question)"
   ]
  },
  {
   "cell_type": "code",
   "execution_count": 13,
   "metadata": {},
   "outputs": [
    {
     "data": {
      "text/plain": [
       "[Document(id='85c771b9-02c8-4d6d-bc7f-5e79a2386f40', metadata={'producer': 'iLovePDF', 'creator': '', 'creationdate': '', 'source': 'rag-dataset/health supplements/1. dietary supplements - for whom.pdf', 'file_path': 'rag-dataset/health supplements/1. dietary supplements - for whom.pdf', 'total_pages': 17, 'format': 'PDF 1.7', 'title': '', 'author': '', 'subject': '', 'keywords': '', 'moddate': '2024-10-21T11:37:54+00:00', 'trapped': '', 'modDate': 'D:20241021113754Z', 'creationDate': '', 'page': 12}, page_content='Int. J. Environ. Res. Public Health 2021, 18, 8897\\n13 of 24\\n3.3. Dietary Supplements and Weight Loss\\nThe number of people with excessive weight continues to rise, and ﬁghting obesity\\nhas become one of the greatest challenges of contemporary medicine. A person wishing to\\nlose weight needs to undertake several difﬁcult life-changes and practice them consistently\\n(diet, physical activity, addiction-free). Meanwhile dietary supplements are presented as\\na compelling alternative to traditional methods for combatting obesity. Wróbel-Harmas\\net al. [107] demonstrated that weight loss supplements are the most frequently sought di-\\netary supplements on the Internet, followed by preparations for muscle building and sexual\\npotency. In the US, more than 30% of people with overweight and obesity believe supple-\\nments to be an effective method for losing weight [108], while in Poland these supplements\\nare used by as many as 40–50% of young women, regardless of their weight [15].'),\n",
       " Document(id='96f4bbb9-4f91-4259-857b-a14c7f183a7f', metadata={'producer': 'iLovePDF', 'creator': '', 'creationdate': '', 'source': 'rag-dataset/health supplements/1. dietary supplements - for whom.pdf', 'file_path': 'rag-dataset/health supplements/1. dietary supplements - for whom.pdf', 'total_pages': 17, 'format': 'PDF 1.7', 'title': '', 'author': '', 'subject': '', 'keywords': '', 'moddate': '2024-10-21T11:37:54+00:00', 'trapped': '', 'modDate': 'D:20241021113754Z', 'creationDate': '', 'page': 12}, page_content='are used by as many as 40–50% of young women, regardless of their weight [15].\\nWeight loss supplements are usually multi-ingredient preparations, with over 4000 in-\\ndividual substances used in the production process. The average weight loss supplement\\navailable in Western markets is estimated to include 10 different ingredients [109]. The\\nmore complex the recipe, the harder it is to determine its effects on the body. The most\\npopular ingredients include chromium and chitosan, as well as green tea, Garcinia cambogia,\\nand bitter orange (Citrus aurantium) extracts [15,16]. Over the years, no studies have shown\\nthat the use of either single- or multi-ingredient preparations of those substances promotes\\nweight reduction.\\nA 2013 meta-analysis of randomized studies found that chromium supplementation\\nresulted in only 0.5 kg additional weight reduction in subjects with overweight and obesity,\\nas compared with those taking a placebo [110], and a comparable result (mean: 0.75 kg)'),\n",
       " Document(id='be171416-89a5-43ae-bcea-7b27b97a3829', metadata={'producer': 'iLovePDF', 'creator': '', 'creationdate': '', 'source': 'rag-dataset/health supplements/1. dietary supplements - for whom.pdf', 'file_path': 'rag-dataset/health supplements/1. dietary supplements - for whom.pdf', 'total_pages': 17, 'format': 'PDF 1.7', 'title': '', 'author': '', 'subject': '', 'keywords': '', 'moddate': '2024-10-21T11:37:54+00:00', 'trapped': '', 'modDate': 'D:20241021113754Z', 'creationDate': '', 'page': 13}, page_content='effective, it would have been registered as a “medicine” and not as a “foodstuff”. The two\\nkey issues are that these products do not help people lose weight and they have serious\\nside effects, which may be a threat to patient health. Therefore, consuming fat burners,\\nespecially those purchased online, has been compared by some authors to playing a game\\nof “Russian roulette” [125]. If, despite the lack of evidence, patients wish to attempt to\\nlose weight using dietary supplements, they should never purchase these products from\\nunauthorized buyers or increase the recommended dose or use several products at the same\\ntime in the hope that it would accelerate their weight loss. Various slimming preparations\\n(with different trade names) may contain the same ingredients and their concentration in\\nthe body may become dangerously elevated. Table 3 summarizes the studies analyzed in\\nthis article on the relationships between dietary supplement use and body weight.')]"
      ]
     },
     "execution_count": 13,
     "metadata": {},
     "output_type": "execute_result"
    }
   ],
   "source": [
    "retriever =vector_store.as_retriever(search_type ='similarity_score_threshold',\n",
    "                                     search_kwargs={'k':3 , 'score_threshold' :0.1})\n",
    "\n",
    "retriever.invoke(question)"
   ]
  },
  {
   "cell_type": "code",
   "execution_count": 23,
   "metadata": {},
   "outputs": [],
   "source": [
    "retriever =vector_store.as_retriever(search_type ='mmr',\n",
    "                                     search_kwargs={'k':3 , 'fetch_k' :3 ,'lambda_mult' :1})\n",
    "\n",
    "docs= retriever.invoke(question)"
   ]
  },
  {
   "cell_type": "markdown",
   "metadata": {},
   "source": [
    "## RAg with LLAMA on Ollama"
   ]
  },
  {
   "cell_type": "code",
   "execution_count": 15,
   "metadata": {},
   "outputs": [],
   "source": [
    "from langchain_ollama import ChatOllama\n",
    "from langchain_core.output_parsers import StrOutputParser\n",
    "from langchain_core.runnables import RunnablePassthrough\n",
    "from langchain_core.prompts import ChatPromptTemplate\n",
    "from langchain import hub"
   ]
  },
  {
   "cell_type": "code",
   "execution_count": 17,
   "metadata": {},
   "outputs": [],
   "source": [
    "prompt = hub.pull(\"rlm/rag-prompt\")"
   ]
  },
  {
   "cell_type": "code",
   "execution_count": 18,
   "metadata": {},
   "outputs": [],
   "source": [
    "#Alternative \n",
    "\n",
    "\n",
    "prompt = \"\"\" You are an assistant for question-answering tasks. Use the following pieces of retrieved context to answer the question. If you don't know the answer, just say that you don't know. Use three sentences maximum and keep the answer concise.\n",
    "Question: {question} \n",
    "Context: {context} \n",
    "Answer:  \n",
    "         \"\"\""
   ]
  },
  {
   "cell_type": "code",
   "execution_count": 19,
   "metadata": {},
   "outputs": [
    {
     "data": {
      "text/plain": [
       "ChatPromptTemplate(input_variables=['context', 'question'], input_types={}, partial_variables={}, messages=[HumanMessagePromptTemplate(prompt=PromptTemplate(input_variables=['context', 'question'], input_types={}, partial_variables={}, template=\" You are an assistant for question-answering tasks. Use the following pieces of retrieved context to answer the question. If you don't know the answer, just say that you don't know. Use three sentences maximum and keep the answer concise.\\nQuestion: {question} \\nContext: {context} \\nAnswer:  \\n         \"), additional_kwargs={})])"
      ]
     },
     "execution_count": 19,
     "metadata": {},
     "output_type": "execute_result"
    }
   ],
   "source": [
    "prompt= ChatPromptTemplate.from_template(prompt)\n",
    "prompt"
   ]
  },
  {
   "cell_type": "code",
   "execution_count": 21,
   "metadata": {},
   "outputs": [
    {
     "data": {
      "text/plain": [
       "AIMessage(content='How can I assist you today?', additional_kwargs={}, response_metadata={'model': 'llama3.2:3b', 'created_at': '2025-04-01T06:42:50.736818Z', 'done': True, 'done_reason': 'stop', 'total_duration': 3733364250, 'load_duration': 735003250, 'prompt_eval_count': 26, 'prompt_eval_duration': 2810410583, 'eval_count': 8, 'eval_duration': 187066833, 'message': Message(role='assistant', content='', images=None, tool_calls=None)}, id='run-049c952e-fe60-4140-889a-38114ad0d836-0', usage_metadata={'input_tokens': 26, 'output_tokens': 8, 'total_tokens': 34})"
      ]
     },
     "execution_count": 21,
     "metadata": {},
     "output_type": "execute_result"
    }
   ],
   "source": [
    "llm= ChatOllama(model='llama3.2:3b',base_url='http://localhost:11434')\n",
    "llm.invoke(\"Hi\")"
   ]
  },
  {
   "cell_type": "code",
   "execution_count": 24,
   "metadata": {},
   "outputs": [
    {
     "data": {
      "text/plain": [
       "[Document(id='85c771b9-02c8-4d6d-bc7f-5e79a2386f40', metadata={'producer': 'iLovePDF', 'creator': '', 'creationdate': '', 'source': 'rag-dataset/health supplements/1. dietary supplements - for whom.pdf', 'file_path': 'rag-dataset/health supplements/1. dietary supplements - for whom.pdf', 'total_pages': 17, 'format': 'PDF 1.7', 'title': '', 'author': '', 'subject': '', 'keywords': '', 'moddate': '2024-10-21T11:37:54+00:00', 'trapped': '', 'modDate': 'D:20241021113754Z', 'creationDate': '', 'page': 12}, page_content='Int. J. Environ. Res. Public Health 2021, 18, 8897\\n13 of 24\\n3.3. Dietary Supplements and Weight Loss\\nThe number of people with excessive weight continues to rise, and ﬁghting obesity\\nhas become one of the greatest challenges of contemporary medicine. A person wishing to\\nlose weight needs to undertake several difﬁcult life-changes and practice them consistently\\n(diet, physical activity, addiction-free). Meanwhile dietary supplements are presented as\\na compelling alternative to traditional methods for combatting obesity. Wróbel-Harmas\\net al. [107] demonstrated that weight loss supplements are the most frequently sought di-\\netary supplements on the Internet, followed by preparations for muscle building and sexual\\npotency. In the US, more than 30% of people with overweight and obesity believe supple-\\nments to be an effective method for losing weight [108], while in Poland these supplements\\nare used by as many as 40–50% of young women, regardless of their weight [15].'),\n",
       " Document(id='96f4bbb9-4f91-4259-857b-a14c7f183a7f', metadata={'producer': 'iLovePDF', 'creator': '', 'creationdate': '', 'source': 'rag-dataset/health supplements/1. dietary supplements - for whom.pdf', 'file_path': 'rag-dataset/health supplements/1. dietary supplements - for whom.pdf', 'total_pages': 17, 'format': 'PDF 1.7', 'title': '', 'author': '', 'subject': '', 'keywords': '', 'moddate': '2024-10-21T11:37:54+00:00', 'trapped': '', 'modDate': 'D:20241021113754Z', 'creationDate': '', 'page': 12}, page_content='are used by as many as 40–50% of young women, regardless of their weight [15].\\nWeight loss supplements are usually multi-ingredient preparations, with over 4000 in-\\ndividual substances used in the production process. The average weight loss supplement\\navailable in Western markets is estimated to include 10 different ingredients [109]. The\\nmore complex the recipe, the harder it is to determine its effects on the body. The most\\npopular ingredients include chromium and chitosan, as well as green tea, Garcinia cambogia,\\nand bitter orange (Citrus aurantium) extracts [15,16]. Over the years, no studies have shown\\nthat the use of either single- or multi-ingredient preparations of those substances promotes\\nweight reduction.\\nA 2013 meta-analysis of randomized studies found that chromium supplementation\\nresulted in only 0.5 kg additional weight reduction in subjects with overweight and obesity,\\nas compared with those taking a placebo [110], and a comparable result (mean: 0.75 kg)'),\n",
       " Document(id='be171416-89a5-43ae-bcea-7b27b97a3829', metadata={'producer': 'iLovePDF', 'creator': '', 'creationdate': '', 'source': 'rag-dataset/health supplements/1. dietary supplements - for whom.pdf', 'file_path': 'rag-dataset/health supplements/1. dietary supplements - for whom.pdf', 'total_pages': 17, 'format': 'PDF 1.7', 'title': '', 'author': '', 'subject': '', 'keywords': '', 'moddate': '2024-10-21T11:37:54+00:00', 'trapped': '', 'modDate': 'D:20241021113754Z', 'creationDate': '', 'page': 13}, page_content='effective, it would have been registered as a “medicine” and not as a “foodstuff”. The two\\nkey issues are that these products do not help people lose weight and they have serious\\nside effects, which may be a threat to patient health. Therefore, consuming fat burners,\\nespecially those purchased online, has been compared by some authors to playing a game\\nof “Russian roulette” [125]. If, despite the lack of evidence, patients wish to attempt to\\nlose weight using dietary supplements, they should never purchase these products from\\nunauthorized buyers or increase the recommended dose or use several products at the same\\ntime in the hope that it would accelerate their weight loss. Various slimming preparations\\n(with different trade names) may contain the same ingredients and their concentration in\\nthe body may become dangerously elevated. Table 3 summarizes the studies analyzed in\\nthis article on the relationships between dietary supplement use and body weight.')]"
      ]
     },
     "execution_count": 24,
     "metadata": {},
     "output_type": "execute_result"
    }
   ],
   "source": [
    "docs"
   ]
  },
  {
   "cell_type": "code",
   "execution_count": 26,
   "metadata": {},
   "outputs": [],
   "source": [
    "def format_docs(docs):\n",
    "    return '\\n\\n'.join([doc.page_content for doc in docs])\n",
    "\n",
    "context= format_docs(docs)\n",
    "#print(context)"
   ]
  },
  {
   "cell_type": "markdown",
   "metadata": {},
   "source": [
    "## RAG Chain"
   ]
  },
  {
   "cell_type": "code",
   "execution_count": 34,
   "metadata": {},
   "outputs": [],
   "source": [
    "rag_chain= (\n",
    "    {\"context\":retriever|format_docs, \"question\": RunnablePassthrough()}\n",
    "    | prompt\n",
    "    | llm\n",
    "    | StrOutputParser()\n",
    ")"
   ]
  },
  {
   "cell_type": "code",
   "execution_count": 35,
   "metadata": {},
   "outputs": [],
   "source": [
    "question =\"how to loose weight\""
   ]
  },
  {
   "cell_type": "code",
   "execution_count": 37,
   "metadata": {},
   "outputs": [
    {
     "name": "stdout",
     "output_type": "stream",
     "text": [
      "I don't know a definitive way to lose weight as suggested by the context, which highlights the lack of evidence supporting the effectiveness of dietary supplements for weight loss. However, the article suggests that a combination of diet, physical activity, and addiction-free lifestyle is recommended. It's also advised to avoid purchasing products from unauthorized buyers and not increase the dose or use multiple products simultaneously.\n"
     ]
    }
   ],
   "source": [
    "response= rag_chain.invoke(question)\n",
    "print(response)"
   ]
  },
  {
   "cell_type": "code",
   "execution_count": 38,
   "metadata": {},
   "outputs": [
    {
     "name": "stdout",
     "output_type": "stream",
     "text": [
      "I don't know the specific answer to your question about \"balanced diet\" from the provided context. However, I can tell you that the context does mention phytochemicals and food supplements, which are related to nutrition and health benefits. If you could provide more information or clarify your question, I'll do my best to help.\n"
     ]
    }
   ],
   "source": [
    "question =\"what is balanced deit\"\n",
    "response= rag_chain.invoke(question)\n",
    "print(response)"
   ]
  },
  {
   "cell_type": "code",
   "execution_count": 43,
   "metadata": {},
   "outputs": [
    {
     "data": {
      "text/plain": [
       "ChatPromptTemplate(input_variables=['context', 'question'], input_types={}, partial_variables={}, messages=[HumanMessagePromptTemplate(prompt=PromptTemplate(input_variables=['context', 'question'], input_types={}, partial_variables={}, template=\" You are an assistant for question-answering tasks. \\nUse the following pieces of retrieved context to answer the question.\\nIf you don't know the answer, just say that you don't know. \\nAnswer in bullet points.\\nMake sure your answer is relevant to the question and it is answered from the context only\\nQuestion: {question} \\nContext: {context} \\nAnswer:  \\n         \"), additional_kwargs={})])"
      ]
     },
     "execution_count": 43,
     "metadata": {},
     "output_type": "execute_result"
    }
   ],
   "source": [
    "#Alternative \n",
    "\n",
    "\n",
    "prompt = \"\"\" You are an assistant for question-answering tasks. \n",
    "Use the following pieces of retrieved context to answer the question.\n",
    "If you don't know the answer, just say that you don't know. \n",
    "Answer in bullet points.\n",
    "Make sure your answer is relevant to the question and it is answered from the context only\n",
    "Question: {question} \n",
    "Context: {context} \n",
    "Answer:  \n",
    "         \"\"\"\n",
    "\n",
    "prompt= ChatPromptTemplate.from_template(prompt)\n",
    "prompt"
   ]
  },
  {
   "cell_type": "code",
   "execution_count": 44,
   "metadata": {},
   "outputs": [
    {
     "name": "stdout",
     "output_type": "stream",
     "text": [
      "I don't know a guaranteed way to lose weight, but I can provide general advice. To lose weight, it's recommended to adopt a balanced diet, combine it with regular physical activity, and maintain an addiction-free lifestyle. Consult reputable sources or healthcare professionals for personalized guidance on safe and effective weight loss strategies.\n"
     ]
    }
   ],
   "source": [
    "question =\"how to loose weight?\"\n",
    "response= rag_chain.invoke(question)\n",
    "print(response)"
   ]
  },
  {
   "cell_type": "code",
   "execution_count": null,
   "metadata": {},
   "outputs": [],
   "source": []
  },
  {
   "cell_type": "code",
   "execution_count": null,
   "metadata": {},
   "outputs": [],
   "source": []
  }
 ],
 "metadata": {
  "kernelspec": {
   "display_name": "genaienv",
   "language": "python",
   "name": "python3"
  },
  "language_info": {
   "codemirror_mode": {
    "name": "ipython",
    "version": 3
   },
   "file_extension": ".py",
   "mimetype": "text/x-python",
   "name": "python",
   "nbconvert_exporter": "python",
   "pygments_lexer": "ipython3",
   "version": "3.11.3"
  }
 },
 "nbformat": 4,
 "nbformat_minor": 2
}
