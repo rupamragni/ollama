{
 "cells": [
  {
   "cell_type": "code",
   "execution_count": 1,
   "metadata": {},
   "outputs": [
    {
     "data": {
      "text/plain": [
       "True"
      ]
     },
     "execution_count": 1,
     "metadata": {},
     "output_type": "execute_result"
    }
   ],
   "source": [
    "from dotenv import load_dotenv\n",
    "\n",
    "env_path = \"../OllamaSetup/.env\"  \n",
    "load_dotenv(env_path)"
   ]
  },
  {
   "cell_type": "code",
   "execution_count": 2,
   "metadata": {},
   "outputs": [],
   "source": [
    "from langchain_ollama import ChatOllama\n",
    "from langchain_core.output_parsers import StrOutputParser\n",
    "from langchain_core.runnables import RunnablePassthrough\n",
    "from langchain_core.prompts import ChatPromptTemplate\n"
   ]
  },
  {
   "cell_type": "code",
   "execution_count": 3,
   "metadata": {},
   "outputs": [
    {
     "data": {
      "text/plain": [
       "AIMessage(content='How can I assist you today?', additional_kwargs={}, response_metadata={'model': 'llama3.2:3b', 'created_at': '2025-04-01T09:33:12.554353Z', 'done': True, 'done_reason': 'stop', 'total_duration': 335944959, 'load_duration': 26337750, 'prompt_eval_count': 26, 'prompt_eval_duration': 121538250, 'eval_count': 8, 'eval_duration': 187591625, 'message': Message(role='assistant', content='', images=None, tool_calls=None)}, id='run-4fec395a-c074-4686-ad79-173d3eced3e2-0', usage_metadata={'input_tokens': 26, 'output_tokens': 8, 'total_tokens': 34})"
      ]
     },
     "execution_count": 3,
     "metadata": {},
     "output_type": "execute_result"
    }
   ],
   "source": [
    "llm= ChatOllama(model='llama3.2:3b',base_url='http://localhost:11434')\n",
    "llm.invoke(\"Hi\")"
   ]
  },
  {
   "cell_type": "markdown",
   "metadata": {},
   "source": [
    "## Tool Creation"
   ]
  },
  {
   "cell_type": "code",
   "execution_count": 13,
   "metadata": {},
   "outputs": [],
   "source": [
    "from langchain_core.tools import tool\n",
    "\n",
    "@tool\n",
    "def add(a,b):\n",
    "    \"\"\" \n",
    "    Add two integer number together\n",
    "    Args:\n",
    "    a: First Integer\n",
    "    b:Second Integer\n",
    "    \"\"\"\n",
    "    return a+b"
   ]
  },
  {
   "cell_type": "code",
   "execution_count": 86,
   "metadata": {},
   "outputs": [],
   "source": [
    "@tool\n",
    "def multiply(a:int,b:int)->int:\n",
    "    \"\"\" \n",
    "    Multiply two integer number together\n",
    "    Args:\n",
    "    a: First Integer\n",
    "    b:Second Integer\n",
    "    \"\"\"\n",
    "    return int(a)*int(b)"
   ]
  },
  {
   "cell_type": "code",
   "execution_count": 15,
   "metadata": {},
   "outputs": [
    {
     "data": {
      "text/plain": [
       "StructuredTool(name='add', description='Add two integer number together\\nArgs:\\na: First Integer\\nb:Second Integer', args_schema=<class 'langchain_core.utils.pydantic.add'>, func=<function add at 0x1169ba840>)"
      ]
     },
     "execution_count": 15,
     "metadata": {},
     "output_type": "execute_result"
    }
   ],
   "source": [
    "add"
   ]
  },
  {
   "cell_type": "code",
   "execution_count": 16,
   "metadata": {},
   "outputs": [
    {
     "name": "stderr",
     "output_type": "stream",
     "text": [
      "/var/folders/v_/q_0xfydn1ysbg3dg6_yj25th0000gn/T/ipykernel_3949/2577403487.py:1: PydanticDeprecatedSince20: The `schema` method is deprecated; use `model_json_schema` instead. Deprecated in Pydantic V2.0 to be removed in V3.0. See Pydantic V2 Migration Guide at https://errors.pydantic.dev/2.10/migration/\n",
      "  add.name,add.description, add.args, add.args_schema.schema()\n"
     ]
    },
    {
     "data": {
      "text/plain": [
       "('add',\n",
       " 'Add two integer number together\\nArgs:\\na: First Integer\\nb:Second Integer',\n",
       " {'a': {'title': 'A'}, 'b': {'title': 'B'}},\n",
       " {'description': 'Add two integer number together\\nArgs:\\na: First Integer\\nb:Second Integer',\n",
       "  'properties': {'a': {'title': 'A'}, 'b': {'title': 'B'}},\n",
       "  'required': ['a', 'b'],\n",
       "  'title': 'add',\n",
       "  'type': 'object'})"
      ]
     },
     "execution_count": 16,
     "metadata": {},
     "output_type": "execute_result"
    }
   ],
   "source": [
    "add.name,add.description, add.args, add.args_schema.schema()"
   ]
  },
  {
   "cell_type": "code",
   "execution_count": 19,
   "metadata": {},
   "outputs": [
    {
     "data": {
      "text/plain": [
       "3"
      ]
     },
     "execution_count": 19,
     "metadata": {},
     "output_type": "execute_result"
    }
   ],
   "source": [
    "add.invoke({'a':1,'b':2})"
   ]
  },
  {
   "cell_type": "code",
   "execution_count": 20,
   "metadata": {},
   "outputs": [],
   "source": [
    "tools=[add,multiply]\n",
    "llm_with_tools =llm.bind_tools(tools)"
   ]
  },
  {
   "cell_type": "code",
   "execution_count": 21,
   "metadata": {},
   "outputs": [
    {
     "data": {
      "text/plain": [
       "AIMessage(content='', additional_kwargs={}, response_metadata={'model': 'llama3.2:3b', 'created_at': '2025-04-01T09:47:22.955326Z', 'done': True, 'done_reason': 'stop', 'total_duration': 2072401334, 'load_duration': 730826875, 'prompt_eval_count': 235, 'prompt_eval_duration': 770811750, 'eval_count': 22, 'eval_duration': 569074208, 'message': Message(role='assistant', content='', images=None, tool_calls=None)}, id='run-78b381df-c9a0-43b5-91b0-05ba810b7f7f-0', tool_calls=[{'name': 'add', 'args': {'a': '1', 'b': '2'}, 'id': '204bc62b-c26b-4d1e-8710-b4c8cc080eda', 'type': 'tool_call'}], usage_metadata={'input_tokens': 235, 'output_tokens': 22, 'total_tokens': 257})"
      ]
     },
     "execution_count": 21,
     "metadata": {},
     "output_type": "execute_result"
    }
   ],
   "source": [
    "question =\" What is one plus two\"\n",
    "llm_with_tools.invoke(question)"
   ]
  },
  {
   "cell_type": "code",
   "execution_count": null,
   "metadata": {},
   "outputs": [
    {
     "data": {
      "text/plain": [
       "[{'name': 'add',\n",
       "  'args': {'a': 1, 'b': 2},\n",
       "  'id': '047741d0-330a-4b1a-87f5-04abf3183957',\n",
       "  'type': 'tool_call'}]"
      ]
     },
     "execution_count": 22,
     "metadata": {},
     "output_type": "execute_result"
    }
   ],
   "source": [
    "question =\" What is one plus two\"\n",
    "llm_with_tools.invoke(question).tool_calls"
   ]
  },
  {
   "cell_type": "code",
   "execution_count": 24,
   "metadata": {},
   "outputs": [
    {
     "data": {
      "text/plain": [
       "[{'name': 'multiply',\n",
       "  'args': {'a': '2', 'b': '1'},\n",
       "  'id': '5b47887d-4da7-4438-a3d7-92d7abdf23ee',\n",
       "  'type': 'tool_call'},\n",
       " {'name': 'add',\n",
       "  'args': {'a': '23', 'b': '7'},\n",
       "  'id': '1127f6b8-b392-40ad-a799-721660e81211',\n",
       "  'type': 'tool_call'}]"
      ]
     },
     "execution_count": 24,
     "metadata": {},
     "output_type": "execute_result"
    }
   ],
   "source": [
    "question =\" What is one multiply two ,also 23 plus seven\"\n",
    "llm_with_tools.invoke(question).tool_calls"
   ]
  },
  {
   "cell_type": "markdown",
   "metadata": {},
   "source": [
    "## Built In Tools"
   ]
  },
  {
   "cell_type": "markdown",
   "metadata": {},
   "source": [
    "## Duckduckgo"
   ]
  },
  {
   "cell_type": "code",
   "execution_count": null,
   "metadata": {},
   "outputs": [],
   "source": [
    "#!pip install -qU duckduckgo-search "
   ]
  },
  {
   "cell_type": "code",
   "execution_count": 26,
   "metadata": {},
   "outputs": [
    {
     "data": {
      "text/plain": [
       "'The White House, official residence of the president of the United States, in July 2008. The president of the United States is the head of state and head of government of the United States, [1] indirectly elected to a four-year term via the Electoral College. [2] Under the U.S. Constitution, the officeholder leads the executive branch of the federal government and is the commander-in-chief of ... Barack Obama, the 44th President of the United States, broke barriers as the first African-American president and implemented significant healthcare reforms during his tenure. ... Secret Service Code Names of 11 U.S. Presidents. ... President Barack Obama\\'s First Words to America\" (2009) \"The Audacity of Hope: Thoughts on Reclaiming the ... Here is a list of the presidents and vice presidents of the United States along with their parties and dates in office. ... Chester A Arthur: Twenty-First President of the United States. 10 Interesting Facts About James Buchanan. Martin Van Buren - Eighth President of the United States. Quotes From Harry S. Truman. The Irish Sun, It\\'s a fake Barack Obama\\'s brother posts forged document he claims is ex-president\\'s \\'Kenyan birth certificate,\\' March 11, 2017 Salon, Orly Taitz is at it again , Sept. 4, 2009 Barack Hussein Obama II is born in Honolulu, Hawaii, to Barack Obama Sr. (from Kenya) and Ann Dunham (from Kansas). 1967: Moves to Indonesia with his mother and stepfather, Lolo Soetoro. 1971: Returns to Hawaii to live with his maternal grandparents and attends Punahou School, a prestigious private school. 1979: Graduates from Punahou School. 1983'"
      ]
     },
     "execution_count": 26,
     "metadata": {},
     "output_type": "execute_result"
    }
   ],
   "source": [
    "from langchain_community.tools import DuckDuckGoSearchRun\n",
    "\n",
    "search = DuckDuckGoSearchRun()\n",
    "\n",
    "search.invoke(\"Obama's first name?\")"
   ]
  },
  {
   "cell_type": "markdown",
   "metadata": {},
   "source": [
    "## Tavily"
   ]
  },
  {
   "cell_type": "code",
   "execution_count": null,
   "metadata": {},
   "outputs": [],
   "source": [
    "#!pip install -qU langchain-tavily\n",
    "#!pip install -qU langgraph"
   ]
  },
  {
   "cell_type": "code",
   "execution_count": 35,
   "metadata": {},
   "outputs": [],
   "source": [
    "from langchain_community.tools import TavilySearchResults\n",
    "\n",
    "\n",
    "# Initialize Tavily Search Tool\n",
    "search = TavilySearchResults(\n",
    "    max_results=5,\n",
    "    search_depth=\"advanced\",\n",
    "    include_answer=True,\n",
    "    include_raw_content=True,\n",
    ")\n",
    "\n"
   ]
  },
  {
   "cell_type": "code",
   "execution_count": 36,
   "metadata": {},
   "outputs": [
    {
     "data": {
      "text/plain": [
       "[{'title': 'Latest Stock Market News - Yahoo Finance',\n",
       "  'url': 'https://finance.yahoo.com/topic/stock-market-news/',\n",
       "  'content': \"### It's 'economic blackout' day as campaign encourages Americans not to spend for 24 hours A retail boycott is hitting major US businesses Friday as an online campaign calls for Americans to spend nothing at places such as Walmart, Target, Amazon and McDonald’s.\\n\\n### Stock market today: Dow, S&P 500, Nasdaq rally to cap volatile week, losing month Investors are waiting for the release of the Federal Reserve's preferred inflation gauge as they eye Trump’s latest trade threats. [...] ### Why Tesla's stock has given up nearly all of its Trump election gains Tesla stock has nearly given up all its gains since President Trump’s election win, as Elon Musk’s forays with politics have investors wondering where the CEO’s attention lies.\\n\\n### Stock market today: Nasdaq, S&P 500 sell-off as Nvidia sinks 8%, Trump reiterates tariff plans An upbeat tone is seeping into markets as investors dig into Nvidia's quarterly earnings beat, which signaled plenty of scope for growth. [...] ### Walgreens downgraded, Cava Group upgraded: Wall Street's top analyst calls Walgreens downgraded, Cava Group upgraded: Wall Street's top analyst calls\\nThe Fly • yesterday\\nWBACAVA\\n\\n\\n\\n### Stock market today: Dow, S&P 500, Nasdaq rally to cap volatile week, losing month Investors are waiting for the release of the Federal Reserve's preferred inflation gauge as they eye Trump’s latest trade threats.\\nYahoo Finance • yesterday\\nYM=F^GSPC\",\n",
       "  'score': 0.7646988,\n",
       "  'raw_content': 'Latest Stock Market News\\nStock Market News\\n\\nThere are big cracks in a $7 trillion bull case for stocks to keep rising ------------------------------------------------------------------------- Money market cash has been steadily declining as a percentage of the S&P 500\\'s total market capitalization even as the absolute number hits records.\\nBusiness Insider • 12 hours ago\\n\\n### What Analysts Think of Broadcom Stock Ahead of Earnings Broadcom is set to report fiscal first-quarter results after the market closes Thursday, with analysts widely bullish on the chipmaker\\'s stock despite recent losses.\\nInvestopedia • 13 hours ago\\nAVGO\\n\\n### Nvidia’s stock price will jump more than 50% as the chipmaker remains in a ‘dominant position,’ BofA says Nvidia sales from Blackwell reached $11 billion — surpassing expectations.\\nFortune • 13 hours ago\\nNVDA\\n\\n### ARK Invest\\'s Cathie Wood: Nvidia is still a high-growth stock Stick with Nvidia, ARK Invest\\'s Cathie Wood said.\\nYahoo Finance • 19 hours ago\\nAMDNVDA\\n\\n### Stocks Face a ‘Fog of Uncertainty’ as Global Risks Keep Mounting (Bloomberg) -- The US stock market sent some troubling signals this week as investors’ euphoric post-election vibe slams into a few challenging realities.Most Read from BloombergCuts to Section 8 Housing Assistance Loom Amid HUD UncertaintyThe Trump Administration Takes Aim at Transportation ResearchShelters Await Billions in Federal Money for Homelessness ProvidersRemembering the Landscape Architect Who Embraced the CityNYC Office Buildings See Resurgence as Investors Pile Into BondsThe big-tec\\nBloomberg • 20 hours ago\\n^GSPC\\nFEATURED_CONTENT\\n\\n### ARK Invest\\'s Cathie Wood: Nvidia is still a high-growth stock Stick with Nvidia, ARK Invest\\'s Cathie Wood said.\\n\\n### Bitcoin falls nearly 17% in February to cap worst month since June 2022 Bitcoin fell roughly 17% in February to around $84,000 — the cryptocurrency\\'s biggest drop over one month since June 2022.\\n\\n### Tesla just wrapped up its second-worst month ever Tesla stock rose on the last day of February, but it wasn’t enough to stem losses of nearly 30% for the month.\\n\\n### Vital Farms CEO says egg shortages will ease later this year, no plans to raise prices Vital Farms stock rose Friday after the premium egg producer reported fourth quarter results and delivered an update on the bird flu-caused egg shortages.\\n\\n### Super Micro stock sees nearly 30% weekly loss as AI server competition mounts Super Micro stock plunged 26% this week, extending the stock’s long streak of volatility as investors weigh the company’s AI-fueled growth against questionable accounting practices, growing competition, and larger economic uncertainties.\\n\\n### Investors may be badly underestimating this long-term tailwind for Nvidia Nvidia has some big profit tailwinds that the Street may be forgetting.\\n\\n### It\\'s \\'economic blackout\\' day as campaign encourages Americans not to spend for 24 hours A retail boycott is hitting major US businesses Friday as an online campaign calls for Americans to spend nothing at places such as Walmart, Target, Amazon and McDonald’s.\\n\\n### Stock market today: Dow, S&P 500, Nasdaq rally to cap volatile week, losing month Investors are waiting for the release of the Federal Reserve\\'s preferred inflation gauge as they eye Trump’s latest trade threats.\\n\\n### PCE inflation gauge matches expectations, offering relief to Fed The latest reading of the Federal Reserve\\'s preferred inflation gauge showed prices rose on a monthly basis but dropped year over year, which should keep the central bank on hold at its next meeting in March.\\n\\n### Palantir\\'s stock plunge sends its biggest fans to the exits Retail investors cool on one of their favorite names, Palantir.\\n\\n### Yum Brands stock near all-time highs as Taco Bell outpaces peers Yum Brands seems to be bucking a downward trend in the quick-service food space ahead of Taco Bell\\'s investor event.\\n\\n### Nvidia\\'s auto business doubled last quarter. Here\\'s why CEO Jensen Huang believes it\\'s just the beginning. While Nvidia’s juggernaut Blackwell chip business gets all the headlines, flying under the radar is Nvidia\\'s auto business, which is growing too.\\n\\n### Retailing giants are facing new pushback following their DEI retreats Some giant retailers that rolled back DEI policies, such as Target and Walmart, are now feeling some pushback from either their own customers or investors.\\n\\n### HP Inc. reports profits in line with expectations, warns on Trump tariff impact HP Inc. reported earnings in line with estimates and is looking for new cost savings amid Trump tariffs.\\n\\n### Why Tesla\\'s stock has given up nearly all of its Trump election gains Tesla stock has nearly given up all its gains since President Trump’s election win, as Elon Musk’s forays with politics have investors wondering where the CEO’s attention lies.\\n\\n### Stock market today: Nasdaq, S&P 500 sell-off as Nvidia sinks 8%, Trump reiterates tariff plans An upbeat tone is seeping into markets as investors dig into Nvidia\\'s quarterly earnings beat, which signaled plenty of scope for growth.\\n\\n### Money market account rates today, March 1, 2025 (best account provides 4.51% APY) If you’re searching for today’s best money market account rates, we’ve narrowed down some of the top offers. Learn more about money market account rates today.\\nYahoo Personal Finance • 22 hours ago\\n\\n### France Gets Budget Warning as S&P Turns Negative on Rating (Bloomberg) -- S&P Global Ratings put a negative outlook on its assessment of France’s creditworthiness, underscoring enduring uncertainty over the country’s finances after a prolonged period of political turmoil. Most Read from BloombergCuts to Section 8 Housing Assistance Loom Amid HUD UncertaintyThe Trump Administration Takes Aim at Transportation ResearchShelters Await Billions in Federal Money for Homelessness ProvidersRemembering the Landscape Architect Who Embraced the CityNYC Office Buil\\nBloomberg • 22 hours ago\\n\\n### What Analysts Think of Target Stock Ahead of Earnings Target is set to report fourth-quarter earnings on Tuesday morning, with analysts largely bullish on the retailer\\'s stock.\\nInvestopedia • 23 hours ago\\nTGT\\n\\n### Super Micro insiders dump millions worth of stock after getting the all-clear sign from Nasdaq on its financial filings The server manufacturer was delinquent on its annual financial and quarterly reports but met a Feb. 25 deadline set by Nasdaq to regain compliance.\\nFortune • yesterday\\nSMCI\\n\\n### S&P 500 Gets Late-Day Boost at End of Wild Month: Markets Wrap (Bloomberg) -- Stocks shook off another bout of volatility spurred by geopolitical anxiety and a White House shouting match to rally at the end of a jittery February.Most Read from BloombergCuts to Section 8 Housing Assistance Loom Amid HUD UncertaintyThe Trump Administration Takes Aim at Transportation ResearchShelters Await Billions in Federal Money for Homelessness ProvidersRemembering the Landscape Architect Who Embraced the CityNYC Office Buildings See Resurgence as Investors Pile Into Bond\\nBloomberg • yesterday\\n^GSPCNVDA\\n\\n### Why Wall Street Analysts Say Nvidia Could Be a DeepSeek \\'Beneficiary’ Nvidia\\'s post-earnings plunge pulled the stock back near January’s lows. Analysts have remained bullish, and said they expect Nvidia to be a DeepSeek beneficiary.\\nInvestopedia • yesterday\\nNVDA\\n\\n\\n\\n### Stock of the Day: Dell tumbles 7% after earnings as investors scrutinize AI profit margins As the AI boom cycle matures, investors are shifting their focus away from top-line revenue growth and toward bottom-line profits.\\nBusiness Insider • yesterday\\n\\n\\n\\n### Russian ruble sinks as Trump-Zelensky shouting match cools hopes for peace deal while stocks recover from brief selloff Stocks fell during Trump’s meeting with Zelensky Friday, but an afternoon rally led to solid gains by the end of the day.\\nFortune • yesterday\\n^GSPC^DJI\\n\\n\\n\\n### British Airways owner\\'s stock is flying high as strong demand for air travel boosts IAG profits IAG, the owner of airlines including British Airways, Iberia and Aer Lingus, reported a 27% rise in annual operating profit to 4.4 billion euros.\\nBusiness Insider • yesterday\\n\\n\\n\\n### S&P 500 Gains and Losses Today: Indexes Rally To Pare February Losses Major U.S. equity indexes rallied in the final hours of Friday to close higher after seesawing between gains and losses throughout most of February\\'s final session.\\nInvestopedia • yesterday\\n^GSPC\\n\\n\\n\\n### Emerging Markets Rattled on Threats to Trade, Ukraine Deal (Bloomberg) -- Emerging markets were swept up in the global equities storm Friday, with a stock index seeing its biggest drop since August as investor concerns over US President Donald Trump’s trade threats and the fading prospect of a Ukraine ceasefire put pressure on risk assets.Most Read from BloombergCuts to Section 8 Housing Assistance Loom Amid HUD UncertaintyThe Trump Administration Takes Aim at Transportation ResearchShelters Await Billions in Federal Money for Homelessness ProvidersReme\\nBloomberg • yesterday\\nMSCI\\n\\n\\n\\n### Hedge funds ramp up bets on falling stocks Global hedge funds sold more stocks than they bought by the largest amount in a year, mainly driven by their bets that stocks will drop, a Goldman Sachs note showed on Friday. Goldman Sachs said the gloomy sentiment was spread across all geographic regions, but mainly in North America and part of Asia, and was seen in almost all company sectors, except for communications services. In healthcare, net selling by hedge funds was entirely driven by short positions and ranked close to the highest level seen over the past five years.\\nReuters • yesterday\\n\\n\\n\\n### Bonds Walloping Stocks Shows Wall Street Growth Agita Ramping Up (Bloomberg) -- For anyone worried about the economy, recent reports gave ample reason to fret. Flailing consumer confidence, a big jump in jobless claims, gloomy housing data, and more. Most Read from BloombergCuts to Section 8 Housing Assistance Loom Amid HUD UncertaintyThe Trump Administration Takes Aim at Transportation ResearchShelters Await Billions in Federal Money for Homelessness ProvidersRemembering the Landscape Architect Who Embraced the CityNYC Office Buildings See Resurgence as Inve\\nBloomberg • yesterday\\n^GSPC\\n\\n\\n\\n### Markets wrap rough month driven by ‘Extreme Fear’ US stocks seesawed Friday, but all three major indexes closed the month in the red — a sign of increasing unease in markets.\\nCNN Business • yesterday\\nCOMP^GSPC\\n\\n\\n\\n### KPMG becomes first Big Four firm to break into the US legal market KPMG has been granted a license to practice law in the US by the Arizona Supreme Court in a first for a Big Four firm.\\nBusiness Insider • yesterday\\n\\n\\n\\n### Why Verra Mobility (VRRM) Stock Is Trading Lower Today Shares of traffic solutions company Verra Mobility (NYSE:VRRM) fell 12.2% in the morning session after the company reported mixed fourth quarter 2024 results as its EBITDA forecast came in a little shy of expectations. Despite this, revenue increased 5% year-on-year, driven by strong demand in the Commercial Services and Government Solutions segments, with travel-related tolling activity and automated traffic enforcement programs contributing to the gains\\u200b. However, the Parking Solutions segment\\nStockStory • yesterday\\nVRRM\\n\\n\\n\\n### Why fuboTV (FUBO) Stock Is Down Today Shares of live sports and TV streaming service fuboTV (NYSE:FUBO) fell 22.2% in the morning session after the company reported weak fourth-quarter results, with next-quarter revenue guidance missing expectations and international subscriber numbers falling short of Wall Street\\'s estimates. While revenue grew 8% year-on-year, this marked a slowdown from previous quarters due to weaker subscriber additions.\\nStockStory • yesterday\\nFUBO\\n\\n\\n\\n### Why Ameresco (AMRC) Stock Is Trading Lower Today Shares of energy and renewable energy projects company Ameresco (NYSE:AMRC) fell 32.9% in the afternoon session after the company reported weak fourth quarter results: its full-year EBITDA and revenue guidance fell short of Wall Street\\'s estimates. On the other hand, Ameresco blew past analysts\\' EBITDA and its EPS outperformed Wall Street\\'s estimates. Still, this was a weaker quarter.\\nStockStory • yesterday\\nAMRC\\n\\n\\n\\n### Why Nextdoor (KIND) Stock Is Falling Today Shares of neighborhood social network Nextdoor (NYSE:KIND) fell 32.5% in the afternoon session after the company reported weak fourth-quarter 2024 results: its number of weekly active users fell short of expectations, and revenue and EBITDA guidance for the next quarter missed Wall Street estimates, signaling a tougher road ahead. Revenue guidance reflects a decline in ad impressions as Nextdoor prioritizes product transformation over immediate monetization, while EBITDA guidance suggests a retu\\nStockStory • yesterday\\n\\n\\n\\n### Why PubMatic (PUBM) Stock Is Down Today Shares of programmatic advertising platform Pubmatic (NASDAQ: PUBM) fell 24% in the morning session after the company reported weak fourth-quarter results: its revenue and EBITDA guidance for the next quarter fell short of Wall Street\\'s estimates. On the other hand, PubMatic beat analysts\\' EPS and EBITDA expectations this quarter. We note that ad tech companies had weaker quarters in general, as both The Trade Desk and DoubleVerify missed on revenue and guided below for next quarter. PubMatic wa\\nStockStory • yesterday\\nPUBM\\n\\n\\n\\n### Instant View: Wall Street shakes off Trump-Zelenskiy clash after dip Zelenskiy is \"not ready for Peace if America is involved,\" U.S. President Donald Trump said in a post on Truth Social on Friday, following a contentious meeting between the leaders in the Oval Office. The S&P 500 briefly dipped then rallied back to close 1.5% higher at 5,954.50.\\nReuters • yesterday\\n^GSPC\\n\\n\\n\\n### Super Micro stock sees nearly 30% weekly loss as AI server competition mounts Super Micro stock plunged 26% this week, extending the stock’s long streak of volatility as investors weigh the company’s AI-fueled growth against questionable accounting practices, growing competition, and larger economic uncertainties.\\nYahoo Finance • yesterday\\nNVDASMCI\\n\\n\\n\\n### Why Redfin (RDFN) Stock Is Falling Today Shares of real estate technology company Redfin (NASDAQ:RDFN) fell 16% in the afternoon session after the company reported weak fourth quarter results as its EPS and EBITDA missed. Its revenue and EBITDA guidance for next quarter also fell short of Wall Street\\'s estimates. Overall, this was a weaker quarter.\\nStockStory • yesterday\\nRDFN\\n\\n\\n\\n### Why Tutor Perini (TPC) Stock Is Up Today Shares of general contracting company Tutor Perini (NYSE:TPC) jumped 31.2% in the afternoon session after the company reported impressive fourth-quarter results and provided optimistic full-year EPS guidance, which blew past analysts\\' expectations. On the other hand, its revenue and EPS missed expectations, as the quarter was impacted by ongoing legacy dispute resolutions, which weighed on profitability\\u200b. Looking ahead, the company expects double-digit revenue growth in 2025 and strong profitabi\\nStockStory • yesterday\\nTPC\\n\\n\\n\\n### Why Solventum (SOLV) Stock Is Down Today Shares of healthcare solutions provider Solventum (NYSE:SOLV) fell 6.5% in the morning session after the company reported weak fourth quarter results: its full-year EPS guidance missed. On the other hand, Solventum narrowly topped analysts\\' organic revenue expectations, with organic sales rising 2.3% year-on-year, led by growth in its MedSurg and Dental Solutions segments. Looking ahead, the company expects 1% to 2% organic revenue growth in 2025 but will update its guidance following the sale o\\nStockStory • yesterday\\n\\n\\n\\n### DoubleVerify (DV) Stock Trades Down, Here Is Why Shares of digital media measurement and analytics provider DoubleVerify (NYSE:DV) fell 36.9% in the afternoon session after the company reported weak fourth-quarter 2024 results, which missed analysts\\' expectations across all key metrics. Its revenue and EBITDA guidance for next quarter also fell short of Wall Street\\'s estimates. DV noted the loss of a CPG customer in the quarter due to that customer\\'s struggles with commodity price inflation. The company also continues to see headwinds from a g\\nStockStory • yesterday\\nDV\\n\\n\\n\\n### Why Is ANI Pharmaceuticals (ANIP) Stock Soaring Today Shares of specialty pharmaceutical company ANI Pharmaceuticals (NASDAQ:ANIP) jumped 13.4% in the pre-market session after the company reported strong fourth-quarter 2024 results, significantly surpassing analysts\\' revenue expectations. Revenue surged 45% year-on-year, fueled by continued growth in its Rare Disease segment. Purified Cortrophin Gel led the way with a 42% rise, while the newly added ILUVIEN and YUTIQ products also boosted sales. The company raised its 2025 outlook, now expecting sa\\nStockStory • yesterday\\nANIP\\n\\n\\n\\n### Why Acadia Healthcare (ACHC) Stock Is Nosediving Shares of behavioral health company Acadia Healthcare (NASDAQ:ACHC) fell 24.1% in the afternoon session after the company reported weak fourth quarter results: Its revenue guidance for next quarter missed significantly and its EPS fell short of Wall Street\\'s estimates. Overall, this was a softer quarter.\\nStockStory • yesterday\\nACHC\\n\\n\\n\\n### Elastic (ESTC) Stock Trades Up, Here Is Why Shares of search software company Elastic (NYSE:ESTC) jumped 19.3% in the afternoon session after the company reported strong fiscal third-quarter 2025 results that exceeded analysts\\' billings expectations, leading to a beat on revenue, EPS, and adjusted operating income\\u200b. Sales grew 17% year-on-year, driven by strong demand for Elastic Cloud, which saw a 26% increase, reflecting continued momentum in cloud adoption and the company\\'s push toward AI-powered search capabilities\\u200b. That momentum mak\\nStockStory • yesterday\\nESTC\\n\\n\\n\\n### Why Is SoundHound AI (SOUN) Stock Soaring Today Shares of voice AI recognition company SoundHound (NASDAQ:SOUN) jumped 17.2% in the afternoon session after the company reported strong fourth-quarter results, surpassing analysts\\' revenue expectations. Revenue more than doubled year-on-year, reflecting continued growth in its AI voice technology business. However, profitability missed due to a $221 million non-recurring charge. Given the recent sharp declines in the stock, expectations were likely low, and the stock traded up.\\nStockStory • yesterday\\n\\n\\n\\n### Engage Gen Z today, lead the market tomorrow Gen Z is not just the next wave of workers—it’s a generation poised to redefine the workplace.\\nFortune • yesterday\\n\\n\\n\\n### Top Stock Movers Now: NetApp, Dell, HP, Erie Indemnity, and More Major U.S. equity indexes wavered between gains and losses at midday Friday after a key measure of inflation showed price pressures easing as anticipated.\\nInvestopedia • yesterday\\nNTAPERIE\\n\\n\\n\\n### Walgreens Stock Has \\'Run Too Far\\' on Deal Optimism, Analysts Say Shares of the pharmacy group fell Friday as analysts and investors assess new details about a potential sale.\\nInvestopedia • yesterday\\nWBA\\n\\n\\n\\n### Dell Stock Tumbles After Soft Sales Outlook—Why Analysts Are Still Bullish Dell shares fell Friday as the company’s sales and outlook disappointed. Analysts said it could be an opportunity to buy the dip.\\nInvestopedia • yesterday\\nDELL\\n\\n\\n\\n### Supermicro Stock Fell This Week as Avoiding Delisting Hasn\\'t Ended Volatility Shares of Super Micro Computer ended the week lower after recent losses reversed momentum from the company avoiding delisting on Tuesday.\\nInvestopedia • yesterday\\nSMCI\\n\\n\\n\\n### Nvidia Stock Finds Support from Friday Dip-Buyers Nvidia shares rose Friday, suggesting the stock found some support from dip-buyers after yesterday\\'s sell-off.\\nInvestopedia • yesterday\\nNVDA\\n\\n\\n\\n### China ETFs, Stocks Slump on Trump Plan to Double Tariffs China-focused exchange-traded funds and stocks of Chinese companies listed on U.S. exchanges fell Friday, after U.S. President Donald Trump said he was planning to double the existing tariff on goods from China.\\nInvestopedia • yesterday\\n\\n\\n\\n### Elastic Stock Surges on Strong Earnings, Outlook Amid AI Boom Elastic shares jumped Friday after the data analytics software provider reported better-than-expected earnings on strong demand for products related to artificial intelligence.\\nInvestopedia • yesterday\\nESTC\\n\\n\\n\\n### DoubleVerify Stock Plunges on Weaker-Than-Expected Earnings, Outlook DoubleVerify shares plummeted Friday after the developer of software for digital media posted weaker-than-expected results for the fourth quarter and offered a soft outlook.\\nInvestopedia • yesterday\\nDV\\n\\n\\n\\n### CME Group plans to launch Solana futures on March 17 (Reuters) -CME Group said on Friday that it plans to roll out futures contracts on cryptocurrency Solana on March 17, pending regulatory review. The exchange said it expects to debut two contracts, one for 500 Solana coins and a \"micro-sized\" contract for 25 Solana. \"We are responding to increasing client demand for a broader set of regulated products to manage cryptocurrency price risk,\" said Giovanni Vicioso, global head of cryptocurrency products at CME.\\nReuters • yesterday\\n\\n\\n\\n### Ethena (ENA) Now Available on Bithumb\\'s KRW Market Alongside Airdrop Promotion Bithumb, a prominent South Korean crypto exchange, has officially added Ethena (ENA) to its KRW market.\\nCoinMarketCap • yesterday\\n\\n\\n\\n### Bullish Signs in Latest Earnings Season, as Nvidia Results, Tariffs Weigh on Markets Nvidia\\'s latest earnings report delivered a blow to markets—though there are some bullish signs in the S&P 500’s numbers, according to a new analysis.\\nInvestopedia • yesterday\\nNVDA^GSPC\\n\\n\\n\\n### Walgreens downgraded, Cava Group upgraded: Wall Street\\'s top analyst calls Walgreens downgraded, Cava Group upgraded: Wall Street\\'s top analyst calls\\nThe Fly • yesterday\\nWBACAVA\\n\\n\\n\\n### Stock market today: Dow, S&P 500, Nasdaq rally to cap volatile week, losing month Investors are waiting for the release of the Federal Reserve\\'s preferred inflation gauge as they eye Trump’s latest trade threats.\\nYahoo Finance • yesterday\\nYM=F^GSPC\\n\\n\\n\\n### Bath & Body Works beat 2024 expectations, but its stock fell 12%. Its CEO says she was ‘surprised’ to see Wall Street’s reaction Tariffs and uncertain consumer spending dampened Wall Street\\'s enthusiasm for the retailer.\\nFortune • yesterday\\nBBWI\\n\\n\\n\\nCOPYRIGHT\\n\\nPOPULAR_QUOTES\\nDow Jones S&P 500 DAX Index Nvidia Tesla DJT Tariffs\\nEXPLORE_MORE\\nMortgages Credit Cards Sectors Crypto Heatmap Financial News\\nABOUT\\nData Disclaimer Help Feedback Sitemap Licensing What\\'s New About Our Ads PREMIUM_PLANS\\nTERMS AND PRIVACY_POLICY\\nPrivacy Dashboard\\nMore Info\\nTip: Try a valid symbol or a specific company name for relevant results\\nTrending Tickers\\n\\n\\nXRP-USD\\nXRP USD\\nCryptocurrencyCCC\\n\\n\\nBRK-A\\nBerkshire Hathaway Inc.\\nEquityNYQ\\n\\n\\nXLM-USD\\nStellar USD\\nCryptocurrencyCCC\\n\\n\\nXRP-CAD\\nXRP CAD\\nCryptocurrencyCCC\\n\\n\\nIBIT\\niShares Bitcoin Trust ETF\\nETFNGM\\n\\n\\nKO\\nThe Coca-Cola Company\\nEquityNYQ\\n\\n\\nU.S. markets closed\\nUS EUROPE ASIA RATES COMMODITIES CURRENCIES CRYPTOCURRENCIES\\n\\n\\nS&P 500 5,954.50 +92.93 (+1.59%)\\n\\n\\nDow 30 43,840.91 +601.41 (+1.39%)\\n\\n\\nNasdaq 18,847.28 +302.86 (+1.63%)\\n\\n\\nRussell 2000 2,163.07 +23.41 (+1.09%)\\n\\n\\nCrude Oil 69.95 -0.40 (-0.57%)\\n\\n\\nGold 2,867.30 -28.60 (-0.99%)\\n\\n\\n\\n\\nMY_PORTFOLIOS\\nMY_PORTFOLIOS\\nSIGN_IN_TO_VIEW_PORTFOLIO_PERFORMANCE\\nSIGN_IN\\n\\n\\nTOP_GAINERS\\n\\n\\nPRGO Perrigo Company plc 29.00 +4.87 (+20.18%)\\n\\n\\nSOUN SoundHound AI, Inc. 10.82 +1.61 (+17.48%)\\n\\n\\nALHC Alignment Healthcare, Inc. 15.69 +2.22 (+16.48%)\\n\\n\\nESTC Elastic N.V. 116.36 +15.08 (+14.89%)\\n\\n\\nNEXT NextDecade Corporation 8.22 +0.96 (+13.22%)\\n\\n\\n\\n\\nTOP_LOSERS\\n\\n\\nDV DoubleVerify Holdings, Inc. 13.90 -7.83 (-36.03%)\\n\\n\\nDLO DLocal Limited 9.56 -4.19 (-30.51%)\\n\\n\\nACHC Acadia Healthcare Company, Inc. 29.98 -10.28 (-25.53%)\\n\\n\\nDUOL Duolingo, Inc. 312.07 -63.71 (-16.95%)\\n\\n\\nNTAP NetApp, Inc. 99.81 -18.41 (-15.57%)\\n\\n\\n\\n\\nMOST_ACTIVES_MODULE\\n\\n\\nNVDA NVIDIA Corporation 124.92 +4.77 (+3.97%)\\n\\n\\nLYG Lloyds Banking Group plc 3.7500 +0.0600 (+1.63%)\\n\\n\\nF Ford Motor Company 9.55 +0.26 (+2.80%)\\n\\n\\nLCID Lucid Group, Inc. 2.2200 -0.0100 (-0.45%)\\n\\n\\nPLTR Palantir Technologies Inc. 84.92 +0.15 (+0.18%)\\n\\n\\n\\n\\nTRENDING_TICKERS\\n\\n\\nXRP-USD XRP USD 2.26 +0.07 (+3.20%)\\n\\n\\nBRK-A Berkshire Hathaway Inc. 775,000.00 +21,620.00 (+2.87%)\\n\\n\\nXLM-USD Stellar USD 0.32 +0.01 (+4.47%)\\n\\n\\nXRP-CAD XRP CAD 3.27 +0.10 (+3.20%)\\n\\n\\nIBIT iShares Bitcoin Trust ETF 47.90 +0.55 (+1.16%)\\n\\n\\n\\n\\nTOP_ECONOMIC_EVENTS\\n\\n\\nTERMS AND PRIVACY_POLICY\\nPrivacy Dashboard\\nAD_TERMS FEEDBACK More Info\\nWaiting for permission\\nAllow microphone access to enable voice search\\nTry again.\\nTry saying'},\n",
       " {'title': 'Yahoo Finance - Stock Market Live, Quotes, Business & Finance News',\n",
       "  'url': 'https://finance.yahoo.com/',\n",
       "  'content': \"### A Trader’s Guide for China’s Closely Watched Policy Meeting\\nBloomberg • 9 hours ago\\n\\n\\n### Trump takes actions to increase lumber supplies and curb wood imports\\nAssociated Press Finance • 9 hours ago\\n\\n\\nPopular\\n\\n\\n### Best business savings accounts for 2025\\nBankrate • yesterday\\n\\n\\n### Stock market today: Dow, S&P 500, Nasdaq rally to cap volatile week, losing month\\nYahoo Finance • yesterday\\nYM=F +1.26%^GSPC +1.59% [...] Yahoo Finance - Stock Market Live, Quotes, Business & Finance News\\n\\nNews\\n\\nToday's news\\nUS\\nPolitics\\nWorld\\n\\nTech\\n\\nReviews and deals\\nAudio\\nComputing\\nGaming\\nHealth\\nHome\\nPhones\\nScience\\nTVs\\nClimate change\\nHealth\\nScience\\n\\nOriginals\\n\\n\\nThe 360\\n\\nNewsletters\\n\\n\\n\\n\\nLife\\n\\n\\nHealth\\n\\nCOVID-19\\nFall allergies\\nHealth news\\nMental health\\nRelax\\nSexual health\\nStudies\\nThe Unwind\\n\\nParenting\\n\\n\\nFamily health\\n\\nSo mini ways\\n\\nStyle and beauty\\n\\n\\nIt Figures\\n\\nUnapologetically\\nHoroscopes\\n\\nShopping\\n\\n\\nBuying guides [...] News • yesterday Egg prices are set to jump 41% this year, but a top egg producer says relief is around the corner\\nNews • yesterday Target and Walmart rolled back DEI policies. Now, customers are pushing back.\\nNews • yesterday Tesla just wrapped up its second-worst month ever\\nBreaking News • yesterday Dow, S&P 500, Nasdaq rally to cap volatile week, losing month\",\n",
       "  'score': 0.6599319,\n",
       "  'raw_content': \"Yahoo Finance - Stock Market Live, Quotes, Business & Finance News\\n\\nNews\\n\\nToday's news\\nUS\\nPolitics\\nWorld\\n\\nTech\\n\\nReviews and deals\\nAudio\\nComputing\\nGaming\\nHealth\\nHome\\nPhones\\nScience\\nTVs\\nClimate change\\nHealth\\nScience\\n\\nOriginals\\n\\n\\nThe 360\\n\\nNewsletters\\n\\n\\n\\n\\nLife\\n\\n\\nHealth\\n\\nCOVID-19\\nFall allergies\\nHealth news\\nMental health\\nRelax\\nSexual health\\nStudies\\nThe Unwind\\n\\nParenting\\n\\n\\nFamily health\\n\\nSo mini ways\\n\\nStyle and beauty\\n\\n\\nIt Figures\\n\\nUnapologetically\\nHoroscopes\\n\\nShopping\\n\\n\\nBuying guides\\n\\nFood\\nTravel\\nAutos\\nGift ideas\\nBuying guides\\n\\n\\n\\n\\nEntertainment\\n\\nCelebrity\\nTV\\nMovies\\nMusic\\nHow to Watch\\nInterviews\\nVideos\\n\\n\\nFinance\\n\\nMy Portfolio\\n\\nNews\\n\\nLatest\\nStock Market\\nOriginals\\nThe Morning Brief\\nEconomies\\nTariff Updates\\nPremium News\\nEarnings\\nTech\\nHousing\\nCrypto\\n\\nMarkets\\n\\n\\nStocks: Most Actives\\n\\nStocks: Gainers\\nStocks: Losers\\nTrending Tickers\\nFutures\\nWorld Indices\\nUS Treasury Bonds Rates\\nCurrencies\\nCrypto\\nTop ETFs\\nTop Mutual Funds\\nOptions: Highest Open Interest\\nOptions: Highest Implied Volatility\\nSectors\\nBasic Materials\\nCommunication Services\\nConsumer Cyclical\\nConsumer Defensive\\nEnergy\\nFinancial Services\\nHealthcare\\nIndustrials\\nReal Estate\\nTechnology\\nUtilities\\n\\nResearch\\n\\n\\nScreeners\\n\\nCalendar\\nStock Comparison\\nAdvanced Chart\\nCurrency Converter\\nInvestment Ideas\\nResearch Reports\\n\\nPersonal Finance\\n\\n\\nCredit Cards\\n\\nBanking\\nBest HYSA\\nStudent Loans\\nPersonal Loans\\nInsurance\\nMortgages\\nMortgage Calculator\\nTaxes\\n\\nVideos\\n\\n\\nLatest\\n\\nEditor's Picks\\nInvesting Insights\\nTrending Stocks\\nAll Shows\\nMorning Brief\\nOpening Bid\\nWealth\\nETF Report\\nTrade This Way\\nOptions 101\\nDavos 2025\\nStreaming Now\\n\\n\\n\\n\\nSports\\n\\n\\nFantasy\\n\\nNews\\nFantasy football\\nBest Ball\\nPro Pick 'Em\\nCollege Pick 'Em\\nFantasy baseball\\nFantasy hockey\\nFantasy basketball\\nDownload the app\\nDaily fantasy\\n\\nNFL\\n\\n\\nNews\\n\\nScores and schedules\\nStandings\\nStats\\nTeams\\nPlayers\\nDrafts\\nInjuries\\nOdds\\nSuper Bowl\\nGameChannel\\nVideos\\n\\nMLB\\n\\n\\nNews\\n\\nScores and schedules\\nStandings\\nStats\\nTeams\\nPlayers\\nOdds\\nVideos\\nWorld Baseball Classic\\n\\nNBA\\n\\n\\nNews\\n\\nDraft\\nScores and schedules\\nStandings\\nStats\\nTeams\\nPlayers\\nInjuries\\nVideos\\nOdds\\nPlayoffs\\n\\nNHL\\n\\n\\nNews\\n\\nScores and schedules\\nStandings\\nStats\\nTeams\\nPlayers\\nOdds\\nPlayoffs\\n\\nSoccer\\n\\n\\nNews\\n\\nScores and schedules\\nPremier League\\nMLS\\nNWSL\\nLiga MX\\nCONCACAF League\\nChampions League\\nLa Liga\\nSerie A\\nBundesliga\\nLigue 1\\nWorld Cup\\n\\nCollege football\\n\\n\\nNews\\n\\nScores and schedules\\nStandings\\nRankings\\nStats\\nTeams\\n\\nShow all\\n\\n\\nMMA\\n\\nWNBA\\nSportsbook\\nNCAAF\\nTennis\\nGolf\\nNASCAR\\nNCAAB\\nNCAAW\\nBoxing\\nUSFL\\nCycling\\nMotorsports\\nOlympics\\nHorse racing\\nGameChannel\\nRivals\\nNewsletters\\nPodcasts\\nVideos\\nRSS\\nJobs\\nHelp\\nWorld Cup\\nMore news\\n\\n\\n\\n\\nNew on Yahoo\\n\\nCreators\\nGames\\nTech\\n\\nLocal Services\\n\\n\\nTerms\\n\\nPrivacy\\nPrivacy Dashboard\\nFeedback\\n\\n© 2025 All rights reserved.\\nAbout our ads Advertising Careers\\nYahoo Finance\\nYahoo Finance\\nSearch query \\nTip: Try a valid symbol or a specific company name for relevant results\\nTrending Tickers\\n\\n\\n\\nXRP-USD\\n2.26\\n( +3.20% )\\n\\n\\nB\\nBRK-A\\n775000.00\\n( +2.87% )\\n\\n\\n\\nXLM-USD\\n0.32\\n( +4.47% )\\n\\n\\n\\nXRP-CAD\\n3.27\\n( +3.20% )\\n\\n\\nI\\nIBIT\\n47.90\\n( +1.16% )\\n\\n\\nSelect edition\\n\\nUSEnglish\\nUS y LATAMEspañol\\nAustraliaEnglish\\nCanadaEnglish\\nCanadaFrançais\\nDeutschlandDeutsch\\nFranceFrançais\\n香港繁中\\nMalaysiaEnglish\\nNew ZealandEnglish\\nSingaporeEnglish\\n台灣繁中\\n\\nUKEnglish\\n\\n\\nNews\\n\\nFinance\\nSports\\n\\nMore\\n\\nNews\\nToday's news\\nUS\\nPolitics\\nWorld\\nWeather\\nClimate change\\nHealth\\nScience\\nOriginals\\nNewsletters\\n\\n\\nLife\\nHealth\\nParenting\\nStyle and beauty\\nHoroscopes\\nShopping\\nFood\\nTravel\\nAutos\\nGift ideas\\nBuying guides\\n\\n\\nEntertainment\\nCelebrity\\nTV\\nMovies\\nMusic\\nHow to watch\\nInterviews\\nVideos\\n\\n\\nFinance\\nMy portfolio\\nWatchlists\\nMarkets\\nNews\\nVideos\\nScreeners\\nPersonal finance\\nCrypto\\nIndustries\\n\\n\\nSports\\nFantasy\\nNFL\\nNBA\\nMLB\\nNHL\\nCollege football\\nCollege basketball\\nSoccer\\nMMA\\nYahoo Sports AM\\n\\n\\n\\n\\n\\nNew on Yahoo\\n\\nCreators\\nGames\\nTech\\nLocal Services\\n        *   Selected editionUSEnglish\\n\\n\\n\\n\\n\\n\\n\\nNotifications\\nToday\\n\\nNews • 9 hours ago Spring break 2025: Hot tips for warm vacations\\nNews • 12 hours ago The CFPB dropped several of its own lawsuits this week, as the overall direction of the agency remains unclear.\\nNews • 15 hours ago Where you live plays a key role in your everyday costs.\\nNews • 17 hours ago Columnist Rick Newman writes maybe the Biden economy wasn't so bad after all?\\nNews • 20 hours ago Finally for homebuyers: 'A step in the right direction'\\nNews • yesterday Egg prices are set to jump 41% this year, but a top egg producer says relief is around the corner\\nNews • yesterday Target and Walmart rolled back DEI policies. Now, customers are pushing back.\\nNews • yesterday Tesla just wrapped up its second-worst month ever\\nBreaking News • yesterday Dow, S&P 500, Nasdaq rally to cap volatile week, losing month\\nNews • yesterday 'It’s going to be very hard to do business like this': A Trump-Zelensky yelling match leaves Ukraine’s mineral rights deal in limbo.\\nNews • yesterday A campaign is calling for Americans to avoid shopping at retailers like Target and Walmart in an 'economic blackout' day\\nBreaking News • yesterday Nasdaq falls, S&P 500 wavers as major indexes are set to end down week, month\\nBreaking News • yesterday The Fed's preferred inflation gauge matched expectations, likely keeping the bank on track to hold rates next month.\\nNews • 2 days ago Tesla stock is down 30% this year. Here's why its gains from Trump's win didn't last.\\nNews • 2 days ago Surging market, steady saving yields new crop of 401(k) millionaires\\nNews • 2 days ago Even Trump gets confused by his own trade war. Here's a breakdown of his tariff threats and their deadlines.\\nNews • 2 days ago Nvidia stock sinks more than 8% as sky-high investor expectations overshadow earnings beat\\nBreaking News • 2 days ago Nvidia leads stock sell-off as Nasdaq falls 2.8%, S&P 500 drops 1.6%\\nBreaking News • 2 days ago The Nasdaq fell over 1.5% as tech stocks led markets lower and Nvidia shares tumbled. See the latest updates.\\nNews • 2 days ago Mortgage rates hit 2025 low as economic jitters mount\\nNews • 2 days ago Trump says tariffs on Mexico, Canada will arrive on March 4, vows to double China levies\\nBreaking News • 2 days ago S&P 500, Nasdaq rise as Nvidia gains after earnings beat\\nBreaking News • 2 days ago GDP: US economy grows at 2.3% annualized pace in fourth quarter, matching estimates\\nMorning Brief • 2 days ago The stock market might be Trump's strongest check and balance\\nNews • 3 days ago Zelensky and Ukraine strike a crafty minerals deal with Trump\\nNews • 3 days ago Why Elon Musk and DOGE aren't winning over the markets just yet\\nNews • 3 days ago Trump threatened 25% tariffs on EU imports, disparaging the bloc and escalating his trade conflict\\nNews • 3 days ago The chip giant's stock rose after it beat on earnings and issued upbeat Q1 guidance\\nNews • 3 days ago Watch our special report with the latest news, insights, and in-depth analysis from Nvidia’s high-stakes earnings report.\\nBreaking News • 3 days ago Nasdaq, S&P 500 eke out gains as all eyes turn to Nvidia earnings\\nBreaking News • 3 days ago Stocks forfeited early gains and bitcoin fell below $85,000 as Wall Street waited for Nvidia's earnings. See the latest.\\nNews • 3 days ago One of Trump's top economic picks is under pressure to explain his stance on the Fed\\nBreaking News • 3 days ago Nasdaq, S&P 500, Dow rise with all eyes on Nvidia earnings\\nNews • 3 days ago Reactions to Nvidia's earnings don't always align with the big picture\\nNews • 4 days ago The chip giant reports earnings Wednesday as tariffs and export controls rattle investors. Here's what to expect.\\nNews • 4 days ago Do traders think the stock market looks frothy and overvalued? A new survey says yes.\\nNews • 4 days ago Unforgiving math has Republicans asking for 'prayer' as they try to move forward on tax cuts\\nNews • 4 days ago Tesla stock tumbles 8% after report reveals a 45% drop in European sales\\nBreaking News • 4 days ago Nasdaq sinks over 1% amid more signs consumers are souring on the economy\\nNews • 4 days ago The Trump crypto rally is fading\\nNews • 4 days ago Consumer confidence notched its biggest monthly decline in nearly four years amid expectations for a coming surge in inflation.\\nBreaking News • 4 days ago Dow pops higher, Nasdaq slips while bitcoin tumbles below $90,000 for the first time since November\\nNews • 4 days ago Why stock market worries about tariff uncertainty might be a 'red herring'\\nNews • 5 days ago OpenAI is trying to make itself Elon Musk proof\\nNews • 5 days ago Jamie Dimon doubles down on RTO plans after testy town hall audio leak: 'We're going back to the office'\\nNews • 5 days ago Trump talks up 'economic development' deal with Russia, but details remain murky\\nBreaking News • 5 days ago Nasdaq, S&P 500 slide as tech lags after Trump backs tariff plans on Canada, Mexico\\nBreaking News • 5 days ago Dow, S&P 500, Nasdaq climb with Nvidia earnings in their sights\\nNews • 5 days ago Apple will invest $500 billion in the US, creating a new factory and adding 20,000 jobs — including in AI.\\nMorning Brief • 5 days ago Nvidia earnings and the Fed's preferred inflation gauge: What to know this week\\n\\nView all notifications\\nMail\\nSign in\\n\\nMy Portfolio\\n\\nNews\\n\\nLatest\\nStock Market\\nOriginals\\nThe Morning Brief\\nEconomies\\nTariff Updates\\nPremium News\\nEarnings\\nTech\\nHousing\\nCrypto\\n\\n\\n\\nMarkets\\n\\nStocks: Most Actives\\nStocks: Gainers\\nStocks: Losers\\nTrending Tickers\\nFutures\\nWorld Indices\\nUS Treasury Bonds Rates\\nCurrencies\\nCrypto\\nTop ETFs\\nTop Mutual Funds\\nOptions: Highest Open Interest\\nOptions: Highest Implied Volatility\\nSectors\\nBasic Materials\\nCommunication Services\\nConsumer Cyclical\\nConsumer Defensive\\nEnergy\\nFinancial Services\\nHealthcare\\nIndustrials\\nReal Estate\\nTechnology\\nUtilities\\n\\n\\n\\nResearch\\n\\nScreeners\\nCalendar\\nStock Comparison\\nAdvanced Chart\\nCurrency Converter\\nInvestment Ideas\\nResearch Reports\\n\\n\\n\\nPersonal Finance\\n\\nCredit Cards\\nBanking\\nBest HYSA\\nStudent Loans\\nPersonal Loans\\nInsurance\\nMortgages\\nMortgage Calculator\\nTaxes\\n\\n\\n\\nVideos\\n\\nLatest\\nEditor's Picks\\nInvesting Insights\\nTrending Stocks\\nAll Shows\\nMorning Brief\\nOpening Bid\\nWealth\\nETF Report\\nTrade This Way\\nOptions 101\\nDavos 2025\\n\\n\\n\\nStreaming Now\\n\\n\\n…\\nUpgrade to Premium\\n\\nFlying to spring break destinations more expensive this year ------------------------------------------------------------ There's high demand right now for warm weather getaways. And prices are up, but deals are out there.\\nYahoo Finance • 19 hours ago\\n\\n\\n\\n### Finally for homebuyers: 'A step in the right direction'\\nYahoo Finance • 20 hours ago\\n\\n\\n\\n### Commentary: Maybe the Biden economy wasn't so bad after all?\\nYahoo Finance • 18 hours ago\\n\\n\\n\\n### All the tariff threats: What Trump is promising between now and April\\nYahoo Finance • 17 hours ago\\nWMT +1.88%GS +2.86%\\n\\n\\n### Hooters' problems pose a test for securitizations\\nBloomberg • 13 hours ago\\n\\n\\n### New Musk-inspired email to federal workers seeks weekly reports\\nBloomberg • 17 hours ago\\n\\n\\n### Panama's $10 billion copper mine faces tough road to restart\\nBloomberg • 17 hours ago\\nFQVLF -0.64%\\n\\n\\n### The Chinese EV maker threatening Ford and GM\\nThe Wall Street Journal • yesterday\\nXIACY -0.03%AAPL +1.91%\\n\\n\\n### Car insurance rates are climbing. Here are 11 ways to save.\\nYahoo Personal Finance • 8 days ago\\n\\n\\n### Report: SoftBank in talks to borrow $16 billion to fund AI\\nReuters • 16 hours ago\\nSFTBY -1.88%\\n\\n\\nView More\\nLatest\\n\\n\\n### US Jobs Report to Offer Clues on Hiring Momentum\\nBloomberg • 24 minutes ago\\n\\n\\n### Merz’s Conservatives Heading for Reverse in German Regional Vote\\nBloomberg • 2 hours ago\\n\\n\\n### In address to congress, Argentine President Milei promises IMF deal and lauds economic wins\\nAssociated Press Finance • 4 hours ago\\n\\n\\n### India's Adani Group revives US investment plans, FT reports\\nReuters • 5 hours ago\\nADANIPOWER.NS -3.68%\\n\\n\\n### Milei to Seek Congress Support for IMF Deal ‘in Coming Days’\\nBloomberg • 6 hours ago\\n\\n\\n### Carriers prioritizing West Coast\\nFreightWaves • 7 hours ago\\n\\n\\n### A Trader’s Guide for China’s Closely Watched Policy Meeting\\nBloomberg • 9 hours ago\\n\\n\\n### Trump takes actions to increase lumber supplies and curb wood imports\\nAssociated Press Finance • 9 hours ago\\n\\n\\nPopular\\n\\n\\n### Best business savings accounts for 2025\\nBankrate • yesterday\\n\\n\\n### Stock market today: Dow, S&P 500, Nasdaq rally to cap volatile week, losing month\\nYahoo Finance • yesterday\\nYM=F +1.26%^GSPC +1.59%\\n\\n\\n### The CFPB just dropped a bunch of its own lawsuits as the agency's future hangs in limbo\\nYahoo Finance • 17 hours ago\\n\\n\\n### There are big cracks in a $7 trillion bull case for stocks to keep rising\\nBusiness Insider • 12 hours ago\\n\\n\\n### They Crashed the Economy in 2008. Now They’re Back and Bigger Than Ever.\\nThe Wall Street Journal • yesterday\\n\\n\\n### Morningstar | A Weekly Summary of Stock Ideas and Developments in the Companies We Cover\\nMorningstar Research • yesterday\\nAR +3.15%HES +1.38%\\n\\n\\n### Warren Buffett Knew Nothing About This Business. It Made Him Billions.\\nThe Wall Street Journal • yesterday\\nBRK-B +2.27%\\n\\n\\n### Healthcare sector leading markets in 2025: What to know Investors have been turning to the healthcare sector (XLV) as they search for safe haven investments amid recent market turbulence. Market Domination anchor Julie Hyman details how the industry has been outperforming the broader market (^DJI, ^IXIC, ^GSPC), noting some of the standouts in the sector. To watch more expert insights and analysis on the latest market action, check out more Market Domination\\xa0here. This post was written by Luke Carberry Mogan.\\n3d agoUNH +1.37%XLV +1.16%\\n\\n\\n 04:13\\n### Tariff uncertainty is still 'hanging over' Nvidia's stock\\nYahoo Finance Video • 2d ago\\nNVDA +3.97%\\n\\n\\n 02:19\\n### How investors can prepare for a fluctuating market in 2025\\nYahoo Finance Video • 20h ago\\n^IXIC +1.63%^DJI +1.39%\\n\\n\\n 03:02\\n### Tesla stock faces 'tug of war' as Musk deepens political role\\nYahoo Finance Video • 2d ago\\nTSLA +3.91%\\n\\n\\n 05:12\\n### Gen Z 'got the memo' when it comes to retirement saving\\nYahoo Finance Video • 5d ago\\n\\n\\nView More\\nInvestment Ideas\\nBuild Your Wealth\\nView More\\nMore News\\n\\nCopyright © 2025 Yahoo. All rights reserved.\\n\\nPOPULAR QUOTES\\nDow Jones S&P 500 DAX Index Nvidia Tesla DJT Tariffs\\nEXPLORE MORE\\nMortgages Credit Cards Sectors Crypto Heatmap Financial News\\nABOUT\\nData Disclaimer Help Feedback Sitemap Licensing What's New About Our Ads Premium Plans\\nTerms and Privacy Policy\\nPrivacy Dashboard\\nMore Info\\nTip: Try a valid symbol or a specific company name for relevant results\\nTrending Tickers\\n\\n\\nXRP-USD\\nXRP USD\\nCryptocurrencyCCC\\n\\n\\nBRK-A\\nBerkshire Hathaway Inc.\\nEquityNYQ\\n\\n\\nXLM-USD\\nStellar USD\\nCryptocurrencyCCC\\n\\n\\nXRP-CAD\\nXRP CAD\\nCryptocurrencyCCC\\n\\n\\nIBIT\\niShares Bitcoin Trust ETF\\nETFNGM\\n\\n\\nU.S. markets closed\\nUS Europe Asia Rates Commodities Currencies Cryptocurrencies\\n\\n\\nS&P 500 5,954.50 +92.93 (+1.59%)\\n\\n\\nDow 30 43,840.91 +601.41 (+1.39%)\\n\\n\\nNasdaq 18,847.28 +302.86 (+1.63%)\\n\\n\\nRussell 2000 2,163.07 +23.41 (+1.09%)\\n\\n\\nCrude Oil 69.95 -0.40 (-0.57%)\\n\\n\\nGold 2,867.30 -28.60 (-0.99%)\\n\\n\\n\\n\\nMy Portfolios\\nMy Portfolios\\nSign in to access your portfolio\\nSign in\\n\\n\\nTop Gainers\\n\\n\\nPRGO Perrigo Company plc 29.00 +4.87 (+20.18%)\\n\\n\\nSOUN SoundHound AI, Inc. 10.82 +1.61 (+17.48%)\\n\\n\\nALHC Alignment Healthcare, Inc. 15.69 +2.22 (+16.48%)\\n\\n\\nESTC Elastic N.V. 116.36 +15.08 (+14.89%)\\n\\n\\nNEXT NextDecade Corporation 8.22 +0.96 (+13.22%)\\n\\n\\n\\n\\nTop Losers\\n\\n\\nDV DoubleVerify Holdings, Inc. 13.90 -7.83 (-36.03%)\\n\\n\\nDLO DLocal Limited 9.56 -4.19 (-30.51%)\\n\\n\\nACHC Acadia Healthcare Company, Inc. 29.98 -10.28 (-25.53%)\\n\\n\\nDUOL Duolingo, Inc. 312.07 -63.71 (-16.95%)\\n\\n\\nNTAP NetApp, Inc. 99.81 -18.41 (-15.57%)\\n\\n\\n\\n\\nMost Active\\n\\n\\nNVDA NVIDIA Corporation 124.92 +4.77 (+3.97%)\\n\\n\\nLYG Lloyds Banking Group plc 3.7500 +0.0600 (+1.63%)\\n\\n\\nF Ford Motor Company 9.55 +0.26 (+2.80%)\\n\\n\\nLCID Lucid Group, Inc. 2.2200 -0.0100 (-0.45%)\\n\\n\\nPLTR Palantir Technologies Inc. 84.92 +0.15 (+0.18%)\\n\\n\\n\\n\\nTrending Tickers\\n\\n\\nXRP-USD XRP USD 2.26 +0.07 (+3.20%)\\n\\n\\nBRK-A Berkshire Hathaway Inc. 775,000.00 +21,620.00 (+2.87%)\\n\\n\\nXLM-USD Stellar USD 0.32 +0.01 (+4.47%)\\n\\n\\nXRP-CAD XRP CAD 3.27 +0.10 (+3.20%)\\n\\n\\nIBIT iShares Bitcoin Trust ETF 47.90 +0.55 (+1.16%)\\n\\n\\n\\n\\nTop Economic Events\\n\\n\\nTerms and Privacy Policy\\nPrivacy Dashboard\\nAd Terms Feedback More Info\\nWaiting for permission\\nAllow microphone access to enable voice search\\nTry again.\\nTry saying\"},\n",
       " {'title': 'Stock Market News For Apr 1, 2025 - April 1, 2025 - Zacks.com',\n",
       "  'url': 'https://www.zacks.com/stock/news/2437816/stock-market-news-for-apr-1-2025',\n",
       "  'content': 'U.S. stocks markets closed mixed on Monday to finish the first quarter of 2025 after a choppy session. Stock Market News For Apr 1, 2025 - April 1, 2025 - Zacks.com',\n",
       "  'score': 0.63750535},\n",
       " {'title': 'Stock Market News',\n",
       "  'url': 'https://www.cnbc.com/stocks/',\n",
       "  'content': \"Citi downgrades Nike to neutral after disappointing meeting with CEO\\nFri, Feb 7th 2025\\n\\nWall Street analysts say buy the dip in Amazon, see upside ahead because of AI\\nFri, Feb 7th 2025\\nDeutsche Bank upgrades Honeywell because of break-up plan, sees 30% upside\\nFri, Feb 7th 2025\\nMad Money\\nE.l.f. Beauty CEO explains softer sales trends in January\\nThu, Feb 6th 2025\\nMad Money\\nCramer's Lightning Round: NextEra Energy is a buy\\nThu, Feb 6th 2025\\nTrending Now [...] Mad Money\\nJim Cramer reviews 10 stocks leading the Dow now\\nThu, Feb 6th 2025\\nETF Edge\\nETF provider is trying to help investors cut exposure to Magnificent 7 stocks\\nThu, Feb 6th 2025\\nMarket Insider\\nStocks making the biggest moves after hours: Amazon, Pinterest, Expedia and more\\nThu, Feb 6th 2025\\nThe Magnificent Seven has split into two camps to start the year\\nThu, Feb 6th 2025\\n\\nTapestry shares have doubled in 6 months, and one investor is taking profits\\nThu, Feb 6th 2025\",\n",
       "  'score': 0.62742686,\n",
       "  'raw_content': \"Stock Market News\\nSkip Navigation\\n\\n\\nMarkets\\n\\nPre-Markets\\nU.S. Markets\\nCurrencies\\nCryptocurrency\\nFutures & Commodities\\nBonds\\nFunds & ETFs\\n\\nBusiness\\n\\nEconomy\\nFinance\\nHealth & Science\\nMedia\\nReal Estate\\nEnergy\\nClimate\\nTransportation\\nIndustrials\\nRetail\\nWealth\\nSports\\nLife\\nSmall Business\\n\\nInvesting\\n\\nPersonal Finance\\nFintech\\nFinancial Advisors\\nOptions Action\\nETF Street\\nBuffett Archive\\nEarnings\\nTrader Talk\\n\\nTech\\n\\nCybersecurity\\nAI\\nEnterprise\\nInternet\\nMedia\\nMobile\\nSocial Media\\nCNBC Disruptor 50\\nTech Guide\\n\\nPolitics\\n\\nWhite House\\nPolicy\\nDefense\\nCongress\\nEquity and Opportunity\\n\\nVideo\\n\\nLatest Video\\nFull Episodes\\nLivestream\\nLive Audio\\nLive TV Schedule\\nCNBC Podcasts\\nCEO Interviews\\nCNBC Documentaries\\nDigital Originals\\n\\nWatchlist\\nInvesting Club\\n\\nTrust Portfolio\\nAnalysis\\nTrade Alerts\\nMeeting Videos\\nHomestretch\\nJim's Columns\\nEducation\\nSubscribe\\nSign In\\n\\n\\nPRO\\n\\nPro News\\nMy PortfolioNEW!\\nLivestream\\nFull Episodes\\nStock Screener\\nMarket Forecast\\nOptions Investing\\nChart Investing\\nSubscribe\\nSign In\\n\\n\\nLivestream\\nMenu\\n\\nMake It\\n\\nselect\\n\\nALL SELECT\\nCredit Cards\\nLoans\\nBanking\\nMortgages\\nInsurance\\nCredit Monitoring\\nPersonal Finance\\nSmall Business\\nTaxes\\nHelp for Low Credit Scores\\n\\nInvesting\\n\\n\\nSELECT\\n\\nAll Credit Cards\\nFind the Credit Card for You\\nBest Credit Cards\\nBest Rewards Credit Cards\\nBest Travel Credit Cards\\nBest 0% APR Credit Cards\\nBest Balance Transfer Credit Cards\\nBest Cash Back Credit Cards\\nBest Credit Card Welcome Bonuses\\nBest Credit Cards to Build Credit\\nSELECT\\nAll Loans\\nFind the Best Personal Loan for You\\nBest Personal Loans\\nBest Debt Consolidation Loans\\nBest Loans to Refinance Credit Card Debt\\nBest Loans with Fast Funding\\nBest Small Personal Loans\\nBest Large Personal Loans\\nBest Personal Loans to Apply Online\\nBest Student Loan Refinance\\nSELECT\\nAll Banking\\nFind the Savings Account for You\\nBest High Yield Savings Accounts\\nBest Big Bank Savings Accounts\\nBest Big Bank Checking Accounts\\nBest No Fee Checking Accounts\\nNo Overdraft Fee Checking Accounts\\nBest Checking Account Bonuses\\nBest Money Market Accounts\\nBest CDs\\nBest Credit Unions\\nSELECT\\nAll Mortgages\\nBest Mortgages\\nBest Mortgages for Small Down Payment\\nBest Mortgages for No Down Payment\\nBest Mortgages with No Origination Fee\\nBest Mortgages for Average Credit Score\\nAdjustable Rate Mortgages\\nAffording a Mortgage\\nSELECT\\nAll Insurance\\nBest Life Insurance\\nBest Homeowners Insurance\\nBest Renters Insurance\\nBest Car Insurance\\nTravel Insurance\\nSELECT\\nAll Credit Monitoring\\nBest Credit Monitoring Services\\nBest Identity Theft Protection\\nHow to Boost Your Credit Score\\nCredit Repair Services\\nSELECT\\nAll Personal Finance\\nBest Budgeting Apps\\nBest Expense Tracker Apps\\nBest Money Transfer Apps\\nBest Resale Apps and Sites\\nBuy Now Pay Later (BNPL) Apps\\nBest Debt Relief\\nSELECT\\nAll Small Business\\nBest Small Business Savings Accounts\\nBest Small Business Checking Accounts\\nBest Credit Cards for Small Business\\nBest Small Business Loans\\nBest Tax Software for Small Business\\nSELECT\\nAll Taxes\\nFiling For Free\\nBest Tax Software\\nBest Tax Software for Small Businesses\\nTax Refunds\\nTax Brackets\\nTax Tips\\nTax By State\\nTax Payment Plans\\nSELECT\\nAll Help for Low Credit Scores\\nBest Credit Cards for Bad Credit\\nBest Personal Loans for Bad Credit\\nBest Debt Consolidation Loans for Bad Credit\\nPersonal Loans if You Don't Have Credit\\nBest Credit Cards for Building Credit\\nPersonal Loans for 580 Credit Score or Lower\\nPersonal Loans for 670 Credit Score or Lower\\nBest Mortgages for Bad Credit\\nBest Hardship Loans\\nHow to Boost Your Credit Score\\nSELECT\\nAll Investing\\nBest IRA Accounts\\nBest Roth IRA Accounts\\nBest Investing Apps\\nBest Free Stock Trading Platforms\\nBest Robo-Advisors\\nIndex Funds\\nMutual Funds\\nETFs\\nBonds\\n\\n\\n\\nUSA\\n\\n\\nINTL\\n\\n\\nLivestream\\n\\n\\nSearch quotes, news & videos\\n\\nLivestream\\n\\nWatchlist\\nSIGN IN\\n\\nMarkets\\nBusiness\\nInvesting\\nTech\\nPolitics\\nVideo\\nWatchlist\\nInvesting Club\\n\\nPRO\\n\\nLivestream\\nMenu\\nMarkets\\nstocks\\n\\nstocks\\nDow 30\\nNASDAQ 100\\nSectors\\n\\n\\nBig Tech AI spending plans should allow Nvidia longs to rest easier after DeepSeek scare\\nPia SinghFri, Feb 7th 2025\\n\\nInflation readings and earnings next week will have to reassure a worried market\\nSarah MinFri, Feb 7th 2025\\n\\nStocks making the biggest moves midday: Amazon, Expedia, Pinterest and more\\nHakyung KimFri, Feb 7th 2025\\n\\nGoldman is worried about a correction due to a less-friendly macro environment\\nYun LiFri, Feb 7th 2025\\n\\nThe January jobs report didn't change what investors can expect from the Fed\\nSarah MinFri, Feb 7th 2025\\n\\nMarket Insider\\nStocks making biggest moves premarket: Pinterest, Amazon, Tesla and more\\nFri, Feb 7th 2025\\n\\nCiti downgrades Nike to neutral after disappointing meeting with CEO\\nFri, Feb 7th 2025\\n\\nWall Street analysts say buy the dip in Amazon, see upside ahead because of AI\\nFri, Feb 7th 2025\\nDeutsche Bank upgrades Honeywell because of break-up plan, sees 30% upside\\nFri, Feb 7th 2025\\nMad Money\\nE.l.f. Beauty CEO explains softer sales trends in January\\nThu, Feb 6th 2025\\nMad Money\\nCramer's Lightning Round: NextEra Energy is a buy\\nThu, Feb 6th 2025\\nTrending Now\\n\\n\\n1\\nIBM is the best Dow stock over the past 3 months, but one CIO says its AI message is disappointing\\n\\n\\n2\\nMusk to rehire Treasury DOGE staffer behind racist posts after Trump endorses idea\\n\\n\\n3\\nThe IRS has issued 3.2 million tax refunds this year. Here’s the average payment\\n\\n\\n4\\nRFK Jr. had up to $1.2 million in credit card debt — what experts say about tackling high balances\\n\\n\\n5\\nJudge pauses Trump plan to put USAID staff on leave\\n\\n\\nMore In stocks\\n\\nPlaybooks\\nFriday’s big stock stories: What’s likely to move the market in the next session\\nThu, Feb 6th 2025\\n\\nMad Money\\nRoblox CEO talks growth goals after earnings: 'There's a huge market out there'\\nThu, Feb 6th 2025\\n\\nMad Money\\nJim Cramer reviews 10 stocks leading the Dow now\\nThu, Feb 6th 2025\\nETF Edge\\nETF provider is trying to help investors cut exposure to Magnificent 7 stocks\\nThu, Feb 6th 2025\\nMarket Insider\\nStocks making the biggest moves after hours: Amazon, Pinterest, Expedia and more\\nThu, Feb 6th 2025\\nThe Magnificent Seven has split into two camps to start the year\\nThu, Feb 6th 2025\\n\\nTapestry shares have doubled in 6 months, and one investor is taking profits\\nThu, Feb 6th 2025\\n\\nThese bonds get investors in on stadium action — and provide tax-free income\\nThu, Feb 6th 2025\\n\\nHow stocks could react to Friday's jobs report, according to JPMorgan traders\\nThu, Feb 6th 2025\\nHere's what Wall Street is looking for in Amazon's fourth-quarter earnings\\nThu, Feb 6th 2025\\nThese names reporting earnings have a track record of topping expectations\\nThu, Feb 6th 2025\\nMarket Insider\\nStocks making biggest midday moves: Roblox, Peloton, Ralph Lauren and more\\nThu, Feb 6th 2025\\n\\nRetail traders just can't stop buying stocks\\nThu, Feb 6th 2025\\n\\nMorgan Stanley says buy the DeepSeek dip in Nvidia, calls it top pick into earnings\\nThu, Feb 6th 2025\\n\\nUBS believes China trade war will worsen. Beware these tariff-sensitive stocks\\nThu, Feb 6th 2025\\nAt the halfway mark of earnings season, here's how corporate America is doing\\nThu, Feb 6th 2025\\nMarket Insider\\nStocks making the biggest moves premarket: Ford, Eli Lilly, Honeywell and more\\nThu, Feb 6th 2025\\nAnalysts remain optimistic on Disney's growth despite bumpy earnings reaction\\nThu, Feb 6th 2025\\n\\nFord guidance overshadows strong fourth-quarter results. What analysts are saying\\nThu, Feb 6th 2025\\n\\nAnalysts liked Qualcomm's results, but concerns about growth are emerging\\nThu, Feb 6th 2025\\n\\nChina Economy\\nChina says will protect its own interests in face of U.S. 'bullying'\\nThu, Feb 6th 2025\\nChina Economy\\nHuawei revenue grows at fastest pace since 2016, bucking U.S. sanctions\\nWed, Feb 5th 2025\\nPlaybooks\\nThursday’s stock stories: What’s likely to move the market in the next session\\nWed, Feb 5th 2025\\nMad Money\\nCramer's Lightning Round: Don't buy Bitdeer\\nWed, Feb 5th 2025\\nLoad More\\n\\n\\n\\n\\n\\n\\n\\n\\n\\n\\n\\n\\nSubscribe to CNBC PRO\\n\\nSubscribe to Investing Club\\nLicensing & Reprints\\nCNBC Councils\\nSelect Personal Finance\\nCNBC on Peacock\\nJoin the CNBC Panel\\nSupply Chain Values\\nSelect Shopping\\nClosed Captioning\\nDigital Products\\nNews Releases\\nInternships\\nCorrections\\nAbout CNBC\\nAd Choices\\nSite Map\\nPodcasts\\nCareers\\nHelp\\n\\nContact\\n\\n\\nNews Tips\\nGot a confidential news tip? We want to hear from you.\\nGet In Touch\\n*   #### CNBC Newsletters\\nSign up for free newsletters and get more CNBC delivered to your inbox\\nSign Up NowGet this delivered to your inbox, and more info about our products and services.\\n\\n\\nAdvertise With Us\\nPlease Contact Us\\n\\n\\nPrivacy Policy\\n\\n\\nCA Notice\\nTerms of Service\\n\\n© 2025 CNBC LLC. All Rights Reserved.\\xa0A Division of NBCUniversal\\nData is a real-time snapshot *Data is delayed at least 15 minutes. Global Business and Financial News, Stock Quotes, and Market Data and Analysis.\\nMarket Data Terms of Use and DisclaimersData also provided by\"},\n",
       " {'title': 'Market Today, April 1: GIFT Nifty down, Trump tariff, Gold, Auto sales ...',\n",
       "  'url': 'https://www.business-standard.com/markets/news/stock-market-today-april-1-gift-nifty-down-trump-tariff-gold-auto-sales-ipo-125040100086_1.html',\n",
       "  'content': 'Stock Market Today, Tuesday, April 1: At 7:00 AM, GIFT Nifty futures were at 23449, down 189 points.',\n",
       "  'score': 0.61140573}]"
      ]
     },
     "execution_count": 36,
     "metadata": {},
     "output_type": "execute_result"
    }
   ],
   "source": [
    "question=\"What is today stock market news\"\n",
    "search.invoke(question)"
   ]
  },
  {
   "cell_type": "markdown",
   "metadata": {},
   "source": [
    "## Wikipedia search"
   ]
  },
  {
   "cell_type": "code",
   "execution_count": null,
   "metadata": {},
   "outputs": [],
   "source": [
    "#!pip install --upgrade --quiet  wikipedia"
   ]
  },
  {
   "cell_type": "code",
   "execution_count": 38,
   "metadata": {},
   "outputs": [],
   "source": [
    "from langchain_community.tools import WikipediaQueryRun\n",
    "from langchain_community.utilities import WikipediaAPIWrapper"
   ]
  },
  {
   "cell_type": "code",
   "execution_count": 39,
   "metadata": {},
   "outputs": [],
   "source": [
    "wikipedia = WikipediaQueryRun(api_wrapper=WikipediaAPIWrapper())"
   ]
  },
  {
   "cell_type": "code",
   "execution_count": null,
   "metadata": {},
   "outputs": [
    {
     "data": {
      "text/plain": [
       "\"Page: Closed-ended question\\nSummary: A closed-ended question is any question for which a researcher provides research participants with options from which to choose a response. Closed-ended questions are sometimes phrased as a statement that requires a response.\\nA closed-ended question contrasts with an open-ended question, which cannot easily be answered with specific information.\\n\\n\\n\\nPage: France\\nSummary: France, officially the French Republic, is a country located primarily in Western Europe. Its overseas regions and territories include French Guiana in South America, Saint Pierre and Miquelon in the North Atlantic, the French West Indies, and many islands in Oceania and the Indian Ocean, giving it one of the largest discontiguous exclusive economic zones in the world. Metropolitan France shares borders with Belgium and Luxembourg to the north, Germany to the northeast, Switzerland to the east, Italy and Monaco to the southeast, Andorra and Spain to the south, and a maritime border with the United Kingdom to the northwest. Its metropolitan area extends from the Rhine to the Atlantic Ocean and from the Mediterranean Sea to the English Channel and the North Sea. Its eighteen integral regions—five of which are overseas—span a combined area of 632,702 km2 (244,288 sq mi) and have an estimated total population of over 68.6 million as of January 2025. France is a semi-presidential republic and its capital, largest city and main cultural and economic centre is Paris.\\nMetropolitan France was settled during the Iron Age by Celtic tribes known as Gauls before Rome annexed the area in 51 BC, leading to a distinct Gallo-Roman culture. In the Early Middle Ages, the Franks formed the kingdom of Francia, which became the heartland of the Carolingian Empire. The Treaty of Verdun of 843 partitioned the empire, with West Francia evolving into the Kingdom of France. In the High Middle Ages, France was a powerful but decentralized feudal kingdom, but from the mid-14th to the mid-15th centuries, France was plunged into a dynastic conflict with England known as the Hundred Years' War. In the 16th century, French culture flourished during the French Renaissance and a French colonial empire emerged. Internally, France was dominated by the conflict with the House of Habsburg and the French Wars of Religion between Catholics and Huguenots. France was successful in the Thirty Years' War and further increased its influence during the reign of Louis XIV.\\nThe French Revolution of 1789 overthrew the Ancien Régime and produced the Declaration of the Rights of Man, which expresses the nation's ideals to this day. France reached its political and military zenith in the early 19th century under Napoleon Bonaparte, subjugating part of continental Europe and establishing the First French Empire. The collapse of the empire initiated a period of relative decline, in which France endured the Bourbon Restoration until the founding of the French Second Republic which was succeeded by the Second French Empire upon Napoleon III's takeover. His empire collapsed during the Franco-Prussian War in 1870. This led to the establishment of the Third French Republic, and subsequent decades saw a period of economic prosperity and cultural and scientific flourishing known as the Belle Époque. France was one of the major participants of World War I, from which it emerged victorious at great human and economic cost. It was among the Allies of World War II, but it surrendered and was occupied in 1940. Following its liberation in 1944, the short-lived Fourth Republic was established and later dissolved in the course of the defeat in the Algerian War. The current Fifth Republic was formed in 1958 by Charles de Gaulle. Algeria and most French colonies became independent in the 1960s, with the majority retaining close economic and military ties with France.\\nFrance retains its centuries-long status as a global centre of art, science, and philosophy. It hosts the fourth-largest number of\""
      ]
     },
     "execution_count": 40,
     "metadata": {},
     "output_type": "execute_result"
    }
   ],
   "source": [
    "question=\"What is the capital of France?\"\n",
    "wikipedia.invoke(question)"
   ]
  },
  {
   "cell_type": "code",
   "execution_count": 42,
   "metadata": {},
   "outputs": [
    {
     "name": "stdout",
     "output_type": "stream",
     "text": [
      "Page: Large language model\n",
      "Summary: A large language model (LLM) is a type of machine learning model designed for natural language processing tasks such as language generation. LLMs are language models with many parameters, and are trained with self-supervised learning on a vast amount of text.\n",
      "The largest and most capable LLMs are generative pretrained transformers (GPTs). Modern models can be fine-tuned for specific tasks or guided by prompt engineering. These models acquire predictive power regarding syntax, semantics, and ontologies inherent in human language corpora, but they also inherit inaccuracies and biases present in the data they are trained in.\n",
      "\n",
      "Page: Vibe coding\n",
      "Summary: Vibe coding (also vibecoding) is an AI-dependent programming technique where a person describes a problem in a few sentences as a prompt to a  large language model (LLM) tuned for coding. The LLM generates software, shifting the programmer's role from manual coding to guiding, testing, and refining the AI-generated source code. Vibe coding is claimed by its advocates to allow even amateur programmers to produce software without the extensive training and skills required for software engineering. The term was introduced by Andrej Karpathy in February 2025 and listed in the Merriam-Webster Dictionary the following month as a \"slang & trending\" noun.\n",
      "\n",
      "\n",
      "\n",
      "Page: Retrieval-augmented generation\n",
      "Summary: Retrieval-augmented generation (RAG) is a technique that enables generative artificial intelligence (Gen AI) models to retrieve and incorporate new information. It modifies interactions with a large language model (LLM) so that the model responds to user queries with reference to a specified set of documents, using this information to supplement information from its pre-existing training data. This allows LLMs to use domain-specific and/or updated information.  Use cases include providing chatbot access to internal company data or generating responses based on authoritative sources.\n",
      "RAG improves large language models (LLMs) by incorporating information retrieval before generating responses. Unlike traditional LLMs that rely on static training data, RAG pulls relevant text from databases, uploaded documents, or web sources. According to Ars Technica, \"RAG is a way of improving LLM performance, in essence by blending the LLM process with a web search or other document look-up process to help LLMs stick to the facts.\" This method helps reduce AI hallucinations, which have led to real-world issues like chatbots inventing policies or lawyers citing nonexistent legal cases.\n",
      "By dynamically retrieving information, RAG enables AI to provide more accurate responses without frequent retraining. According to IBM, \"RAG also reduces the need for users to continuously train the model on new data and update its parameters as circumstances evolve. In this way, RAG can lower the computational and financial costs of running LLM-powered chatbots in an enterprise setting.\"\n",
      "Beyond efficiency gains, RAG also allows LLMs to include source references in their responses, enabling users to verify information by reviewing cited documents or original sources. This can provide greater transparency, as users can cross-check retrieved content to ensure accuracy and relevance.\n"
     ]
    }
   ],
   "source": [
    "question=\"What is LLM?\"\n",
    "print(wikipedia.invoke(question))"
   ]
  },
  {
   "cell_type": "markdown",
   "metadata": {},
   "source": [
    "## PubMed"
   ]
  },
  {
   "cell_type": "code",
   "execution_count": null,
   "metadata": {},
   "outputs": [
    {
     "name": "stdout",
     "output_type": "stream",
     "text": [
      "Collecting xmltodict\n",
      "  Downloading xmltodict-0.14.2-py2.py3-none-any.whl.metadata (8.0 kB)\n",
      "Downloading xmltodict-0.14.2-py2.py3-none-any.whl (10.0 kB)\n",
      "Installing collected packages: xmltodict\n",
      "Successfully installed xmltodict-0.14.2\n"
     ]
    }
   ],
   "source": [
    "#!pip install xmltodict"
   ]
  },
  {
   "cell_type": "code",
   "execution_count": 44,
   "metadata": {},
   "outputs": [],
   "source": [
    "from langchain_community.tools.pubmed.tool import PubmedQueryRun"
   ]
  },
  {
   "cell_type": "code",
   "execution_count": 46,
   "metadata": {},
   "outputs": [
    {
     "name": "stdout",
     "output_type": "stream",
     "text": [
      "Published: 2025-03-31\n",
      "Title: Statistical analysis of spatial patterns in tumor microenvironment images.\n",
      "Copyright Information: © 2025. The Author(s).\n",
      "Summary::\n",
      "Advances in tissue labeling, imaging, and automated cell identification now enable the visualization of immune cell types in human tumors. However, a framework for analyzing spatial patterns within the tumor microenvironment (TME) is still lacking. To address this, we develop Spatiopath, a null-hypothesis framework that distinguishes statistically significant immune cell associations from random distributions. Using embedding functions to map cell contours and tumor regions, Spatiopath extends Ripley's K function to analyze both cell-cell and cell-tumor interactions. We validate the method with synthetic simulations and apply it to multi-color images of lung tumor sections, revealing significant spatial patterns such as mast cells accumulating near T cells and the tumor epithelium. These patterns highlight differences in spatial organization, with mast cells clustering near the epithelium and T cells positioned farther away. Spatiopath enables a better understanding of immune responses and may help identify biomarkers for patient outcomes.\n",
      "\n",
      "Published: 2025-03-31\n",
      "Title: Genome-wide CRISPR/Cas9 screen reveals factors that influence the susceptibility of tumor cells to NK cell-mediated killing.\n",
      "Copyright Information: © Author(s) (or their employer(s)) 2025. Re-use permitted under CC BY-NC. No commercial re-use. See rights and permissions. Published by BMJ Group.\n",
      "Summary::\n",
      "BACKGROUND: Natural killer (NK) cells exhibit potent cytotoxic activity against various cancer cell types. Over the past five decades, numerous methodologies have been employed to elucidate the intricate molecular mechanisms underlying NK cell-mediated tumor control. While significant progress has been made in elucidating the interactions between NK cells and tumor cells, the regulatory factors governing NK cell-mediated tumor cell destruction \n"
     ]
    }
   ],
   "source": [
    "search = PubmedQueryRun()\n",
    "print(search.invoke(\"What causes lung cancer\"))"
   ]
  },
  {
   "cell_type": "markdown",
   "metadata": {},
   "source": [
    "## tool Calling with LLm"
   ]
  },
  {
   "cell_type": "code",
   "execution_count": null,
   "metadata": {},
   "outputs": [],
   "source": [
    "@tool\n",
    "def Wikipedia_search(query):\n",
    "    \"\"\" \n",
    "    Search wikipedia for general information\n",
    "\n",
    "    Args: The search query   \n",
    "    \"\"\"\n",
    "\n",
    "    wikipedia = WikipediaQueryRun(api_wrapper=WikipediaAPIWrapper())\n",
    "    response = wikipedia.invoke(query)\n",
    "    return response"
   ]
  },
  {
   "cell_type": "code",
   "execution_count": 48,
   "metadata": {},
   "outputs": [],
   "source": [
    "@tool\n",
    "def pubmed_search(query):\n",
    "    \"\"\" \n",
    "    Search pubmed for medical and life sciences queries\n",
    "\n",
    "    Args: The search query   \n",
    "    \"\"\"\n",
    "\n",
    "    search = PubmedQueryRun()\n",
    "    response = search.invoke(query)\n",
    "    return response"
   ]
  },
  {
   "cell_type": "code",
   "execution_count": 49,
   "metadata": {},
   "outputs": [],
   "source": [
    "@tool\n",
    "def tavily_search(query):\n",
    "    \"\"\" \n",
    "    Search the web for real time and latest information.\n",
    "    for example news,weather upadate ,stock news etc\n",
    "\n",
    "    Args: The search query   \n",
    "    \"\"\"\n",
    "\n",
    "    search = TavilySearchResults(\n",
    "        max_results=5,\n",
    "        search_depth=\"advanced\",\n",
    "        include_answer=True,\n",
    "        include_raw_content=True,\n",
    "    )\n",
    "\n",
    "    response = search.invoke(query)\n",
    "    return response"
   ]
  },
  {
   "cell_type": "code",
   "execution_count": 50,
   "metadata": {},
   "outputs": [],
   "source": [
    "tools= [Wikipedia_search,pubmed_search,tavily_search]"
   ]
  },
  {
   "cell_type": "code",
   "execution_count": 51,
   "metadata": {},
   "outputs": [],
   "source": [
    "list_of_tools= {tool.name : tool for tool in tools}"
   ]
  },
  {
   "cell_type": "code",
   "execution_count": 53,
   "metadata": {},
   "outputs": [
    {
     "data": {
      "text/plain": [
       "{'Wikipedia_search': StructuredTool(name='Wikipedia_search', description='Search wikipedia for a query\\n\\nArgs: The search query', args_schema=<class 'langchain_core.utils.pydantic.Wikipedia_search'>, func=<function Wikipedia_search at 0x12a91f920>),\n",
       " 'pubmed_search': StructuredTool(name='pubmed_search', description='Search pubmed for medical and life sciences queries\\n\\nArgs: The search query', args_schema=<class 'langchain_core.utils.pydantic.pubmed_search'>, func=<function pubmed_search at 0x129f87ce0>),\n",
       " 'tavily_search': StructuredTool(name='tavily_search', description='Search the web for real time and latest information.\\nfor example news,weather upadate ,stock news etc\\n\\nArgs: The search query', args_schema=<class 'langchain_core.utils.pydantic.tavily_search'>, func=<function tavily_search at 0x12ab1dee0>)}"
      ]
     },
     "execution_count": 53,
     "metadata": {},
     "output_type": "execute_result"
    }
   ],
   "source": [
    "list_of_tools"
   ]
  },
  {
   "cell_type": "code",
   "execution_count": 55,
   "metadata": {},
   "outputs": [],
   "source": [
    "llm_with_tools=llm.bind_tools(tools)"
   ]
  },
  {
   "cell_type": "code",
   "execution_count": null,
   "metadata": {},
   "outputs": [
    {
     "name": "stdout",
     "output_type": "stream",
     "text": [
      "content='' additional_kwargs={} response_metadata={'model': 'llama3.2:3b', 'created_at': '2025-04-01T11:34:44.812719Z', 'done': True, 'done_reason': 'stop', 'total_duration': 2956099292, 'load_duration': 734399917, 'prompt_eval_count': 285, 'prompt_eval_duration': 1701547709, 'eval_count': 20, 'eval_duration': 518640458, 'message': Message(role='assistant', content='', images=None, tool_calls=None)} id='run-a7ed0cfd-7980-4783-adf3-2365969e0f2d-0' tool_calls=[{'name': 'tavily_search', 'args': {'query': 'latest news'}, 'id': 'b3a9e965-8641-47da-8a2a-84707e024af6', 'type': 'tool_call'}] usage_metadata={'input_tokens': 285, 'output_tokens': 20, 'total_tokens': 305}\n"
     ]
    }
   ],
   "source": [
    "query= \" What is the latest news ? \"\n",
    "response= llm_with_tools.invoke(query)\n",
    "print(response)\n",
    "print(response.tool_calls)\n"
   ]
  },
  {
   "cell_type": "code",
   "execution_count": 60,
   "metadata": {},
   "outputs": [
    {
     "name": "stdout",
     "output_type": "stream",
     "text": [
      "content='' additional_kwargs={} response_metadata={'model': 'llama3.2:3b', 'created_at': '2025-04-01T11:36:28.688301Z', 'done': True, 'done_reason': 'stop', 'total_duration': 732968666, 'load_duration': 27103708, 'prompt_eval_count': 284, 'prompt_eval_duration': 183014542, 'eval_count': 20, 'eval_duration': 522513208, 'message': Message(role='assistant', content='', images=None, tool_calls=None)} id='run-dc723e30-082b-4859-8d4a-506a47f43356-0' tool_calls=[{'name': 'tavily_search', 'args': {'query': 'LLM'}, 'id': '0d4fe5a6-fa6c-4a8a-97b1-62f41c03b9fb', 'type': 'tool_call'}] usage_metadata={'input_tokens': 284, 'output_tokens': 20, 'total_tokens': 304}\n",
      "[{'name': 'tavily_search', 'args': {'query': 'LLM'}, 'id': '0d4fe5a6-fa6c-4a8a-97b1-62f41c03b9fb', 'type': 'tool_call'}]\n"
     ]
    }
   ],
   "source": [
    "query= \" What is LLM ? \"\n",
    "response= llm_with_tools.invoke(query)\n",
    "print(response)\n",
    "print(response.tool_calls)"
   ]
  },
  {
   "cell_type": "code",
   "execution_count": 59,
   "metadata": {},
   "outputs": [
    {
     "name": "stdout",
     "output_type": "stream",
     "text": [
      "content='' additional_kwargs={} response_metadata={'model': 'llama3.2:3b', 'created_at': '2025-04-01T11:36:00.534575Z', 'done': True, 'done_reason': 'stop', 'total_duration': 729584666, 'load_duration': 61788791, 'prompt_eval_count': 287, 'prompt_eval_duration': 170207000, 'eval_count': 19, 'eval_duration': 497147458, 'message': Message(role='assistant', content='', images=None, tool_calls=None)} id='run-4dae2738-700c-410f-85c2-0b8eb617c57a-0' tool_calls=[{'name': 'tavily_search', 'args': {'query': 'today'}, 'id': 'c2407249-04ce-4cd1-a495-079874acf8e5', 'type': 'tool_call'}] usage_metadata={'input_tokens': 287, 'output_tokens': 19, 'total_tokens': 306}\n",
      "[{'name': 'tavily_search', 'args': {'query': 'today'}, 'id': 'c2407249-04ce-4cd1-a495-079874acf8e5', 'type': 'tool_call'}]\n"
     ]
    }
   ],
   "source": [
    "query= \" What is the today's stock market news ?\"\n",
    "response= llm_with_tools.invoke(query)\n",
    "print(response)\n",
    "print(response.tool_calls)"
   ]
  },
  {
   "cell_type": "code",
   "execution_count": 61,
   "metadata": {},
   "outputs": [
    {
     "name": "stdout",
     "output_type": "stream",
     "text": [
      "content='' additional_kwargs={} response_metadata={'model': 'llama3.2:3b', 'created_at': '2025-04-01T11:37:15.894038Z', 'done': True, 'done_reason': 'stop', 'total_duration': 731704459, 'load_duration': 24597584, 'prompt_eval_count': 285, 'prompt_eval_duration': 184113042, 'eval_count': 20, 'eval_duration': 522609833, 'message': Message(role='assistant', content='', images=None, tool_calls=None)} id='run-a3a8615b-31e5-47d3-bebb-d2b81de416cf-0' tool_calls=[{'name': 'pubmed_search', 'args': {'query': 'lung cancer treatment'}, 'id': 'b4e70d23-cc3d-4eed-90b3-09d20b8f3b8c', 'type': 'tool_call'}] usage_metadata={'input_tokens': 285, 'output_tokens': 20, 'total_tokens': 305}\n",
      "[{'name': 'pubmed_search', 'args': {'query': 'lung cancer treatment'}, 'id': 'b4e70d23-cc3d-4eed-90b3-09d20b8f3b8c', 'type': 'tool_call'}]\n"
     ]
    }
   ],
   "source": [
    "query= \" How to treat lung cancer? \"\n",
    "response= llm_with_tools.invoke(query)\n",
    "print(response)\n",
    "print(response.tool_calls)"
   ]
  },
  {
   "cell_type": "markdown",
   "metadata": {},
   "source": [
    "## generate final result"
   ]
  },
  {
   "cell_type": "code",
   "execution_count": 73,
   "metadata": {},
   "outputs": [],
   "source": [
    "from langchain_core.messages import HumanMessage"
   ]
  },
  {
   "cell_type": "code",
   "execution_count": 74,
   "metadata": {},
   "outputs": [],
   "source": [
    "query= \" How to treat lung cancer? \"\n",
    "messages= [HumanMessage(query)]\n",
    "tool_calls= llm_with_tools.invoke(messages).tool_calls"
   ]
  },
  {
   "cell_type": "code",
   "execution_count": 75,
   "metadata": {},
   "outputs": [
    {
     "data": {
      "text/plain": [
       "[{'name': 'pubmed_search',\n",
       "  'args': {'query': 'lung cancer treatment'},\n",
       "  'id': '90092d6b-a9aa-4174-b612-e269ec985342',\n",
       "  'type': 'tool_call'}]"
      ]
     },
     "execution_count": 75,
     "metadata": {},
     "output_type": "execute_result"
    }
   ],
   "source": [
    "tool_calls"
   ]
  },
  {
   "cell_type": "code",
   "execution_count": 76,
   "metadata": {},
   "outputs": [],
   "source": [
    "messages.append(tool_calls)"
   ]
  },
  {
   "cell_type": "code",
   "execution_count": 77,
   "metadata": {},
   "outputs": [
    {
     "data": {
      "text/plain": [
       "[HumanMessage(content=' How to treat lung cancer? ', additional_kwargs={}, response_metadata={}),\n",
       " [{'name': 'pubmed_search',\n",
       "   'args': {'query': 'lung cancer treatment'},\n",
       "   'id': '90092d6b-a9aa-4174-b612-e269ec985342',\n",
       "   'type': 'tool_call'}]]"
      ]
     },
     "execution_count": 77,
     "metadata": {},
     "output_type": "execute_result"
    }
   ],
   "source": [
    "messages"
   ]
  },
  {
   "cell_type": "code",
   "execution_count": 78,
   "metadata": {},
   "outputs": [],
   "source": [
    "query= \" How to treat lung cancer? \"\n",
    "messages= [HumanMessage(query)]\n",
    "ai_msg= llm_with_tools.invoke(messages)\n",
    "messages.append(ai_msg)"
   ]
  },
  {
   "cell_type": "code",
   "execution_count": 79,
   "metadata": {},
   "outputs": [
    {
     "data": {
      "text/plain": [
       "[HumanMessage(content=' How to treat lung cancer? ', additional_kwargs={}, response_metadata={}),\n",
       " AIMessage(content='', additional_kwargs={}, response_metadata={'model': 'llama3.2:3b', 'created_at': '2025-04-01T11:45:45.810525Z', 'done': True, 'done_reason': 'stop', 'total_duration': 733581750, 'load_duration': 62084792, 'prompt_eval_count': 285, 'prompt_eval_duration': 93681792, 'eval_count': 22, 'eval_duration': 577495083, 'message': Message(role='assistant', content='', images=None, tool_calls=None)}, id='run-f3fec5c0-9859-4131-a12a-3fe45cf7914d-0', tool_calls=[{'name': 'pubmed_search', 'args': {'query': 'treatment of lung cancer'}, 'id': 'b7f2eaf9-0291-4e52-be37-2fb356868918', 'type': 'tool_call'}], usage_metadata={'input_tokens': 285, 'output_tokens': 22, 'total_tokens': 307})]"
      ]
     },
     "execution_count": 79,
     "metadata": {},
     "output_type": "execute_result"
    }
   ],
   "source": [
    "messages"
   ]
  },
  {
   "cell_type": "code",
   "execution_count": 84,
   "metadata": {},
   "outputs": [
    {
     "name": "stdout",
     "output_type": "stream",
     "text": [
      "{'name': 'pubmed_search', 'args': {'query': 'treatment of lung cancer'}, 'id': 'b7f2eaf9-0291-4e52-be37-2fb356868918', 'type': 'tool_call'}\n"
     ]
    }
   ],
   "source": [
    "for tool_call in ai_msg.tool_calls:\n",
    "    print(tool_call)\n",
    "    name= tool_call['name'].lower()\n",
    "    selected_tool= list_of_tools[name]\n",
    "    tool_msg=selected_tool.invoke(tool_call)\n",
    "    messages.append(tool_msg)"
   ]
  },
  {
   "cell_type": "code",
   "execution_count": 87,
   "metadata": {},
   "outputs": [
    {
     "name": "stdout",
     "output_type": "stream",
     "text": [
      "**Lung Cancer Treatment: A Comprehensive Overview**\n",
      "\n",
      "Lung cancer is a leading cause of cancer-related deaths worldwide. The treatment of lung cancer depends on the stage, type, and location of the tumor, as well as the overall health of the patient. Here's a summary of the current treatment options:\n",
      "\n",
      "**Surgery**\n",
      "\n",
      "* Lobectomy (removal of the lobe) or pneumonectomy (removal of the entire lung)\n",
      "* Wedge resection (removal of a small portion of the tumor)\n",
      "* Stereotactic body radiation therapy (SBRT) for early-stage cancer\n",
      "\n",
      "**Chemotherapy**\n",
      "\n",
      "* Non-small cell lung cancer (NSCLC): carboplatin, paclitaxel, etoposide, and gemcitabine\n",
      "* Small cell lung cancer (SCLC): etoposide and platinum-based chemotherapy\n",
      "\n",
      "**Targeted Therapy**\n",
      "\n",
      "* NSCLC: erlotinib, gefitinib, and afatinib for EGFR-positive tumors\n",
      "* SCLC: doxorubicin and topotecan for extensive disease\n",
      "\n",
      "**Immunotherapy**\n",
      "\n",
      "* NSCLC: pembrolizumab, nivolumab, and atezolizumab for PD-L1 positive tumors\n",
      "* SCLC: pembrolizumab and nivolumab for extensive disease\n",
      "\n",
      "**Radiation Therapy**\n",
      "\n",
      "* External beam radiation therapy (EBRT) or intensity-modulated radiation therapy (IMRT)\n",
      "* Brachytherapy: implanting radioactive material directly into the tumor\n",
      "\n",
      "**Clinical Trials**\n",
      "\n",
      "* New treatments are constantly being developed, and clinical trials offer patients the opportunity to participate in cutting-edge research.\n",
      "\n",
      "It's essential to consult with a healthcare professional for personalized treatment recommendations.\n"
     ]
    }
   ],
   "source": [
    "response= llm_with_tools.invoke(messages)\n",
    "print(response.content)"
   ]
  },
  {
   "cell_type": "code",
   "execution_count": null,
   "metadata": {},
   "outputs": [],
   "source": []
  }
 ],
 "metadata": {
  "kernelspec": {
   "display_name": "genaienv",
   "language": "python",
   "name": "python3"
  },
  "language_info": {
   "codemirror_mode": {
    "name": "ipython",
    "version": 3
   },
   "file_extension": ".py",
   "mimetype": "text/x-python",
   "name": "python",
   "nbconvert_exporter": "python",
   "pygments_lexer": "ipython3",
   "version": "3.11.3"
  }
 },
 "nbformat": 4,
 "nbformat_minor": 2
}
