{
 "cells": [
  {
   "cell_type": "code",
   "execution_count": 1,
   "metadata": {},
   "outputs": [],
   "source": [
    "#pip install \"unstructured[all-docx]\"\n",
    "#pip install -U nltk\n",
    "#!pip install unstructured openpyxl python-magic python-pptx"
   ]
  },
  {
   "cell_type": "code",
   "execution_count": 2,
   "metadata": {},
   "outputs": [
    {
     "data": {
      "text/plain": [
       "True"
      ]
     },
     "execution_count": 2,
     "metadata": {},
     "output_type": "execute_result"
    }
   ],
   "source": [
    "from dotenv import load_dotenv\n",
    "import os\n",
    "env_path = \"../OllamaSetup/.env\"  \n",
    "load_dotenv(env_path)"
   ]
  },
  {
   "cell_type": "code",
   "execution_count": 3,
   "metadata": {},
   "outputs": [],
   "source": [
    "from langchain_community.document_loaders import UnstructuredPowerPointLoader\n",
    "\n",
    "loader = UnstructuredPowerPointLoader(\"data/ml_course.pptx\",mode=\"elements\")\n",
    "docs=loader.load()"
   ]
  },
  {
   "cell_type": "code",
   "execution_count": 4,
   "metadata": {},
   "outputs": [
    {
     "data": {
      "text/plain": [
       "47"
      ]
     },
     "execution_count": 4,
     "metadata": {},
     "output_type": "execute_result"
    }
   ],
   "source": [
    "len(docs)"
   ]
  },
  {
   "cell_type": "code",
   "execution_count": 5,
   "metadata": {},
   "outputs": [
    {
     "data": {
      "text/plain": [
       "[Document(metadata={'source': 'data/ml_course.pptx', 'category_depth': 0, 'file_directory': 'data', 'filename': 'ml_course.pptx', 'last_modified': '2025-03-27T22:05:26', 'page_number': 1, 'languages': ['eng'], 'filetype': 'application/vnd.openxmlformats-officedocument.presentationml.presentation', 'category': 'Title', 'element_id': '1378fc8ea4dd0830a3c5f93e9d31a516'}, page_content='Machine Learning Model Deployment'),\n",
       " Document(metadata={'source': 'data/ml_course.pptx', 'category_depth': 1, 'file_directory': 'data', 'filename': 'ml_course.pptx', 'last_modified': '2025-03-27T22:05:26', 'page_number': 1, 'languages': ['eng'], 'filetype': 'application/vnd.openxmlformats-officedocument.presentationml.presentation', 'parent_id': '1378fc8ea4dd0830a3c5f93e9d31a516', 'category': 'Title', 'element_id': '5de650940883c293416c7f769aa0c961'}, page_content='Introduction to ML Pipeline'),\n",
       " Document(metadata={'source': 'data/ml_course.pptx', 'category_depth': 1, 'file_directory': 'data', 'filename': 'ml_course.pptx', 'last_modified': '2025-03-27T22:05:26', 'page_number': 1, 'languages': ['eng'], 'filetype': 'application/vnd.openxmlformats-officedocument.presentationml.presentation', 'parent_id': '1378fc8ea4dd0830a3c5f93e9d31a516', 'category': 'Title', 'element_id': 'd5291160bba9cc08934c253ec7feee5c'}, page_content='https://bit.ly/bert_nlp'),\n",
       " Document(metadata={'source': 'data/ml_course.pptx', 'last_modified': '2025-03-27T22:05:26', 'page_number': 1, 'languages': ['eng'], 'file_directory': 'data', 'filename': 'ml_course.pptx', 'filetype': 'application/vnd.openxmlformats-officedocument.presentationml.presentation', 'category': 'PageBreak', 'element_id': 'cd652b5b05b1c9495ef7e55c53bcacdb'}, page_content=''),\n",
       " Document(metadata={'source': 'data/ml_course.pptx', 'category_depth': 1, 'file_directory': 'data', 'filename': 'ml_course.pptx', 'last_modified': '2025-03-27T22:05:26', 'page_number': 2, 'languages': ['eng'], 'filetype': 'application/vnd.openxmlformats-officedocument.presentationml.presentation', 'category': 'Title', 'element_id': '882fe564e3f4ba7e85b6ad1c7542f1e4'}, page_content='What is Machine Learning Pipeline?'),\n",
       " Document(metadata={'source': 'data/ml_course.pptx', 'last_modified': '2025-03-27T22:05:26', 'page_number': 2, 'languages': ['eng'], 'file_directory': 'data', 'filename': 'ml_course.pptx', 'filetype': 'application/vnd.openxmlformats-officedocument.presentationml.presentation', 'category': 'PageBreak', 'element_id': 'c6d98bb2341dd2b26cf5a7fad7f68775'}, page_content=''),\n",
       " Document(metadata={'source': 'data/ml_course.pptx', 'category_depth': 1, 'file_directory': 'data', 'filename': 'ml_course.pptx', 'last_modified': '2025-03-27T22:05:26', 'page_number': 3, 'languages': ['eng'], 'filetype': 'application/vnd.openxmlformats-officedocument.presentationml.presentation', 'category': 'Title', 'element_id': 'e16acab18bc7971064f2d06df301b796'}, page_content='Type of ML Deployment'),\n",
       " Document(metadata={'source': 'data/ml_course.pptx', 'category_depth': 0, 'file_directory': 'data', 'filename': 'ml_course.pptx', 'last_modified': '2025-03-27T22:05:26', 'page_number': 3, 'languages': ['eng'], 'filetype': 'application/vnd.openxmlformats-officedocument.presentationml.presentation', 'parent_id': 'e16acab18bc7971064f2d06df301b796', 'category': 'ListItem', 'element_id': '36a2a2dc69a5a623ccc3eaa559f874eb'}, page_content='Batch: In batch deployment, ML models process large volumes of data at scheduled intervals, ideal for tasks like end-of-day reporting or monthly analytics.'),\n",
       " Document(metadata={'source': 'data/ml_course.pptx', 'category_depth': 0, 'file_directory': 'data', 'filename': 'ml_course.pptx', 'last_modified': '2025-03-27T22:05:26', 'page_number': 3, 'languages': ['eng'], 'filetype': 'application/vnd.openxmlformats-officedocument.presentationml.presentation', 'parent_id': 'e16acab18bc7971064f2d06df301b796', 'category': 'ListItem', 'element_id': '16d96a9885601cb65a42510212795d30'}, page_content='Stream: Stream deployment enables ML models to process and analyze data in real-time as it flows in, suitable for applications like fraud detection or live social media analysis.'),\n",
       " Document(metadata={'source': 'data/ml_course.pptx', 'category_depth': 0, 'file_directory': 'data', 'filename': 'ml_course.pptx', 'last_modified': '2025-03-27T22:05:26', 'page_number': 3, 'languages': ['eng'], 'filetype': 'application/vnd.openxmlformats-officedocument.presentationml.presentation', 'parent_id': 'e16acab18bc7971064f2d06df301b796', 'category': 'ListItem', 'element_id': '04d3ecff9b5d4fe12627ae6f870beb6e'}, page_content='Realtime: Realtime deployment allows ML models to provide instant predictions or decisions in response to incoming data, essential for use cases like recommendation systems or autonomous driving.'),\n",
       " Document(metadata={'source': 'data/ml_course.pptx', 'category_depth': 0, 'file_directory': 'data', 'filename': 'ml_course.pptx', 'last_modified': '2025-03-27T22:05:26', 'page_number': 3, 'languages': ['eng'], 'filetype': 'application/vnd.openxmlformats-officedocument.presentationml.presentation', 'parent_id': 'e16acab18bc7971064f2d06df301b796', 'category': 'ListItem', 'element_id': 'f10bcd0ff4058eca301a1322b167df99'}, page_content='Edge: Edge deployment involves running ML models on local devices close to the data source, reducing latency and bandwidth usage, which is crucial for IoT applications and smart devices.'),\n",
       " Document(metadata={'source': 'data/ml_course.pptx', 'last_modified': '2025-03-27T22:05:26', 'page_number': 3, 'languages': ['eng'], 'file_directory': 'data', 'filename': 'ml_course.pptx', 'filetype': 'application/vnd.openxmlformats-officedocument.presentationml.presentation', 'category': 'PageBreak', 'element_id': 'e5820ecd67747e0fc59fcb498a89ab9e'}, page_content=''),\n",
       " Document(metadata={'source': 'data/ml_course.pptx', 'category_depth': 1, 'file_directory': 'data', 'filename': 'ml_course.pptx', 'last_modified': '2025-03-27T22:05:26', 'page_number': 4, 'languages': ['eng'], 'filetype': 'application/vnd.openxmlformats-officedocument.presentationml.presentation', 'category': 'Title', 'element_id': 'e3c672c5109e27bd62e12e920f1d27a2'}, page_content='Infrastructure and Integration'),\n",
       " Document(metadata={'source': 'data/ml_course.pptx', 'category_depth': 0, 'file_directory': 'data', 'filename': 'ml_course.pptx', 'last_modified': '2025-03-27T22:05:26', 'page_number': 4, 'languages': ['eng'], 'filetype': 'application/vnd.openxmlformats-officedocument.presentationml.presentation', 'parent_id': 'e3c672c5109e27bd62e12e920f1d27a2', 'category': 'ListItem', 'element_id': '4e5298a16396620c219860a7d5e8ab7c'}, page_content='Hardware and Software: Setting up the right environment for model deployment.'),\n",
       " Document(metadata={'source': 'data/ml_course.pptx', 'category_depth': 0, 'file_directory': 'data', 'filename': 'ml_course.pptx', 'last_modified': '2025-03-27T22:05:26', 'page_number': 4, 'languages': ['eng'], 'filetype': 'application/vnd.openxmlformats-officedocument.presentationml.presentation', 'parent_id': 'e3c672c5109e27bd62e12e920f1d27a2', 'category': 'ListItem', 'element_id': '78888da57152041b4442e615b5246edb'}, page_content='Integration: Seamlessly integrating the model with existing systems and applications.'),\n",
       " Document(metadata={'source': 'data/ml_course.pptx', 'last_modified': '2025-03-27T22:05:26', 'page_number': 4, 'languages': ['eng'], 'file_directory': 'data', 'filename': 'ml_course.pptx', 'filetype': 'application/vnd.openxmlformats-officedocument.presentationml.presentation', 'category': 'PageBreak', 'element_id': '275463ef1fb01f1e2130e42393fd730c'}, page_content=''),\n",
       " Document(metadata={'source': 'data/ml_course.pptx', 'category_depth': 1, 'file_directory': 'data', 'filename': 'ml_course.pptx', 'last_modified': '2025-03-27T22:05:26', 'page_number': 5, 'languages': ['eng'], 'filetype': 'application/vnd.openxmlformats-officedocument.presentationml.presentation', 'category': 'Title', 'element_id': '2f1fb082740026e985e63e0ca48f0a57'}, page_content='Benefits of Deploying ML Models'),\n",
       " Document(metadata={'source': 'data/ml_course.pptx', 'category_depth': 0, 'file_directory': 'data', 'filename': 'ml_course.pptx', 'last_modified': '2025-03-27T22:05:26', 'page_number': 5, 'languages': ['eng'], 'filetype': 'application/vnd.openxmlformats-officedocument.presentationml.presentation', 'parent_id': '2f1fb082740026e985e63e0ca48f0a57', 'category': 'NarrativeText', 'element_id': '9306fdd9f8d2398f13dc87e677b5753d'}, page_content='Focus on new models, not maintaining existing models || Prevention of bugs || Creation of records for debugging and reproducing results || Standardization || Allows models to handle real-time data and large user bases.'),\n",
       " Document(metadata={'source': 'data/ml_course.pptx', 'last_modified': '2025-03-27T22:05:26', 'page_number': 5, 'languages': ['eng'], 'file_directory': 'data', 'filename': 'ml_course.pptx', 'filetype': 'application/vnd.openxmlformats-officedocument.presentationml.presentation', 'category': 'PageBreak', 'element_id': '0fc4f757ce463cc1a26f27d1320aeeef'}, page_content=''),\n",
       " Document(metadata={'source': 'data/ml_course.pptx', 'category_depth': 1, 'file_directory': 'data', 'filename': 'ml_course.pptx', 'last_modified': '2025-03-27T22:05:26', 'page_number': 6, 'languages': ['eng'], 'filetype': 'application/vnd.openxmlformats-officedocument.presentationml.presentation', 'category': 'Title', 'element_id': 'a71a94291fbe02b27bb302e9b1a48664'}, page_content='Challenges in ML Deployment'),\n",
       " Document(metadata={'source': 'data/ml_course.pptx', 'category_depth': 0, 'file_directory': 'data', 'filename': 'ml_course.pptx', 'last_modified': '2025-03-27T22:05:26', 'page_number': 6, 'languages': ['eng'], 'filetype': 'application/vnd.openxmlformats-officedocument.presentationml.presentation', 'parent_id': 'a71a94291fbe02b27bb302e9b1a48664', 'category': 'ListItem', 'element_id': 'ba597fa26824eb054d39d8437a79c1d5'}, page_content='Data Management: Making sure the model gets the right kind of data.'),\n",
       " Document(metadata={'source': 'data/ml_course.pptx', 'category_depth': 0, 'file_directory': 'data', 'filename': 'ml_course.pptx', 'last_modified': '2025-03-27T22:05:26', 'page_number': 6, 'languages': ['eng'], 'filetype': 'application/vnd.openxmlformats-officedocument.presentationml.presentation', 'parent_id': 'a71a94291fbe02b27bb302e9b1a48664', 'category': 'ListItem', 'element_id': '9f213bc7c86c979e37a23b5eedce3ae9'}, page_content='Model Scalability and Performance: Ensuring that their model can effectively scale as it keeps adding more complex information.'),\n",
       " Document(metadata={'source': 'data/ml_course.pptx', 'category_depth': 0, 'file_directory': 'data', 'filename': 'ml_course.pptx', 'last_modified': '2025-03-27T22:05:26', 'page_number': 6, 'languages': ['eng'], 'filetype': 'application/vnd.openxmlformats-officedocument.presentationml.presentation', 'parent_id': 'a71a94291fbe02b27bb302e9b1a48664', 'category': 'ListItem', 'element_id': 'bb9713821ae85813bd17a6c463cc3ce6'}, page_content='Integration with Existing Systems: Fitting the model into current computers and software.'),\n",
       " Document(metadata={'source': 'data/ml_course.pptx', 'category_depth': 0, 'file_directory': 'data', 'filename': 'ml_course.pptx', 'last_modified': '2025-03-27T22:05:26', 'page_number': 6, 'languages': ['eng'], 'filetype': 'application/vnd.openxmlformats-officedocument.presentationml.presentation', 'parent_id': 'a71a94291fbe02b27bb302e9b1a48664', 'category': 'ListItem', 'element_id': '145198c695b5ec2dc6ac53da3cbaa651'}, page_content='Monitoring and Maintenance: Watching and fixing the model over time.'),\n",
       " Document(metadata={'source': 'data/ml_course.pptx', 'category_depth': 0, 'file_directory': 'data', 'filename': 'ml_course.pptx', 'last_modified': '2025-03-27T22:05:26', 'page_number': 6, 'languages': ['eng'], 'filetype': 'application/vnd.openxmlformats-officedocument.presentationml.presentation', 'parent_id': 'a71a94291fbe02b27bb302e9b1a48664', 'category': 'ListItem', 'element_id': '7823ba8b620067685cc948e52bf31f93'}, page_content='Security and Privacy: Protecting data and keeping it private.'),\n",
       " Document(metadata={'source': 'data/ml_course.pptx', 'category_depth': 0, 'file_directory': 'data', 'filename': 'ml_course.pptx', 'last_modified': '2025-03-27T22:05:26', 'page_number': 6, 'languages': ['eng'], 'filetype': 'application/vnd.openxmlformats-officedocument.presentationml.presentation', 'parent_id': 'a71a94291fbe02b27bb302e9b1a48664', 'category': 'ListItem', 'element_id': 'c8a5ca482174cb2fcf841794d148bff1'}, page_content='Resource Management: Using computer resources like memory and power wisely.'),\n",
       " Document(metadata={'source': 'data/ml_course.pptx', 'category_depth': 0, 'file_directory': 'data', 'filename': 'ml_course.pptx', 'last_modified': '2025-03-27T22:05:26', 'page_number': 6, 'languages': ['eng'], 'filetype': 'application/vnd.openxmlformats-officedocument.presentationml.presentation', 'parent_id': 'a71a94291fbe02b27bb302e9b1a48664', 'category': 'ListItem', 'element_id': '5c6f738bca4aecb944092cf7a71b1607'}, page_content='Versioning and Model Management: Keeping track of different versions of the model.'),\n",
       " Document(metadata={'source': 'data/ml_course.pptx', 'category_depth': 0, 'file_directory': 'data', 'filename': 'ml_course.pptx', 'last_modified': '2025-03-27T22:05:26', 'page_number': 6, 'languages': ['eng'], 'filetype': 'application/vnd.openxmlformats-officedocument.presentationml.presentation', 'parent_id': 'a71a94291fbe02b27bb302e9b1a48664', 'category': 'ListItem', 'element_id': '7216c33df4dca2c7aa022dc3f491407f'}, page_content='Regulatory Compliance: Making sure the model follows the laws, rules, and regulations.'),\n",
       " Document(metadata={'source': 'data/ml_course.pptx', 'category_depth': 0, 'file_directory': 'data', 'filename': 'ml_course.pptx', 'last_modified': '2025-03-27T22:05:26', 'page_number': 6, 'languages': ['eng'], 'filetype': 'application/vnd.openxmlformats-officedocument.presentationml.presentation', 'parent_id': 'a71a94291fbe02b27bb302e9b1a48664', 'category': 'ListItem', 'element_id': 'd58e1f55915272670b32a5befb11d94d'}, page_content='User Acceptance and Trust: Getting people to trust and accept the model.'),\n",
       " Document(metadata={'source': 'data/ml_course.pptx', 'category_depth': 0, 'file_directory': 'data', 'filename': 'ml_course.pptx', 'last_modified': '2025-03-27T22:05:26', 'page_number': 6, 'languages': ['eng'], 'filetype': 'application/vnd.openxmlformats-officedocument.presentationml.presentation', 'parent_id': 'a71a94291fbe02b27bb302e9b1a48664', 'category': 'ListItem', 'element_id': '5813b7d3380ca2123c8b6487c5089746'}, page_content='Explainability and Transparency: Being able to explain how the model works.'),\n",
       " Document(metadata={'source': 'data/ml_course.pptx', 'category_depth': 0, 'file_directory': 'data', 'filename': 'ml_course.pptx', 'last_modified': '2025-03-27T22:05:26', 'page_number': 6, 'languages': ['eng'], 'filetype': 'application/vnd.openxmlformats-officedocument.presentationml.presentation', 'parent_id': 'a71a94291fbe02b27bb302e9b1a48664', 'category': 'ListItem', 'element_id': '1a5f2c4918a4f8131903f49fd7631b40'}, page_content='Cost Management: Managing how much it costs to use the model.'),\n",
       " Document(metadata={'source': 'data/ml_course.pptx', 'category_depth': 0, 'file_directory': 'data', 'filename': 'ml_course.pptx', 'last_modified': '2025-03-27T22:05:26', 'page_number': 6, 'languages': ['eng'], 'filetype': 'application/vnd.openxmlformats-officedocument.presentationml.presentation', 'parent_id': 'a71a94291fbe02b27bb302e9b1a48664', 'category': 'NarrativeText', 'element_id': 'be5b34f703b2e3c65da27141595f025b'}, page_content='As per research, only 13% of ML models ever make it to production. This is a huge gap, considering the possibilities that AI model deployment can bring to the organization.'),\n",
       " Document(metadata={'source': 'data/ml_course.pptx', 'last_modified': '2025-03-27T22:05:26', 'page_number': 6, 'languages': ['eng'], 'file_directory': 'data', 'filename': 'ml_course.pptx', 'filetype': 'application/vnd.openxmlformats-officedocument.presentationml.presentation', 'category': 'PageBreak', 'element_id': 'e08a4ead7530a52913ddfe3274295d72'}, page_content=''),\n",
       " Document(metadata={'source': 'data/ml_course.pptx', 'category_depth': 1, 'file_directory': 'data', 'filename': 'ml_course.pptx', 'last_modified': '2025-03-27T22:05:26', 'page_number': 7, 'languages': ['eng'], 'filetype': 'application/vnd.openxmlformats-officedocument.presentationml.presentation', 'category': 'Title', 'element_id': 'f7996ce53254adcfcd2a10311f41045f'}, page_content='Data and Model Management'),\n",
       " Document(metadata={'source': 'data/ml_course.pptx', 'category_depth': 0, 'file_directory': 'data', 'filename': 'ml_course.pptx', 'last_modified': '2025-03-27T22:05:26', 'page_number': 7, 'languages': ['eng'], 'filetype': 'application/vnd.openxmlformats-officedocument.presentationml.presentation', 'parent_id': 'f7996ce53254adcfcd2a10311f41045f', 'category': 'NarrativeText', 'element_id': '320f30416dd59fa87347e59a7f4152cc'}, page_content='Data Pipelines: Building and maintaining data pipelines for continuous data flow.'),\n",
       " Document(metadata={'source': 'data/ml_course.pptx', 'category_depth': 0, 'file_directory': 'data', 'filename': 'ml_course.pptx', 'last_modified': '2025-03-27T22:05:26', 'page_number': 7, 'languages': ['eng'], 'filetype': 'application/vnd.openxmlformats-officedocument.presentationml.presentation', 'parent_id': 'f7996ce53254adcfcd2a10311f41045f', 'category': 'NarrativeText', 'element_id': 'e646e8776c19f43366fe227a4e0a71e2'}, page_content='Model Versioning: Tracking and managing different versions of models.'),\n",
       " Document(metadata={'source': 'data/ml_course.pptx', 'last_modified': '2025-03-27T22:05:26', 'page_number': 7, 'languages': ['eng'], 'file_directory': 'data', 'filename': 'ml_course.pptx', 'filetype': 'application/vnd.openxmlformats-officedocument.presentationml.presentation', 'category': 'PageBreak', 'element_id': '5940777e78f41e7523da920c632cb129'}, page_content=''),\n",
       " Document(metadata={'source': 'data/ml_course.pptx', 'category_depth': 1, 'file_directory': 'data', 'filename': 'ml_course.pptx', 'last_modified': '2025-03-27T22:05:26', 'page_number': 8, 'languages': ['eng'], 'filetype': 'application/vnd.openxmlformats-officedocument.presentationml.presentation', 'category': 'Title', 'element_id': '1dcc850071d9db7b3b667986bb263816'}, page_content='A/B Testing'),\n",
       " Document(metadata={'source': 'data/ml_course.pptx', 'category_depth': 0, 'file_directory': 'data', 'filename': 'ml_course.pptx', 'last_modified': '2025-03-27T22:05:26', 'page_number': 8, 'languages': ['eng'], 'filetype': 'application/vnd.openxmlformats-officedocument.presentationml.presentation', 'parent_id': '1dcc850071d9db7b3b667986bb263816', 'category': 'ListItem', 'element_id': '3ddd573a708017650792e76df7e4d990'}, page_content='Objective Comparison: A/B testing allows for an objective comparison of two model versions to determine which performs better based on specific metrics.'),\n",
       " Document(metadata={'source': 'data/ml_course.pptx', 'category_depth': 0, 'file_directory': 'data', 'filename': 'ml_course.pptx', 'last_modified': '2025-03-27T22:05:26', 'page_number': 8, 'languages': ['eng'], 'filetype': 'application/vnd.openxmlformats-officedocument.presentationml.presentation', 'parent_id': '1dcc850071d9db7b3b667986bb263816', 'category': 'ListItem', 'element_id': '4478afa0de21dcbd03c88592f93c38db'}, page_content='Real-World Application: It is widely used to optimize user experiences, such as testing different recommendation systems or ad strategies to enhance engagement or conversion rates.'),\n",
       " Document(metadata={'source': 'data/ml_course.pptx', 'category_depth': 0, 'file_directory': 'data', 'filename': 'ml_course.pptx', 'last_modified': '2025-03-27T22:05:26', 'page_number': 8, 'languages': ['eng'], 'filetype': 'application/vnd.openxmlformats-officedocument.presentationml.presentation', 'parent_id': '1dcc850071d9db7b3b667986bb263816', 'category': 'ListItem', 'element_id': '3ec2a5175d0fee7d38cd787d151f08d9'}, page_content='Statistical Significance: The technique ensures that performance differences are statistically significant and not due to random chance by using control and treatment groups along with statistical tests.'),\n",
       " Document(metadata={'source': 'data/ml_course.pptx', 'last_modified': '2025-03-27T22:05:26', 'page_number': 8, 'languages': ['eng'], 'file_directory': 'data', 'filename': 'ml_course.pptx', 'filetype': 'application/vnd.openxmlformats-officedocument.presentationml.presentation', 'category': 'PageBreak', 'element_id': 'bb505d118a354d09086f0113c2a45088'}, page_content=''),\n",
       " Document(metadata={'source': 'data/ml_course.pptx', 'category_depth': 1, 'file_directory': 'data', 'filename': 'ml_course.pptx', 'last_modified': '2025-03-27T22:05:26', 'page_number': 9, 'languages': ['eng'], 'filetype': 'application/vnd.openxmlformats-officedocument.presentationml.presentation', 'category': 'Title', 'element_id': '5b03acaebcc20ce4ee193be559bb2948'}, page_content='Security, Compliance and Bias'),\n",
       " Document(metadata={'source': 'data/ml_course.pptx', 'category_depth': 0, 'file_directory': 'data', 'filename': 'ml_course.pptx', 'last_modified': '2025-03-27T22:05:26', 'page_number': 9, 'languages': ['eng'], 'filetype': 'application/vnd.openxmlformats-officedocument.presentationml.presentation', 'parent_id': '5b03acaebcc20ce4ee193be559bb2948', 'category': 'NarrativeText', 'element_id': '1faedc7251be5ff2faecd02f54a8924e'}, page_content='Security: Ensuring the security of machine learning models involves protecting sensitive data from unauthorized access and breaches through robust encryption, secure APIs, and access controls'),\n",
       " Document(metadata={'source': 'data/ml_course.pptx', 'category_depth': 0, 'file_directory': 'data', 'filename': 'ml_course.pptx', 'last_modified': '2025-03-27T22:05:26', 'page_number': 9, 'languages': ['eng'], 'filetype': 'application/vnd.openxmlformats-officedocument.presentationml.presentation', 'parent_id': '5b03acaebcc20ce4ee193be559bb2948', 'category': 'NarrativeText', 'element_id': '2e320daf7d90982518b638f2dd11b52a'}, page_content='Compliance: Adhering to industry regulations and standards, such as GDPR or HIPAA, is critical to ensure the legal and ethical use of data in machine learning deployments. This involves data anonymization, user consent, and regular compliance audits.'),\n",
       " Document(metadata={'source': 'data/ml_course.pptx', 'category_depth': 0, 'file_directory': 'data', 'filename': 'ml_course.pptx', 'last_modified': '2025-03-27T22:05:26', 'page_number': 9, 'languages': ['eng'], 'filetype': 'application/vnd.openxmlformats-officedocument.presentationml.presentation', 'parent_id': '5b03acaebcc20ce4ee193be559bb2948', 'category': 'NarrativeText', 'element_id': 'a329e769e4db1267bc11cb90d279edfd'}, page_content='Bias Detection: Identifying and mitigating bias in ML models is crucial to prevent unfair and discriminatory outcomes. This involves using diverse training datasets, applying fairness-aware algorithms, and conducting bias impact assessments'),\n",
       " Document(metadata={'source': 'data/ml_course.pptx', 'category_depth': 0, 'file_directory': 'data', 'filename': 'ml_course.pptx', 'last_modified': '2025-03-27T22:05:26', 'page_number': 9, 'languages': ['eng'], 'filetype': 'application/vnd.openxmlformats-officedocument.presentationml.presentation', 'parent_id': '5b03acaebcc20ce4ee193be559bb2948', 'category': 'NarrativeText', 'element_id': 'ae10d92978631de476e6e8a659def9f0'}, page_content='Continuous Monitoring: Regular monitoring and updating of deployed models are essential to maintain security, compliance, and fairness. This involves real-time performance tracking, automated alerts for anomalies, and periodic model retraining.')]"
      ]
     },
     "execution_count": 5,
     "metadata": {},
     "output_type": "execute_result"
    }
   ],
   "source": [
    "docs"
   ]
  },
  {
   "cell_type": "code",
   "execution_count": 6,
   "metadata": {},
   "outputs": [
    {
     "data": {
      "text/plain": [
       "'Machine Learning Model Deployment'"
      ]
     },
     "execution_count": 6,
     "metadata": {},
     "output_type": "execute_result"
    }
   ],
   "source": [
    "doc=docs[0]\n",
    "doc.metadata\n",
    "doc.page_content"
   ]
  },
  {
   "cell_type": "code",
   "execution_count": 7,
   "metadata": {},
   "outputs": [],
   "source": [
    "ppt_data={}\n",
    "for doc in docs:\n",
    "    page= doc.metadata[\"page_number\"]\n",
    "    ppt_data[page] = ppt_data.get(page,\"\") + \"\\n\\n\" + doc.page_content"
   ]
  },
  {
   "cell_type": "code",
   "execution_count": 8,
   "metadata": {},
   "outputs": [
    {
     "data": {
      "text/plain": [
       "{1: '\\n\\nMachine Learning Model Deployment\\n\\nIntroduction to ML Pipeline\\n\\nhttps://bit.ly/bert_nlp\\n\\n',\n",
       " 2: '\\n\\nWhat is Machine Learning Pipeline?\\n\\n',\n",
       " 3: '\\n\\nType of ML Deployment\\n\\nBatch: In batch deployment, ML models process large volumes of data at scheduled intervals, ideal for tasks like end-of-day reporting or monthly analytics.\\n\\nStream: Stream deployment enables ML models to process and analyze data in real-time as it flows in, suitable for applications like fraud detection or live social media analysis.\\n\\nRealtime: Realtime deployment allows ML models to provide instant predictions or decisions in response to incoming data, essential for use cases like recommendation systems or autonomous driving.\\n\\nEdge: Edge deployment involves running ML models on local devices close to the data source, reducing latency and bandwidth usage, which is crucial for IoT applications and smart devices.\\n\\n',\n",
       " 4: '\\n\\nInfrastructure and Integration\\n\\nHardware and Software: Setting up the right environment for model deployment.\\n\\nIntegration: Seamlessly integrating the model with existing systems and applications.\\n\\n',\n",
       " 5: '\\n\\nBenefits of Deploying ML Models\\n\\nFocus on new models, not maintaining existing models || Prevention of bugs || Creation of records for debugging and reproducing results || Standardization || Allows models to handle real-time data and large user bases.\\n\\n',\n",
       " 6: '\\n\\nChallenges in ML Deployment\\n\\nData Management: Making sure the model gets the right kind of data.\\n\\nModel Scalability and Performance: Ensuring that their model can effectively scale as it keeps adding more complex information.\\n\\nIntegration with Existing Systems: Fitting the model into current computers and software.\\n\\nMonitoring and Maintenance: Watching and fixing the model over time.\\n\\nSecurity and Privacy: Protecting data and keeping it private.\\n\\nResource Management: Using computer resources like memory and power wisely.\\n\\nVersioning and Model Management: Keeping track of different versions of the model.\\n\\nRegulatory Compliance: Making sure the model follows the laws, rules, and regulations.\\n\\nUser Acceptance and Trust: Getting people to trust and accept the model.\\n\\nExplainability and Transparency: Being able to explain how the model works.\\n\\nCost Management: Managing how much it costs to use the model.\\n\\nAs per research, only 13% of ML models ever make it to production. This is a huge gap, considering the possibilities that AI model deployment can bring to the organization.\\n\\n',\n",
       " 7: '\\n\\nData and Model Management\\n\\nData Pipelines: Building and maintaining data pipelines for continuous data flow.\\n\\nModel Versioning: Tracking and managing different versions of models.\\n\\n',\n",
       " 8: '\\n\\nA/B Testing\\n\\nObjective Comparison: A/B testing allows for an objective comparison of two model versions to determine which performs better based on specific metrics.\\n\\nReal-World Application: It is widely used to optimize user experiences, such as testing different recommendation systems or ad strategies to enhance engagement or conversion rates.\\n\\nStatistical Significance: The technique ensures that performance differences are statistically significant and not due to random chance by using control and treatment groups along with statistical tests.\\n\\n',\n",
       " 9: '\\n\\nSecurity, Compliance and Bias\\n\\nSecurity: Ensuring the security of machine learning models involves protecting sensitive data from unauthorized access and breaches through robust encryption, secure APIs, and access controls\\n\\nCompliance: Adhering to industry regulations and standards, such as GDPR or HIPAA, is critical to ensure the legal and ethical use of data in machine learning deployments. This involves data anonymization, user consent, and regular compliance audits.\\n\\nBias Detection: Identifying and mitigating bias in ML models is crucial to prevent unfair and discriminatory outcomes. This involves using diverse training datasets, applying fairness-aware algorithms, and conducting bias impact assessments\\n\\nContinuous Monitoring: Regular monitoring and updating of deployed models are essential to maintain security, compliance, and fairness. This involves real-time performance tracking, automated alerts for anomalies, and periodic model retraining.'}"
      ]
     },
     "execution_count": 8,
     "metadata": {},
     "output_type": "execute_result"
    }
   ],
   "source": [
    "ppt_data"
   ]
  },
  {
   "cell_type": "code",
   "execution_count": 9,
   "metadata": {},
   "outputs": [
    {
     "name": "stdout",
     "output_type": "stream",
     "text": [
      "### Slide 1 : \n",
      "\n",
      " Machine Learning Model Deployment\n",
      "\n",
      "Introduction to ML Pipeline\n",
      "\n",
      "https://bit.ly/bert_nlp\n",
      "\n",
      "\n",
      "### Slide 2 : \n",
      "\n",
      " What is Machine Learning Pipeline?\n",
      "\n",
      "\n",
      "### Slide 3 : \n",
      "\n",
      " Type of ML Deployment\n",
      "\n",
      "Batch: In batch deployment, ML models process large volumes of data at scheduled intervals, ideal for tasks like end-of-day reporting or monthly analytics.\n",
      "\n",
      "Stream: Stream deployment enables ML models to process and analyze data in real-time as it flows in, suitable for applications like fraud detection or live social media analysis.\n",
      "\n",
      "Realtime: Realtime deployment allows ML models to provide instant predictions or decisions in response to incoming data, essential for use cases like recommendation systems or autonomous driving.\n",
      "\n",
      "Edge: Edge deployment involves running ML models on local devices close to the data source, reducing latency and bandwidth usage, which is crucial for IoT applications and smart devices.\n",
      "\n",
      "\n",
      "### Slide 4 : \n",
      "\n",
      " Infrastructure and Integration\n",
      "\n",
      "Hardware and Software: Setting up the right environment for model deployment.\n",
      "\n",
      "Integration: Seamlessly integrating the model with existing systems and applications.\n",
      "\n",
      "\n",
      "### Slide 5 : \n",
      "\n",
      " Benefits of Deploying ML Models\n",
      "\n",
      "Focus on new models, not maintaining existing models || Prevention of bugs || Creation of records for debugging and reproducing results || Standardization || Allows models to handle real-time data and large user bases.\n",
      "\n",
      "\n",
      "### Slide 6 : \n",
      "\n",
      " Challenges in ML Deployment\n",
      "\n",
      "Data Management: Making sure the model gets the right kind of data.\n",
      "\n",
      "Model Scalability and Performance: Ensuring that their model can effectively scale as it keeps adding more complex information.\n",
      "\n",
      "Integration with Existing Systems: Fitting the model into current computers and software.\n",
      "\n",
      "Monitoring and Maintenance: Watching and fixing the model over time.\n",
      "\n",
      "Security and Privacy: Protecting data and keeping it private.\n",
      "\n",
      "Resource Management: Using computer resources like memory and power wisely.\n",
      "\n",
      "Versioning and Model Management: Keeping track of different versions of the model.\n",
      "\n",
      "Regulatory Compliance: Making sure the model follows the laws, rules, and regulations.\n",
      "\n",
      "User Acceptance and Trust: Getting people to trust and accept the model.\n",
      "\n",
      "Explainability and Transparency: Being able to explain how the model works.\n",
      "\n",
      "Cost Management: Managing how much it costs to use the model.\n",
      "\n",
      "As per research, only 13% of ML models ever make it to production. This is a huge gap, considering the possibilities that AI model deployment can bring to the organization.\n",
      "\n",
      "\n",
      "### Slide 7 : \n",
      "\n",
      " Data and Model Management\n",
      "\n",
      "Data Pipelines: Building and maintaining data pipelines for continuous data flow.\n",
      "\n",
      "Model Versioning: Tracking and managing different versions of models.\n",
      "\n",
      "\n",
      "### Slide 8 : \n",
      "\n",
      " A/B Testing\n",
      "\n",
      "Objective Comparison: A/B testing allows for an objective comparison of two model versions to determine which performs better based on specific metrics.\n",
      "\n",
      "Real-World Application: It is widely used to optimize user experiences, such as testing different recommendation systems or ad strategies to enhance engagement or conversion rates.\n",
      "\n",
      "Statistical Significance: The technique ensures that performance differences are statistically significant and not due to random chance by using control and treatment groups along with statistical tests.\n",
      "\n",
      "\n",
      "### Slide 9 : \n",
      "\n",
      " Security, Compliance and Bias\n",
      "\n",
      "Security: Ensuring the security of machine learning models involves protecting sensitive data from unauthorized access and breaches through robust encryption, secure APIs, and access controls\n",
      "\n",
      "Compliance: Adhering to industry regulations and standards, such as GDPR or HIPAA, is critical to ensure the legal and ethical use of data in machine learning deployments. This involves data anonymization, user consent, and regular compliance audits.\n",
      "\n",
      "Bias Detection: Identifying and mitigating bias in ML models is crucial to prevent unfair and discriminatory outcomes. This involves using diverse training datasets, applying fairness-aware algorithms, and conducting bias impact assessments\n",
      "\n",
      "Continuous Monitoring: Regular monitoring and updating of deployed models are essential to maintain security, compliance, and fairness. This involves real-time performance tracking, automated alerts for anomalies, and periodic model retraining.\n",
      "\n",
      "\n",
      "\n"
     ]
    }
   ],
   "source": [
    "context= \"\"\n",
    "for page,content in ppt_data.items():\n",
    "    context += f'### Slide {page} : \\n\\n {content.strip()}\\n\\n\\n'\n",
    "\n",
    "print(context)"
   ]
  },
  {
   "cell_type": "markdown",
   "metadata": {},
   "source": [
    "## LLM Code"
   ]
  },
  {
   "cell_type": "code",
   "execution_count": 10,
   "metadata": {},
   "outputs": [],
   "source": [
    "from scripts import llm"
   ]
  },
  {
   "cell_type": "code",
   "execution_count": 11,
   "metadata": {},
   "outputs": [],
   "source": [
    "question = \"\"\" For each Powerpoint slide provided above, write a 2-minute script that effectively conveys the key points \n",
    "            Ensure a smooth flow between slides, maintaining a clear and engaging narrative.\n",
    "            \"\"\"\n",
    "response= llm.ask_llm(context,question)"
   ]
  },
  {
   "cell_type": "code",
   "execution_count": 12,
   "metadata": {},
   "outputs": [
    {
     "name": "stdout",
     "output_type": "stream",
     "text": [
      "Here is a 2-minute script for each PowerPoint slide:\n",
      "\n",
      "**Slide 1: Introduction to ML Pipeline**\n",
      "\n",
      "[Start with a brief introduction]\n",
      "\"Welcome to our presentation on Machine Learning Pipeline. As we all know, machine learning has revolutionized the way we approach various tasks and problems. However, deploying these models can be a daunting task. In this presentation, we'll explore what a machine learning pipeline is and its importance in deploying ML models.\"\n",
      "\n",
      "[Transition to next slide]\n",
      "\n",
      "**Slide 2: What is Machine Learning Pipeline?**\n",
      "\n",
      "\"Let's dive deeper into what a machine learning pipeline is. A machine learning pipeline refers to the series of processes that data goes through from ingestion, processing, transformation, modeling, deployment, and monitoring. This pipeline ensures that our models receive high-quality data and can operate efficiently in production.\"\n",
      "\n",
      "[Highlight key aspects]\n",
      "\n",
      "\"A key aspect of an ML pipeline is its ability to handle large volumes of data, provide real-time predictions or decisions, and maintain scalability and performance. We'll explore these topics in more detail as we move forward.\"\n",
      "\n",
      "[Transition to next slide]\n",
      "\n",
      "**Slide 3: Type of ML Deployment**\n",
      "\n",
      "\"Now, let's discuss the different types of machine learning deployments. There are four primary types: batch, stream, realtime, and edge deployment. Each type has its use case and benefits.\"\n",
      "\n",
      "[List each type with a brief description]\n",
      "\n",
      "* \"Batch deployment is ideal for end-of-day reporting or monthly analytics.\"\n",
      "* \"Stream deployment enables real-time analysis and prediction.\"\n",
      "* \"Realtime deployment provides instant predictions in response to incoming data.\"\n",
      "* \"Edge deployment involves running models on local devices, reducing latency and bandwidth usage.\"\n",
      "\n",
      "[Emphasize key points]\n",
      "\n",
      "\"Choosing the right type of deployment is crucial for success. Let's move on to discuss infrastructure and integration.\"\n",
      "\n",
      "[Transition to next slide]\n",
      "\n",
      "**Slide 4: Infrastructure and Integration**\n",
      "\n",
      "\"As we deploy our ML models, setting up the right environment is essential. This includes hardware and software requirements, as well as integrating with existing systems and applications.\"\n",
      "\n",
      "[List key aspects of infrastructure]\n",
      "\n",
      "* \"Hardware requirements include powerful computing resources.\"\n",
      "* \"Software requirements involve specific frameworks and libraries for deployment.\"\n",
      "* \"Integration involves seamless communication between models and existing systems.\"\n",
      "\n",
      "[Highlight importance]\n",
      "\n",
      "\"Infrastructural considerations ensure our models can handle large volumes of data, provide real-time predictions, and maintain scalability. Let's discuss the benefits of deploying ML models next.\"\n",
      "\n",
      "[Transition to next slide]\n",
      "\n",
      "**Slide 5: Benefits of Deploying ML Models**\n",
      "\n",
      "\"The deployment of machine learning models offers numerous benefits. Some key advantages include:\n",
      "\n",
      "* \"Focus on new models without maintaining existing ones.\"\n",
      "* \"Prevention of bugs and issues.\"\n",
      "* \"Creation of records for debugging and reproducing results.\"\n",
      "* \"Standardization.\"\n",
      "* \"Handling real-time data and large user bases.\"\n",
      "\n",
      "[Emphasize benefits]\n",
      "\n",
      "\"By deploying ML models, we can improve efficiency, reduce maintenance costs, and provide high-quality predictions. However, deployment also comes with challenges and considerations.\"\n",
      "\n",
      "[Transition to next slide]\n",
      "\n",
      "**Slide 6: Challenges in ML Deployment**\n",
      "\n",
      "\"As exciting as deploying ML models is, there are numerous challenges that come with it. Some key difficulties include:\n",
      "\n",
      "* \"Data management and quality.\"\n",
      "* \"Model scalability and performance.\"\n",
      "* \"Integration with existing systems.\"\n",
      "* \"Monitoring and maintenance.\"\n",
      "* \"Security and privacy.\"\n",
      "\n",
      "[List each challenge with a brief description]\n",
      "\n",
      "[Emphasize the importance of addressing these challenges]\n",
      "\n",
      "\"Addressing these challenges requires careful consideration, expertise, and resources. In our next section, we'll discuss data management and model versioning.\"\n",
      "\n",
      "[Transition to next slide]\n",
      "\n",
      "**Slide 7: Data and Model Management**\n",
      "\n",
      "\"A crucial aspect of machine learning deployment is data and model management. This involves building and maintaining data pipelines for continuous data flow and tracking different versions of models.\"\n",
      "\n",
      "[List key aspects]\n",
      "\n",
      "* \"Data pipelines ensure high-quality data for our models.\"\n",
      "* \"Model versioning allows us to track changes and updates.\"\n",
      "\n",
      "[Highlight importance]\n",
      "\n",
      "\"Data and model management are critical for success in deployment. We'll discuss A/B testing next.\"\n",
      "\n",
      "[Transition to next slide]\n",
      "\n",
      "**Slide 8: A/B Testing**\n",
      "\n",
      "\"A/B testing is a widely used technique for comparing two model versions and determining which performs better based on specific metrics.\"\n",
      "\n",
      "[List key aspects]\n",
      "\n",
      "* \"A/B testing ensures statistically significant results.\"\n",
      "* \"It's widely used in real-world applications, such as recommendation systems and ad strategies.\"\n",
      "\n",
      "[Emphasize benefits]\n",
      "\n",
      "\"A/B testing helps us improve our models, optimize user experiences, and make data-driven decisions. Let's discuss security, compliance, and bias next.\"\n",
      "\n",
      "[Transition to next slide]\n",
      "\n",
      "**Slide 9: Security, Compliance, and Bias**\n",
      "\n",
      "\"Ensuring the security, compliance, and fairness of machine learning models is critical for success. This involves protecting sensitive data from unauthorized access, adhering to industry regulations, identifying and mitigating bias in models.\"\n",
      "\n",
      "[List key aspects]\n",
      "\n",
      "* \"Security involves encryption, secure APIs, and access controls.\"\n",
      "* \"Compliance involves GDPR or HIPAA, user consent, and regular audits.\"\n",
      "* \"Bias detection involves diverse training datasets, fairness-aware algorithms, and bias impact assessments.\"\n",
      "\n",
      "[Emphasize importance]\n",
      "\n",
      "\"Addressing security, compliance, and bias requires continuous monitoring, updating of models, and expertise. We'll discuss cost management next.\"\n",
      "\n",
      "[Transition to final slide, if applicable]\n",
      "\n",
      "Note: The script can be adjusted according to the specific requirements and needs of the presentation.\n"
     ]
    }
   ],
   "source": [
    "print(response)\n",
    "\n",
    "with open(\"data/ppt_script.md\",\"w\") as f:\n",
    "    f.write(response)"
   ]
  },
  {
   "cell_type": "markdown",
   "metadata": {},
   "source": [
    "## Excel Loader"
   ]
  },
  {
   "cell_type": "code",
   "execution_count": 13,
   "metadata": {},
   "outputs": [
    {
     "name": "stderr",
     "output_type": "stream",
     "text": [
      "[nltk_data] Downloading package punkt to\n",
      "[nltk_data]     /Users/ragnirupam/nltk_data...\n",
      "[nltk_data]   Unzipping tokenizers/punkt.zip.\n"
     ]
    },
    {
     "data": {
      "text/plain": [
       "True"
      ]
     },
     "execution_count": 13,
     "metadata": {},
     "output_type": "execute_result"
    }
   ],
   "source": [
    "import nltk\n",
    "nltk.download(\"punkt\")"
   ]
  },
  {
   "cell_type": "code",
   "execution_count": 14,
   "metadata": {},
   "outputs": [],
   "source": [
    "#!pip install unstructured openpyxl python-magic python-pptx\n",
    "#pip install \"unstructured[all-docs]\""
   ]
  },
  {
   "cell_type": "code",
   "execution_count": 15,
   "metadata": {},
   "outputs": [],
   "source": [
    "from langchain_community.document_loaders import UnstructuredExcelLoader"
   ]
  },
  {
   "cell_type": "code",
   "execution_count": 16,
   "metadata": {},
   "outputs": [
    {
     "data": {
      "text/plain": [
       "1"
      ]
     },
     "execution_count": 16,
     "metadata": {},
     "output_type": "execute_result"
    }
   ],
   "source": [
    "excel_loader= UnstructuredExcelLoader(\"data/sample.xlsx\",mode=\"elements\")\n",
    "excel_docs= excel_loader.load()\n",
    "\n",
    "len(excel_docs)"
   ]
  },
  {
   "cell_type": "code",
   "execution_count": 17,
   "metadata": {},
   "outputs": [
    {
     "data": {
      "text/plain": [
       "{'source': 'data/sample.xlsx',\n",
       " 'file_directory': 'data',\n",
       " 'filename': 'sample.xlsx',\n",
       " 'last_modified': '2025-03-27T22:05:47',\n",
       " 'page_name': 'Data',\n",
       " 'page_number': 1,\n",
       " 'text_as_html': '<table><tr><td>First Name</td><td>Last Name</td><td>City</td><td>Gender</td></tr><tr><td>Brandon</td><td>James</td><td>Miami</td><td>M</td></tr><tr><td>Sean</td><td>Hawkins</td><td>Denver</td><td>M</td></tr><tr><td>Judy</td><td>Day</td><td>Los Angeles</td><td>F</td></tr><tr><td>Ashley</td><td>Ruiz</td><td>San Francisco</td><td>F</td></tr><tr><td>Stephanie</td><td>Gomez</td><td>Portland</td><td>F</td></tr></table>',\n",
       " 'languages': ['eng'],\n",
       " 'filetype': 'application/vnd.openxmlformats-officedocument.spreadsheetml.sheet',\n",
       " 'category': 'Table',\n",
       " 'element_id': 'c44665196e07c27314922db69accb8b6'}"
      ]
     },
     "execution_count": 17,
     "metadata": {},
     "output_type": "execute_result"
    }
   ],
   "source": [
    "excel_doc= excel_docs[0]\n",
    "excel_doc.metadata"
   ]
  },
  {
   "cell_type": "code",
   "execution_count": 18,
   "metadata": {},
   "outputs": [
    {
     "data": {
      "text/plain": [
       "'First Name Last Name City Gender Brandon James Miami M Sean Hawkins Denver M Judy Day Los Angeles F Ashley Ruiz San Francisco F Stephanie Gomez Portland F'"
      ]
     },
     "execution_count": 18,
     "metadata": {},
     "output_type": "execute_result"
    }
   ],
   "source": [
    "excel_doc.page_content"
   ]
  },
  {
   "cell_type": "code",
   "execution_count": 19,
   "metadata": {},
   "outputs": [
    {
     "data": {
      "text/plain": [
       "'<table><tr><td>First Name</td><td>Last Name</td><td>City</td><td>Gender</td></tr><tr><td>Brandon</td><td>James</td><td>Miami</td><td>M</td></tr><tr><td>Sean</td><td>Hawkins</td><td>Denver</td><td>M</td></tr><tr><td>Judy</td><td>Day</td><td>Los Angeles</td><td>F</td></tr><tr><td>Ashley</td><td>Ruiz</td><td>San Francisco</td><td>F</td></tr><tr><td>Stephanie</td><td>Gomez</td><td>Portland</td><td>F</td></tr></table>'"
      ]
     },
     "execution_count": 19,
     "metadata": {},
     "output_type": "execute_result"
    }
   ],
   "source": [
    "context=excel_doc.metadata['text_as_html']\n",
    "context"
   ]
  },
  {
   "cell_type": "code",
   "execution_count": 20,
   "metadata": {},
   "outputs": [
    {
     "name": "stdout",
     "output_type": "stream",
     "text": [
      "| First Name | Last Name | City      | Gender |\n",
      "|------------|-----------|-----------|--------|\n",
      "| Brandon    | James     | Miami     | M       |\n",
      "| Sean       | Hawkins   | Denver    | M       |\n",
      "| Judy       | Day        | Los Angeles  | F       |\n",
      "| Ashley     | Ruiz      | San Francisco  | F       |\n",
      "| Stephanie  | Gomez     | Portland   | F       |\n"
     ]
    }
   ],
   "source": [
    "question = \" Return this data in Markdown Format\"\n",
    "\n",
    "excel_response= llm.ask_llm(context,question)\n",
    "print(excel_response)"
   ]
  },
  {
   "cell_type": "code",
   "execution_count": 21,
   "metadata": {},
   "outputs": [
    {
     "name": "stdout",
     "output_type": "stream",
     "text": [
      "### Female Entries\n",
      "| First Name | Last Name | City | Gender |\n",
      "|------------|-----------|------|--------|\n",
      "| Judy       | Day        | Los Angeles  | F      |\n",
      "| Ashley     | Ruiz       | San Francisco  | F      |\n",
      "| Stephanie  | Gomez      | Portland    | F      |\n"
     ]
    }
   ],
   "source": [
    "question = \" Return all enteries in table where Gender is 'Female'. Format response in Markdown \"\n",
    "\n",
    "excel_response= llm.ask_llm(context,question)\n",
    "print(excel_response)"
   ]
  },
  {
   "cell_type": "markdown",
   "metadata": {},
   "source": [
    "## Load DOCX Document"
   ]
  },
  {
   "cell_type": "code",
   "execution_count": 22,
   "metadata": {},
   "outputs": [],
   "source": [
    "#!pip install -U docx2txt"
   ]
  },
  {
   "cell_type": "code",
   "execution_count": 27,
   "metadata": {},
   "outputs": [],
   "source": [
    "from langchain_community.document_loaders import Docx2txtLoader\n",
    "\n",
    "loader = Docx2txtLoader(\"data/job_description.docx\" )\n",
    "docs= loader.load()"
   ]
  },
  {
   "cell_type": "code",
   "execution_count": 29,
   "metadata": {},
   "outputs": [
    {
     "data": {
      "text/plain": [
       "'Job Description - Data Scientist\\n\\nAt SpiceJet, we rely on data to provide us valuable insights, and to automate our systems and solutions to help us increase revenues, reduce costs and provide improved customer experiences. We are seeking an experienced data scientist to deliver insights and automate our systems and processes. Ideal team member will have mathematical and statistical expertise, experience with modern data science programming languages and machine learning/AI platforms and techniques. You will mine, clean and interpret our data and then develop machine learning models to deliver business value across different parts of the business. \\n\\nObjectives of this Role\\n\\nUse Data Science and Machine Learning to increase revenue, reduce costs and increase customer satisfaction.\\n\\nCollaborate with product design and engineering to develop an understanding of needs\\n\\nUnderstand where the required data resides and work on ways to extract the relevant data.\\n\\nResearch and devise statistical and machine learning models.\\n\\nCommunicate insights to stakeholders in an automated fashion to enable them to take business decisions.\\n\\nDeploy models in production to automate various processes.\\n\\n\\n\\nSkills and Qualifications\\n\\nBachelor’s degree in Data Science, Computer Science, Statistics, Applied mathematics, or related discipline\\n\\n3+ years experience in data science\\n\\nProficiency with Machine Learning platforms and techniques, data mining, mathematics, and statistical analysis\\n\\nPredictive modelling experience\\n\\nExperience with Python, R, Excel, Tableau, SQL\\n\\nComfortable working in a dynamic, research-oriented group with several ongoing concurrent projects\\n\\n\\n\\nPreferred Qualifications\\n\\nMaster’s degree in Data Science, Computer Science, Stats, Applied math, or related discipline\\n\\n2+ years of project management experience\\n\\n\\n\\nCompetencies:\\n\\nDefining: Can translate fuzzy problem in assigned area into formalized structure\\n\\nTroubleshooting: Can troubleshoot unseen problems in assigned area\\n\\nSolutioning:  Can independently implement the solution\\n\\nCoding Principles: Extensability, Abstraction, Separation of concerns, Chooses right Data Science/Machine learning techniques.\\n\\nCoding Quality: Performant, Integration tests coverage, implements security requirements.\\n\\nProgramming Language Proficiency: Usage of design patterns and knowledge of functional aspects.\\n\\nProject Management: Can break down tasks, identify dependencies and provide accurate effort estimates that feed into the larger plan. Proactively resolve dependencies and communicate around progress and blockers.\\n\\nExecution: Responsible for timely completion of assigned components including integration and deployment to appropriate environments. Complete ownership of quality including iterations with stakeholders to meet the desired objectives.\\n\\nResponsiveness: Understands team priorities. Own, identify and quick turn around for production issues that address the root cause.\\n\\nDesigning: Low level design, functional modeling, Adaptability, High level design with guidance\\n\\nAnalysis: Understanding impact of design changes\\n\\nNon Functional Attributes: Understands the basic concepts around performance and can contribute to measuring and improving performance. Understands scalability\\n\\nData Orientation: Apply algorithms to make smarter and intelligent data driven systems, Good understanding and know hows of various data tools/tech (e.g. Data Tools, IR and ML tools)'"
      ]
     },
     "execution_count": 29,
     "metadata": {},
     "output_type": "execute_result"
    }
   ],
   "source": [
    "context= docs[0].page_content\n",
    "context"
   ]
  },
  {
   "cell_type": "code",
   "execution_count": 30,
   "metadata": {},
   "outputs": [
    {
     "name": "stdout",
     "output_type": "stream",
     "text": [
      "Here's a concise job application email:\n",
      "\n",
      "Subject: Application for Data Scientist Position at SpiceJet\n",
      "\n",
      "Dear Hiring Manager,\n",
      "\n",
      "I'm excited to apply for the Data Scientist position at SpiceJet. With a recent graduate degree from IIT, focusing on Natural Language Processing and Machine Learning, I am confident that my skills align with your requirements.\n",
      "\n",
      "As a detail-oriented and analytical individual, I possess strong mathematical and statistical expertise, experience with modern data science programming languages (Python, R), and familiarity with machine learning/AI platforms. My passion for mining, cleaning, and interpreting data, as well as developing machine learning models, drives me to automate systems and processes to deliver business value.\n",
      "\n",
      "I'm eager to collaborate with product design and engineering teams to understand customer needs and work on extracting relevant data. I have a strong background in research and devising statistical and machine learning models, ensuring that insights are communicated effectively to stakeholders for informed business decisions.\n",
      "\n",
      "I'm excited about the opportunity to contribute my skills and experience to SpiceJet's dynamic team. Thank you for considering my application. I look forward to discussing how I can make a meaningful impact at your organization.\n",
      "\n",
      "Sincerely,\n",
      "Ar\n"
     ]
    }
   ],
   "source": [
    "question = \"\"\" My name is Ar, and I am a recent graduate from IIT with a focus on Natural Language Processing and Machine Learning.\n",
    "           I am applying for a Data Scientist position at SpiceJet\n",
    "           Please write a concise job application email for me in short, removing any placeholder, including refrences to job boards or sources.\n",
    "           \"\"\"\n",
    "\n",
    "excel_response= llm.ask_llm(context,question)\n",
    "print(excel_response)"
   ]
  },
  {
   "cell_type": "code",
   "execution_count": null,
   "metadata": {},
   "outputs": [],
   "source": []
  }
 ],
 "metadata": {
  "kernelspec": {
   "display_name": "genaienv",
   "language": "python",
   "name": "python3"
  },
  "language_info": {
   "codemirror_mode": {
    "name": "ipython",
    "version": 3
   },
   "file_extension": ".py",
   "mimetype": "text/x-python",
   "name": "python",
   "nbconvert_exporter": "python",
   "pygments_lexer": "ipython3",
   "version": "3.11.3"
  }
 },
 "nbformat": 4,
 "nbformat_minor": 2
}
