{
 "cells": [
  {
   "cell_type": "code",
   "execution_count": 5,
   "metadata": {},
   "outputs": [
    {
     "name": "stdout",
     "output_type": "stream",
     "text": [
      "https://api.smith.langchain.com\n"
     ]
    }
   ],
   "source": [
    "from dotenv import load_dotenv\n",
    "import os\n",
    "\n",
    "env_path = \"../OllamaSetup/.env\"  # Relative path from PromptTemplates\n",
    "load_dotenv(env_path)\n",
    "\n",
    "# Check if variables are loaded\n",
    "print(os.getenv(\"LANGCHAIN_ENDPOINT\")) "
   ]
  },
  {
   "cell_type": "code",
   "execution_count": null,
   "metadata": {},
   "outputs": [
    {
     "name": "stdout",
     "output_type": "stream",
     "text": [
      "Here are three key points about India:\n",
      "\n",
      "1. **Diverse Culture and Geography**: India is a vast and diverse country, with a population of over 1.4 billion people, spread across 33 states and eight union territories. It has a rich cultural heritage, with many different languages, customs, and traditions. The country is also home to some of the world's most impressive natural wonders, including the Himalayas, the Red Fort in Delhi, and the Taj Mahal.\n",
      "\n",
      "2. **Economic Powerhouse**: India is the world's 5th largest economy, with a GDP of over $3 trillion. It is a major player on the global stage, with significant investments in technology, IT, and manufacturing. The country has made rapid economic progress in recent years, driven by a growing middle class and increased access to education and healthcare.\n",
      "\n",
      "3. **Spiritual Significance**: India is home to some of the world's most famous spiritual sites, including the Ganges River, the sacred city of Varanasi, and the holy caves of Ajanta and Ellora. The country has a long history of spirituality, with many different faiths represented, including Hinduism, Buddhism, Jainism, and Islam. India is also home to some of the world's most famous spiritual leaders, such as Mahatma Gandhi and B.R. Ambedkar.\n"
     ]
    }
   ],
   "source": [
    "from langchain_ollama import ChatOllama\n",
    "base_url=\"http://localhost:11434\"\n",
    "model = 'llama3.2:1b'\n",
    "# model='sheldon'\n",
    "\n",
    "\n",
    "\n",
    "\n",
    "llm = ChatOllama(\n",
    "    base_url=base_url,\n",
    "    model = model\n",
    "    \n",
    ")\n",
    "\n",
    "response=llm.invoke('Tell me about India in 3 points')\n",
    "print(response.content)\n"
   ]
  },
  {
   "cell_type": "markdown",
   "metadata": {},
   "source": [
    "### LangChain Messages"
   ]
  },
  {
   "cell_type": "code",
   "execution_count": 7,
   "metadata": {},
   "outputs": [],
   "source": [
    "from langchain_core.messages import SystemMessage,HumanMessage"
   ]
  },
  {
   "cell_type": "code",
   "execution_count": null,
   "metadata": {},
   "outputs": [],
   "source": [
    "from langchain_ollama import ChatOllama\n",
    "base_url=\"http://localhost:11434\"\n",
    "model = 'llama3.2:1b'\n",
    "# model='sheldon'\n",
    "\n",
    "\n",
    "llm = ChatOllama(\n",
    "    base_url=base_url,\n",
    "    model = model)\n",
    "\n",
    "#question= \"Tell me about planets in 3 points\""
   ]
  },
  {
   "cell_type": "code",
   "execution_count": 9,
   "metadata": {},
   "outputs": [
    {
     "name": "stdout",
     "output_type": "stream",
     "text": [
      "Here are three points about planets:\n",
      "\n",
      "1. There are eight planets in our solar system:\n",
      "   - Mercury\n",
      "   - Venus\n",
      "   - Earth\n",
      "   - Mars\n",
      "   - Jupiter\n",
      "   - Saturn\n",
      "   - Uranus\n",
      "   - Neptune\n",
      "\n",
      "2. The planets are classified into two categories: rocky and gas giants.\n",
      "   - Rocky planets have a solid surface, like Earth.\n",
      "   - Gas giants are made of air or gas, like Jupiter.\n",
      "\n",
      "3. Each planet has its own unique features:\n",
      "   - Mercury is closest to the sun.\n",
      "   - Venus is very hot and covered in thick clouds.\n",
      "   - Mars is known as the Red Planet because it's red in color due to iron oxide.\n"
     ]
    }
   ],
   "source": [
    "question = HumanMessage(\"Tell me about planets in 3 points\")\n",
    "sys_message = SystemMessage(\"You are elementary teacher.You answer in short sentences\")\n",
    "\n",
    "messages=[sys_message,question]\n",
    "response=llm.invoke(messages)\n",
    "\n",
    "print(response.content)\n"
   ]
  },
  {
   "cell_type": "code",
   "execution_count": 10,
   "metadata": {},
   "outputs": [
    {
     "name": "stdout",
     "output_type": "stream",
     "text": [
      "Here are three key points about planets:\n",
      "\n",
      "* Mercury is the smallest planet, with a diameter of approximately 4,879 kilometers.\n",
      "* Mars is known for its reddish appearance due to iron oxide in the soil, and has polar ice caps that suggest water may have existed on the surface in the past.\n",
      "* Jupiter is the largest planet, with a diameter of over 142,984 kilometers, and is made up mostly of hydrogen and helium gases.\n"
     ]
    }
   ],
   "source": [
    "question = HumanMessage(\"Tell me about planets in 3 points\")\n",
    "sys_message = SystemMessage(\"You are Scientist.You answer in short sentences\")\n",
    "\n",
    "messages=[sys_message,question]\n",
    "response=llm.invoke(messages)\n",
    "\n",
    "print(response.content)\n"
   ]
  },
  {
   "cell_type": "markdown",
   "metadata": {},
   "source": [
    "### Langchain Prompt Template"
   ]
  },
  {
   "cell_type": "code",
   "execution_count": 11,
   "metadata": {},
   "outputs": [],
   "source": [
    "from langchain_core.prompts import (\n",
    "                                        SystemMessagePromptTemplate,\n",
    "                                        HumanMessagePromptTemplate,\n",
    "                                        PromptTemplate,\n",
    "                                        ChatPromptTemplate\n",
    ")"
   ]
  },
  {
   "cell_type": "code",
   "execution_count": 15,
   "metadata": {},
   "outputs": [],
   "source": [
    "question = HumanMessagePromptTemplate.from_template(\"Tell me about {topic} in {points} points\")\n",
    "sys_message = SystemMessagePromptTemplate.from_template(\"You are {role}.You answer in short sentences\")\n"
   ]
  },
  {
   "cell_type": "code",
   "execution_count": 18,
   "metadata": {},
   "outputs": [
    {
     "data": {
      "text/plain": [
       "HumanMessage(content='Tell me about Planets in 5 points', additional_kwargs={}, response_metadata={})"
      ]
     },
     "execution_count": 18,
     "metadata": {},
     "output_type": "execute_result"
    }
   ],
   "source": [
    "question.format(topic='Planets',points='5')"
   ]
  },
  {
   "cell_type": "code",
   "execution_count": 16,
   "metadata": {},
   "outputs": [
    {
     "data": {
      "text/plain": [
       "SystemMessage(content='You are teacher.You answer in short sentences', additional_kwargs={}, response_metadata={})"
      ]
     },
     "execution_count": 16,
     "metadata": {},
     "output_type": "execute_result"
    }
   ],
   "source": [
    "sys_message.format(role='teacher')"
   ]
  },
  {
   "cell_type": "code",
   "execution_count": 21,
   "metadata": {},
   "outputs": [],
   "source": [
    "msg=[sys_message,question]\n",
    "template_for_question= ChatPromptTemplate(msg)"
   ]
  },
  {
   "cell_type": "code",
   "execution_count": 22,
   "metadata": {},
   "outputs": [
    {
     "data": {
      "text/plain": [
       "ChatPromptTemplate(input_variables=['points', 'role', 'topic'], input_types={}, partial_variables={}, messages=[SystemMessagePromptTemplate(prompt=PromptTemplate(input_variables=['role'], input_types={}, partial_variables={}, template='You are {role}.You answer in short sentences'), additional_kwargs={}), HumanMessagePromptTemplate(prompt=PromptTemplate(input_variables=['points', 'topic'], input_types={}, partial_variables={}, template='Tell me about {topic} in {points} points'), additional_kwargs={})])"
      ]
     },
     "execution_count": 22,
     "metadata": {},
     "output_type": "execute_result"
    }
   ],
   "source": [
    "template_for_question"
   ]
  },
  {
   "cell_type": "code",
   "execution_count": 25,
   "metadata": {},
   "outputs": [
    {
     "name": "stdout",
     "output_type": "stream",
     "text": [
      "Here are five key points about planets:\n",
      "\n",
      "1. Our solar system has eight planets, including Mercury, Venus, Earth, Mars, Jupiter, Saturn, Uranus, and Neptune.\n",
      "\n",
      "2. The four largest planets in our solar system are Jupiter, Saturn, Uranus, and Neptune.\n",
      "\n",
      "3. Each planet is unique with its own atmosphere, size, and composition.\n",
      "\n",
      "4. Planets can be classified into two main categories: rocky (Earth) and gas giants (Jupiter, Saturn).\n",
      "\n",
      "5. Pluto was previously considered a planet but was reclassified as a dwarf planet in 2006 by the International Astronomical Union.\n"
     ]
    }
   ],
   "source": [
    "final_question= template_for_question.invoke({'topic':'Planets','points':'5','role':'teacher'})\n",
    "ans= llm.invoke(final_question)\n",
    "print(ans.content)"
   ]
  },
  {
   "cell_type": "code",
   "execution_count": 26,
   "metadata": {},
   "outputs": [
    {
     "name": "stdout",
     "output_type": "stream",
     "text": [
      "Here are five key points about planets:\n",
      "\n",
      "1. **Jupiter is the largest planet**: It's a gas giant, with a diameter of over 89,000 miles (143,000 km), more than 11 times the size of Earth.\n",
      "2. **Earth has two moons**: The Moon orbits around our planet in an elliptical path, and it takes 27.3 days to complete one orbit.\n",
      "3. **Venus is often called Earth's twin**: Both planets are similar in size and mass, but Venus rotates clockwise while Earth rotates counterclockwise.\n",
      "4. **Mars has the tallest volcano**: Olympus Mons on Mars is the largest volcano in our solar system, with a height of over 27 km (17 mi) above its base.\n",
      "5. **Saturn's rings are made of ice**: The rings are composed of water ice and rock particles, stretching out hundreds of thousands of miles (kilometers).\n"
     ]
    }
   ],
   "source": [
    "final_question= template_for_question.invoke({'topic':'Planets','points':'5','role':'Scientist'})\n",
    "ans= llm.invoke(final_question)\n",
    "print(ans.content)"
   ]
  },
  {
   "cell_type": "code",
   "execution_count": null,
   "metadata": {},
   "outputs": [],
   "source": []
  }
 ],
 "metadata": {
  "kernelspec": {
   "display_name": "genaienv",
   "language": "python",
   "name": "python3"
  },
  "language_info": {
   "codemirror_mode": {
    "name": "ipython",
    "version": 3
   },
   "file_extension": ".py",
   "mimetype": "text/x-python",
   "name": "python",
   "nbconvert_exporter": "python",
   "pygments_lexer": "ipython3",
   "version": "3.11.3"
  }
 },
 "nbformat": 4,
 "nbformat_minor": 2
}
